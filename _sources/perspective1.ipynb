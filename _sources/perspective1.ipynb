{
 "cells": [
  {
   "cell_type": "markdown",
   "id": "70113071",
   "metadata": {},
   "source": [
    "\n",
    "# Perspectief 1 – EV’s als primaire oplossing\n",
    "Dit hoofdstuk onderzoekt of een stijgend aandeel elektrische voertuigen (EV’s) leidt tot **lagere CO₂‑uitstoot** van nieuw geregistreerde auto’s.  \n",
    "We gebruiken twee visualisaties:\n",
    "\n",
    "1. **Lijngrafiek** – EV‑aandeel per land (2010‑2023)  \n",
    "2. **Scatter + slider** – EV‑aandeel vs. CO₂‑uitstoot per land/jaar\n"
   ]
  },
  {
   "cell_type": "code",
   "execution_count": 1,
   "id": "453b4195",
   "metadata": {},
   "outputs": [],
   "source": [
    "\n",
    "import pandas as pd\n",
    "import plotly.express as px\n",
    "import plotly.graph_objects as go\n",
    "\n",
    "# relatieve paden vanuit docs/\n",
    "cars = pd.read_csv('../data/cars_by_fuel.csv')\n",
    "co2  = pd.read_csv('../data/co2_new_cars.csv')\n",
    "\n",
    "# ---------- Voorbewerking ----------\n",
    "tmp = {}                       # key = geo-year\n",
    "for _, r in cars.iterrows():\n",
    "    key = f\"{r.geo}-{r.TIME_PERIOD}\"\n",
    "    tmp.setdefault(key, {'geo': r.geo, 'year': int(r.TIME_PERIOD),\n",
    "                         'elc': 0, 'total': 0})\n",
    "    if r.mot_nrg == 'ELC':\n",
    "        tmp[key]['elc'] = r.OBS_VALUE\n",
    "    elif r.mot_nrg == 'TOTAL':\n",
    "        tmp[key]['total'] = r.OBS_VALUE\n",
    "\n",
    "for _, r in co2.iterrows():\n",
    "    key = f\"{r.geo}-{r.TIME_PERIOD}\"\n",
    "    if key in tmp:\n",
    "        tmp[key]['co2'] = r.OBS_VALUE\n",
    "\n",
    "df = (pd.DataFrame(tmp.values())\n",
    "        .dropna(subset=['co2'])\n",
    "        .assign(evShare=lambda d: d.elc / d.total * 100))\n",
    "\n",
    "focus = df[df.geo.isin(['NL', 'DE', 'NO', 'PL', 'FR', 'ES'])]  # zes landen\n",
    "code2name = dict(NL='Nederland', DE='Duitsland', NO='Noorwegen',\n",
    "                 PL='Polen',     FR='Frankrijk', ES='Spanje')\n"
   ]
  },
  {
   "cell_type": "markdown",
   "id": "bbc340ed",
   "metadata": {},
   "source": [
    "## Visualisatie 1.1 – EV‑aandeel per land (2010‑2023)"
   ]
  },
  {
   "cell_type": "code",
   "execution_count": 2,
   "id": "b3dee7b1",
   "metadata": {},
   "outputs": [
    {
     "data": {
      "application/vnd.plotly.v1+json": {
       "config": {
        "plotlyServerURL": "https://plot.ly"
       },
       "data": [
        {
         "hovertemplate": "Land=Duitsland<br>Jaar=%{x}<br>EV‑aandeel (%)=%{y}<extra></extra>",
         "legendgroup": "Duitsland",
         "line": {
          "color": "#636efa",
          "dash": "solid"
         },
         "marker": {
          "symbol": "circle"
         },
         "mode": "lines+markers",
         "name": "Duitsland",
         "orientation": "v",
         "showlegend": true,
         "type": "scatter",
         "x": [
          2014,
          2015,
          2016,
          2017,
          2018,
          2019,
          2020,
          2021,
          2022,
          2023
         ],
         "xaxis": "x",
         "y": [
          0.04278990158322636,
          0.05768676088837611,
          0.07427806921558062,
          0.11589342770805056,
          0.1766081651809852,
          0.2863129052141173,
          0.6406053284382398,
          1.2741013872884623,
          2.0774116689535083,
          2.8690809132668216
         ],
         "yaxis": "y"
        },
        {
         "hovertemplate": "Land=Spanje<br>Jaar=%{x}<br>EV‑aandeel (%)=%{y}<extra></extra>",
         "legendgroup": "Spanje",
         "line": {
          "color": "#EF553B",
          "dash": "solid"
         },
         "marker": {
          "symbol": "circle"
         },
         "mode": "lines+markers",
         "name": "Spanje",
         "orientation": "v",
         "showlegend": true,
         "type": "scatter",
         "x": [
          2014,
          2015,
          2016,
          2017,
          2018,
          2019,
          2020,
          2021,
          2022,
          2023
         ],
         "xaxis": "x",
         "y": [
          0.01285548222765897,
          0.023452790177508055,
          0.025160828663761545,
          0.039231567029387446,
          0.06269712644427662,
          0.10139497532684852,
          0.1659461633510531,
          0.25133223006020944,
          0.35938839362329816,
          0.5612114537296874
         ],
         "yaxis": "y"
        },
        {
         "hovertemplate": "Land=Frankrijk<br>Jaar=%{x}<br>EV‑aandeel (%)=%{y}<extra></extra>",
         "legendgroup": "Frankrijk",
         "line": {
          "color": "#00cc96",
          "dash": "solid"
         },
         "marker": {
          "symbol": "circle"
         },
         "mode": "lines+markers",
         "name": "Frankrijk",
         "orientation": "v",
         "showlegend": true,
         "type": "scatter",
         "x": [
          2014,
          2015,
          2016,
          2017,
          2018,
          2019,
          2020,
          2021,
          2022,
          2023
         ],
         "xaxis": "x",
         "y": [
          0.07080900143672691,
          0.11269738078441476,
          0.16281481432719402,
          0.21638524901172457,
          0.278553324471894,
          0.36791389591032747,
          0.6371744689426384,
          1.0391074155771922,
          1.5333267861648447,
          2.2115722218746696
         ],
         "yaxis": "y"
        },
        {
         "hovertemplate": "Land=Nederland<br>Jaar=%{x}<br>EV‑aandeel (%)=%{y}<extra></extra>",
         "legendgroup": "Nederland",
         "line": {
          "color": "#ab63fa",
          "dash": "solid"
         },
         "marker": {
          "symbol": "circle"
         },
         "mode": "lines+markers",
         "name": "Nederland",
         "orientation": "v",
         "showlegend": true,
         "type": "scatter",
         "x": [
          2014,
          2015,
          2016,
          2017,
          2018,
          2019,
          2020,
          2021,
          2022,
          2023
         ],
         "xaxis": "x",
         "y": [
          0.08553614494297151,
          0.12297453703703703,
          0.16671583784650176,
          0.2608546938319246,
          0.528024340215341,
          1.237501879865444,
          2.000789968800722,
          2.7763828644555453,
          3.7020190516946805,
          4.90404463554188
         ],
         "yaxis": "y"
        },
        {
         "hovertemplate": "Land=Noorwegen<br>Jaar=%{x}<br>EV‑aandeel (%)=%{y}<extra></extra>",
         "legendgroup": "Noorwegen",
         "line": {
          "color": "#FFA15A",
          "dash": "solid"
         },
         "marker": {
          "symbol": "circle"
         },
         "mode": "lines+markers",
         "name": "Noorwegen",
         "orientation": "v",
         "showlegend": true,
         "type": "scatter",
         "x": [
          2021,
          2022,
          2023
         ],
         "xaxis": "x",
         "y": [
          15.49814269373511,
          20.1249002891284,
          23.85355650418281
         ],
         "yaxis": "y"
        },
        {
         "hovertemplate": "Land=Polen<br>Jaar=%{x}<br>EV‑aandeel (%)=%{y}<extra></extra>",
         "legendgroup": "Polen",
         "line": {
          "color": "#19d3f3",
          "dash": "solid"
         },
         "marker": {
          "symbol": "circle"
         },
         "mode": "lines+markers",
         "name": "Polen",
         "orientation": "v",
         "showlegend": true,
         "type": "scatter",
         "x": [
          2014,
          2015,
          2016,
          2017,
          2018,
          2019,
          2020,
          2021,
          2022,
          2023
         ],
         "xaxis": "x",
         "y": [
          0.0007648522687842844,
          0.0012158712842015849,
          0.0018591324646839626,
          0.0046506517114995195,
          0.015157369201019311,
          0.02529163257780341,
          0.04656467579487431,
          0.08490351215936574,
          0.14372660469815107,
          0.23564768038386294
         ],
         "yaxis": "y"
        }
       ],
       "layout": {
        "legend": {
         "title": {
          "text": "Land"
         },
         "tracegroupgap": 0
        },
        "template": {
         "data": {
          "bar": [
           {
            "error_x": {
             "color": "#2a3f5f"
            },
            "error_y": {
             "color": "#2a3f5f"
            },
            "marker": {
             "line": {
              "color": "#E5ECF6",
              "width": 0.5
             },
             "pattern": {
              "fillmode": "overlay",
              "size": 10,
              "solidity": 0.2
             }
            },
            "type": "bar"
           }
          ],
          "barpolar": [
           {
            "marker": {
             "line": {
              "color": "#E5ECF6",
              "width": 0.5
             },
             "pattern": {
              "fillmode": "overlay",
              "size": 10,
              "solidity": 0.2
             }
            },
            "type": "barpolar"
           }
          ],
          "carpet": [
           {
            "aaxis": {
             "endlinecolor": "#2a3f5f",
             "gridcolor": "white",
             "linecolor": "white",
             "minorgridcolor": "white",
             "startlinecolor": "#2a3f5f"
            },
            "baxis": {
             "endlinecolor": "#2a3f5f",
             "gridcolor": "white",
             "linecolor": "white",
             "minorgridcolor": "white",
             "startlinecolor": "#2a3f5f"
            },
            "type": "carpet"
           }
          ],
          "choropleth": [
           {
            "colorbar": {
             "outlinewidth": 0,
             "ticks": ""
            },
            "type": "choropleth"
           }
          ],
          "contour": [
           {
            "colorbar": {
             "outlinewidth": 0,
             "ticks": ""
            },
            "colorscale": [
             [
              0,
              "#0d0887"
             ],
             [
              0.1111111111111111,
              "#46039f"
             ],
             [
              0.2222222222222222,
              "#7201a8"
             ],
             [
              0.3333333333333333,
              "#9c179e"
             ],
             [
              0.4444444444444444,
              "#bd3786"
             ],
             [
              0.5555555555555556,
              "#d8576b"
             ],
             [
              0.6666666666666666,
              "#ed7953"
             ],
             [
              0.7777777777777778,
              "#fb9f3a"
             ],
             [
              0.8888888888888888,
              "#fdca26"
             ],
             [
              1,
              "#f0f921"
             ]
            ],
            "type": "contour"
           }
          ],
          "contourcarpet": [
           {
            "colorbar": {
             "outlinewidth": 0,
             "ticks": ""
            },
            "type": "contourcarpet"
           }
          ],
          "heatmap": [
           {
            "colorbar": {
             "outlinewidth": 0,
             "ticks": ""
            },
            "colorscale": [
             [
              0,
              "#0d0887"
             ],
             [
              0.1111111111111111,
              "#46039f"
             ],
             [
              0.2222222222222222,
              "#7201a8"
             ],
             [
              0.3333333333333333,
              "#9c179e"
             ],
             [
              0.4444444444444444,
              "#bd3786"
             ],
             [
              0.5555555555555556,
              "#d8576b"
             ],
             [
              0.6666666666666666,
              "#ed7953"
             ],
             [
              0.7777777777777778,
              "#fb9f3a"
             ],
             [
              0.8888888888888888,
              "#fdca26"
             ],
             [
              1,
              "#f0f921"
             ]
            ],
            "type": "heatmap"
           }
          ],
          "heatmapgl": [
           {
            "colorbar": {
             "outlinewidth": 0,
             "ticks": ""
            },
            "colorscale": [
             [
              0,
              "#0d0887"
             ],
             [
              0.1111111111111111,
              "#46039f"
             ],
             [
              0.2222222222222222,
              "#7201a8"
             ],
             [
              0.3333333333333333,
              "#9c179e"
             ],
             [
              0.4444444444444444,
              "#bd3786"
             ],
             [
              0.5555555555555556,
              "#d8576b"
             ],
             [
              0.6666666666666666,
              "#ed7953"
             ],
             [
              0.7777777777777778,
              "#fb9f3a"
             ],
             [
              0.8888888888888888,
              "#fdca26"
             ],
             [
              1,
              "#f0f921"
             ]
            ],
            "type": "heatmapgl"
           }
          ],
          "histogram": [
           {
            "marker": {
             "pattern": {
              "fillmode": "overlay",
              "size": 10,
              "solidity": 0.2
             }
            },
            "type": "histogram"
           }
          ],
          "histogram2d": [
           {
            "colorbar": {
             "outlinewidth": 0,
             "ticks": ""
            },
            "colorscale": [
             [
              0,
              "#0d0887"
             ],
             [
              0.1111111111111111,
              "#46039f"
             ],
             [
              0.2222222222222222,
              "#7201a8"
             ],
             [
              0.3333333333333333,
              "#9c179e"
             ],
             [
              0.4444444444444444,
              "#bd3786"
             ],
             [
              0.5555555555555556,
              "#d8576b"
             ],
             [
              0.6666666666666666,
              "#ed7953"
             ],
             [
              0.7777777777777778,
              "#fb9f3a"
             ],
             [
              0.8888888888888888,
              "#fdca26"
             ],
             [
              1,
              "#f0f921"
             ]
            ],
            "type": "histogram2d"
           }
          ],
          "histogram2dcontour": [
           {
            "colorbar": {
             "outlinewidth": 0,
             "ticks": ""
            },
            "colorscale": [
             [
              0,
              "#0d0887"
             ],
             [
              0.1111111111111111,
              "#46039f"
             ],
             [
              0.2222222222222222,
              "#7201a8"
             ],
             [
              0.3333333333333333,
              "#9c179e"
             ],
             [
              0.4444444444444444,
              "#bd3786"
             ],
             [
              0.5555555555555556,
              "#d8576b"
             ],
             [
              0.6666666666666666,
              "#ed7953"
             ],
             [
              0.7777777777777778,
              "#fb9f3a"
             ],
             [
              0.8888888888888888,
              "#fdca26"
             ],
             [
              1,
              "#f0f921"
             ]
            ],
            "type": "histogram2dcontour"
           }
          ],
          "mesh3d": [
           {
            "colorbar": {
             "outlinewidth": 0,
             "ticks": ""
            },
            "type": "mesh3d"
           }
          ],
          "parcoords": [
           {
            "line": {
             "colorbar": {
              "outlinewidth": 0,
              "ticks": ""
             }
            },
            "type": "parcoords"
           }
          ],
          "pie": [
           {
            "automargin": true,
            "type": "pie"
           }
          ],
          "scatter": [
           {
            "fillpattern": {
             "fillmode": "overlay",
             "size": 10,
             "solidity": 0.2
            },
            "type": "scatter"
           }
          ],
          "scatter3d": [
           {
            "line": {
             "colorbar": {
              "outlinewidth": 0,
              "ticks": ""
             }
            },
            "marker": {
             "colorbar": {
              "outlinewidth": 0,
              "ticks": ""
             }
            },
            "type": "scatter3d"
           }
          ],
          "scattercarpet": [
           {
            "marker": {
             "colorbar": {
              "outlinewidth": 0,
              "ticks": ""
             }
            },
            "type": "scattercarpet"
           }
          ],
          "scattergeo": [
           {
            "marker": {
             "colorbar": {
              "outlinewidth": 0,
              "ticks": ""
             }
            },
            "type": "scattergeo"
           }
          ],
          "scattergl": [
           {
            "marker": {
             "colorbar": {
              "outlinewidth": 0,
              "ticks": ""
             }
            },
            "type": "scattergl"
           }
          ],
          "scattermapbox": [
           {
            "marker": {
             "colorbar": {
              "outlinewidth": 0,
              "ticks": ""
             }
            },
            "type": "scattermapbox"
           }
          ],
          "scatterpolar": [
           {
            "marker": {
             "colorbar": {
              "outlinewidth": 0,
              "ticks": ""
             }
            },
            "type": "scatterpolar"
           }
          ],
          "scatterpolargl": [
           {
            "marker": {
             "colorbar": {
              "outlinewidth": 0,
              "ticks": ""
             }
            },
            "type": "scatterpolargl"
           }
          ],
          "scatterternary": [
           {
            "marker": {
             "colorbar": {
              "outlinewidth": 0,
              "ticks": ""
             }
            },
            "type": "scatterternary"
           }
          ],
          "surface": [
           {
            "colorbar": {
             "outlinewidth": 0,
             "ticks": ""
            },
            "colorscale": [
             [
              0,
              "#0d0887"
             ],
             [
              0.1111111111111111,
              "#46039f"
             ],
             [
              0.2222222222222222,
              "#7201a8"
             ],
             [
              0.3333333333333333,
              "#9c179e"
             ],
             [
              0.4444444444444444,
              "#bd3786"
             ],
             [
              0.5555555555555556,
              "#d8576b"
             ],
             [
              0.6666666666666666,
              "#ed7953"
             ],
             [
              0.7777777777777778,
              "#fb9f3a"
             ],
             [
              0.8888888888888888,
              "#fdca26"
             ],
             [
              1,
              "#f0f921"
             ]
            ],
            "type": "surface"
           }
          ],
          "table": [
           {
            "cells": {
             "fill": {
              "color": "#EBF0F8"
             },
             "line": {
              "color": "white"
             }
            },
            "header": {
             "fill": {
              "color": "#C8D4E3"
             },
             "line": {
              "color": "white"
             }
            },
            "type": "table"
           }
          ]
         },
         "layout": {
          "annotationdefaults": {
           "arrowcolor": "#2a3f5f",
           "arrowhead": 0,
           "arrowwidth": 1
          },
          "autotypenumbers": "strict",
          "coloraxis": {
           "colorbar": {
            "outlinewidth": 0,
            "ticks": ""
           }
          },
          "colorscale": {
           "diverging": [
            [
             0,
             "#8e0152"
            ],
            [
             0.1,
             "#c51b7d"
            ],
            [
             0.2,
             "#de77ae"
            ],
            [
             0.3,
             "#f1b6da"
            ],
            [
             0.4,
             "#fde0ef"
            ],
            [
             0.5,
             "#f7f7f7"
            ],
            [
             0.6,
             "#e6f5d0"
            ],
            [
             0.7,
             "#b8e186"
            ],
            [
             0.8,
             "#7fbc41"
            ],
            [
             0.9,
             "#4d9221"
            ],
            [
             1,
             "#276419"
            ]
           ],
           "sequential": [
            [
             0,
             "#0d0887"
            ],
            [
             0.1111111111111111,
             "#46039f"
            ],
            [
             0.2222222222222222,
             "#7201a8"
            ],
            [
             0.3333333333333333,
             "#9c179e"
            ],
            [
             0.4444444444444444,
             "#bd3786"
            ],
            [
             0.5555555555555556,
             "#d8576b"
            ],
            [
             0.6666666666666666,
             "#ed7953"
            ],
            [
             0.7777777777777778,
             "#fb9f3a"
            ],
            [
             0.8888888888888888,
             "#fdca26"
            ],
            [
             1,
             "#f0f921"
            ]
           ],
           "sequentialminus": [
            [
             0,
             "#0d0887"
            ],
            [
             0.1111111111111111,
             "#46039f"
            ],
            [
             0.2222222222222222,
             "#7201a8"
            ],
            [
             0.3333333333333333,
             "#9c179e"
            ],
            [
             0.4444444444444444,
             "#bd3786"
            ],
            [
             0.5555555555555556,
             "#d8576b"
            ],
            [
             0.6666666666666666,
             "#ed7953"
            ],
            [
             0.7777777777777778,
             "#fb9f3a"
            ],
            [
             0.8888888888888888,
             "#fdca26"
            ],
            [
             1,
             "#f0f921"
            ]
           ]
          },
          "colorway": [
           "#636efa",
           "#EF553B",
           "#00cc96",
           "#ab63fa",
           "#FFA15A",
           "#19d3f3",
           "#FF6692",
           "#B6E880",
           "#FF97FF",
           "#FECB52"
          ],
          "font": {
           "color": "#2a3f5f"
          },
          "geo": {
           "bgcolor": "white",
           "lakecolor": "white",
           "landcolor": "#E5ECF6",
           "showlakes": true,
           "showland": true,
           "subunitcolor": "white"
          },
          "hoverlabel": {
           "align": "left"
          },
          "hovermode": "closest",
          "mapbox": {
           "style": "light"
          },
          "paper_bgcolor": "white",
          "plot_bgcolor": "#E5ECF6",
          "polar": {
           "angularaxis": {
            "gridcolor": "white",
            "linecolor": "white",
            "ticks": ""
           },
           "bgcolor": "#E5ECF6",
           "radialaxis": {
            "gridcolor": "white",
            "linecolor": "white",
            "ticks": ""
           }
          },
          "scene": {
           "xaxis": {
            "backgroundcolor": "#E5ECF6",
            "gridcolor": "white",
            "gridwidth": 2,
            "linecolor": "white",
            "showbackground": true,
            "ticks": "",
            "zerolinecolor": "white"
           },
           "yaxis": {
            "backgroundcolor": "#E5ECF6",
            "gridcolor": "white",
            "gridwidth": 2,
            "linecolor": "white",
            "showbackground": true,
            "ticks": "",
            "zerolinecolor": "white"
           },
           "zaxis": {
            "backgroundcolor": "#E5ECF6",
            "gridcolor": "white",
            "gridwidth": 2,
            "linecolor": "white",
            "showbackground": true,
            "ticks": "",
            "zerolinecolor": "white"
           }
          },
          "shapedefaults": {
           "line": {
            "color": "#2a3f5f"
           }
          },
          "ternary": {
           "aaxis": {
            "gridcolor": "white",
            "linecolor": "white",
            "ticks": ""
           },
           "baxis": {
            "gridcolor": "white",
            "linecolor": "white",
            "ticks": ""
           },
           "bgcolor": "#E5ECF6",
           "caxis": {
            "gridcolor": "white",
            "linecolor": "white",
            "ticks": ""
           }
          },
          "title": {
           "x": 0.05
          },
          "xaxis": {
           "automargin": true,
           "gridcolor": "white",
           "linecolor": "white",
           "ticks": "",
           "title": {
            "standoff": 15
           },
           "zerolinecolor": "white",
           "zerolinewidth": 2
          },
          "yaxis": {
           "automargin": true,
           "gridcolor": "white",
           "linecolor": "white",
           "ticks": "",
           "title": {
            "standoff": 15
           },
           "zerolinecolor": "white",
           "zerolinewidth": 2
          }
         }
        },
        "title": {
         "text": "EV‑aandeel in geselecteerde landen"
        },
        "xaxis": {
         "anchor": "y",
         "domain": [
          0,
          1
         ],
         "title": {
          "text": "Jaar"
         }
        },
        "yaxis": {
         "anchor": "x",
         "domain": [
          0,
          1
         ],
         "ticksuffix": "%",
         "title": {
          "text": "EV‑aandeel (%)"
         }
        }
       }
      }
     },
     "metadata": {},
     "output_type": "display_data"
    }
   ],
   "source": [
    "\n",
    "fig_line = px.line(\n",
    "    focus.replace({'geo': code2name}),\n",
    "    x='year', y='evShare', color='geo',\n",
    "    title='EV‑aandeel in geselecteerde landen',\n",
    "    labels=dict(year='Jaar', evShare='EV‑aandeel (%)', geo='Land')\n",
    ")\n",
    "fig_line.update_traces(mode='lines+markers')\n",
    "fig_line.update_yaxes(ticksuffix='%')\n",
    "fig_line.show()\n"
   ]
  },
  {
   "cell_type": "markdown",
   "id": "e46409ac",
   "metadata": {},
   "source": [
    "**Interpretatie**  \n",
    "Noorwegen springt eruit met het hoogste EV‑aandeel, terwijl Polen en Spanje achterblijven. Beleidskeuzes en laadinfrastructuur blijken bepalend."
   ]
  },
  {
   "cell_type": "markdown",
   "id": "16c6926e",
   "metadata": {},
   "source": [
    "## Visualisatie 1.2 – CO₂‑uitstoot vs. EV‑aandeel (slider)"
   ]
  },
  {
   "cell_type": "code",
   "execution_count": 3,
   "id": "1d4012d7",
   "metadata": {},
   "outputs": [
    {
     "data": {
      "application/vnd.plotly.v1+json": {
       "config": {
        "plotlyServerURL": "https://plot.ly"
       },
       "data": [
        {
         "hovertemplate": "%{text}<br>EV: %{x:.2f}%<br>CO₂: %{y:.1f} g/km<extra></extra>",
         "marker": {
          "color": "#3b82f6",
          "line": {
           "color": "#1e40af",
           "width": 1
          },
          "size": 10
         },
         "mode": "markers",
         "text": [
          "Duitsland",
          "Spanje",
          "Frankrijk",
          "Nederland",
          "Polen"
         ],
         "type": "scatter",
         "x": [
          0.04278990158322636,
          0.01285548222765897,
          0.07080900143672691,
          0.08553614494297151,
          0.0007648522687842844
         ],
         "y": [
          132.5,
          118.6,
          114.2,
          107.3,
          132.9
         ]
        }
       ],
       "frames": [
        {
         "data": [
          {
           "hovertemplate": "%{text}<br>EV: %{x:.2f}%<br>CO₂: %{y:.1f} g/km<extra></extra>",
           "marker": {
            "color": "#3b82f6",
            "line": {
             "color": "#1e40af",
             "width": 1
            },
            "size": 10
           },
           "mode": "markers",
           "text": [
            "Duitsland",
            "Spanje",
            "Frankrijk",
            "Nederland",
            "Polen"
           ],
           "type": "scatter",
           "x": [
            0.04278990158322636,
            0.01285548222765897,
            0.07080900143672691,
            0.08553614494297151,
            0.0007648522687842844
           ],
           "y": [
            132.5,
            118.6,
            114.2,
            107.3,
            132.9
           ]
          }
         ],
         "name": "2014"
        },
        {
         "data": [
          {
           "hovertemplate": "%{text}<br>EV: %{x:.2f}%<br>CO₂: %{y:.1f} g/km<extra></extra>",
           "marker": {
            "color": "#3b82f6",
            "line": {
             "color": "#1e40af",
             "width": 1
            },
            "size": 10
           },
           "mode": "markers",
           "text": [
            "Duitsland",
            "Spanje",
            "Frankrijk",
            "Nederland",
            "Polen"
           ],
           "type": "scatter",
           "x": [
            0.05768676088837611,
            0.023452790177508055,
            0.11269738078441476,
            0.12297453703703703,
            0.0012158712842015849
           ],
           "y": [
            128.3,
            115.3,
            111,
            101.2,
            129.3
           ]
          }
         ],
         "name": "2015"
        },
        {
         "data": [
          {
           "hovertemplate": "%{text}<br>EV: %{x:.2f}%<br>CO₂: %{y:.1f} g/km<extra></extra>",
           "marker": {
            "color": "#3b82f6",
            "line": {
             "color": "#1e40af",
             "width": 1
            },
            "size": 10
           },
           "mode": "markers",
           "text": [
            "Duitsland",
            "Spanje",
            "Frankrijk",
            "Nederland",
            "Polen"
           ],
           "type": "scatter",
           "x": [
            0.07427806921558062,
            0.025160828663761545,
            0.16281481432719402,
            0.16671583784650176,
            0.0018591324646839626
           ],
           "y": [
            126.9,
            114.4,
            109.8,
            105.9,
            125.8
           ]
          }
         ],
         "name": "2016"
        },
        {
         "data": [
          {
           "hovertemplate": "%{text}<br>EV: %{x:.2f}%<br>CO₂: %{y:.1f} g/km<extra></extra>",
           "marker": {
            "color": "#3b82f6",
            "line": {
             "color": "#1e40af",
             "width": 1
            },
            "size": 10
           },
           "mode": "markers",
           "text": [
            "Duitsland",
            "Spanje",
            "Frankrijk",
            "Nederland",
            "Polen"
           ],
           "type": "scatter",
           "x": [
            0.11589342770805056,
            0.039231567029387446,
            0.21638524901172457,
            0.2608546938319246,
            0.0046506517114995195
           ],
           "y": [
            154.2,
            139.4,
            133.8,
            131.3,
            154.7
           ]
          }
         ],
         "name": "2017"
        },
        {
         "data": [
          {
           "hovertemplate": "%{text}<br>EV: %{x:.2f}%<br>CO₂: %{y:.1f} g/km<extra></extra>",
           "marker": {
            "color": "#3b82f6",
            "line": {
             "color": "#1e40af",
             "width": 1
            },
            "size": 10
           },
           "mode": "markers",
           "text": [
            "Duitsland",
            "Spanje",
            "Frankrijk",
            "Nederland",
            "Polen"
           ],
           "type": "scatter",
           "x": [
            0.1766081651809852,
            0.06269712644427662,
            0.278553324471894,
            0.528024340215341,
            0.015157369201019311
           ],
           "y": [
            157,
            143.1,
            136,
            127.9,
            157.3
           ]
          }
         ],
         "name": "2018"
        },
        {
         "data": [
          {
           "hovertemplate": "%{text}<br>EV: %{x:.2f}%<br>CO₂: %{y:.1f} g/km<extra></extra>",
           "marker": {
            "color": "#3b82f6",
            "line": {
             "color": "#1e40af",
             "width": 1
            },
            "size": 10
           },
           "mode": "markers",
           "text": [
            "Duitsland",
            "Spanje",
            "Frankrijk",
            "Nederland",
            "Polen"
           ],
           "type": "scatter",
           "x": [
            0.2863129052141173,
            0.10139497532684852,
            0.36791389591032747,
            1.237501879865444,
            0.02529163257780341
           ],
           "y": [
            159,
            147,
            137.9,
            119.3,
            158
           ]
          }
         ],
         "name": "2019"
        },
        {
         "data": [
          {
           "hovertemplate": "%{text}<br>EV: %{x:.2f}%<br>CO₂: %{y:.1f} g/km<extra></extra>",
           "marker": {
            "color": "#3b82f6",
            "line": {
             "color": "#1e40af",
             "width": 1
            },
            "size": 10
           },
           "mode": "markers",
           "text": [
            "Duitsland",
            "Spanje",
            "Frankrijk",
            "Nederland",
            "Polen"
           ],
           "type": "scatter",
           "x": [
            0.6406053284382398,
            0.1659461633510531,
            0.6371744689426384,
            2.000789968800722,
            0.04656467579487431
           ],
           "y": [
            136,
            135.5,
            121.1,
            104.4,
            146
           ]
          }
         ],
         "name": "2020"
        },
        {
         "data": [
          {
           "hovertemplate": "%{text}<br>EV: %{x:.2f}%<br>CO₂: %{y:.1f} g/km<extra></extra>",
           "marker": {
            "color": "#3b82f6",
            "line": {
             "color": "#1e40af",
             "width": 1
            },
            "size": 10
           },
           "mode": "markers",
           "text": [
            "Duitsland",
            "Spanje",
            "Frankrijk",
            "Nederland",
            "Noorwegen",
            "Polen"
           ],
           "type": "scatter",
           "x": [
            1.2741013872884623,
            0.25133223006020944,
            1.0391074155771922,
            2.7763828644555453,
            15.49814269373511,
            0.08490351215936574
           ],
           "y": [
            113.5,
            126,
            108.6,
            95.1,
            27.6,
            137.6
           ]
          }
         ],
         "name": "2021"
        },
        {
         "data": [
          {
           "hovertemplate": "%{text}<br>EV: %{x:.2f}%<br>CO₂: %{y:.1f} g/km<extra></extra>",
           "marker": {
            "color": "#3b82f6",
            "line": {
             "color": "#1e40af",
             "width": 1
            },
            "size": 10
           },
           "mode": "markers",
           "text": [
            "Duitsland",
            "Spanje",
            "Frankrijk",
            "Nederland",
            "Noorwegen",
            "Polen"
           ],
           "type": "scatter",
           "x": [
            2.0774116689535083,
            0.35938839362329816,
            1.5333267861648447,
            3.7020190516946805,
            20.1249002891284,
            0.14372660469815107
           ],
           "y": [
            105.9,
            121.5,
            103.1,
            86.8,
            17.8,
            135.7
           ]
          }
         ],
         "name": "2022"
        },
        {
         "data": [
          {
           "hovertemplate": "%{text}<br>EV: %{x:.2f}%<br>CO₂: %{y:.1f} g/km<extra></extra>",
           "marker": {
            "color": "#3b82f6",
            "line": {
             "color": "#1e40af",
             "width": 1
            },
            "size": 10
           },
           "mode": "markers",
           "text": [
            "Duitsland",
            "Spanje",
            "Frankrijk",
            "Nederland",
            "Noorwegen",
            "Polen"
           ],
           "type": "scatter",
           "x": [
            2.8690809132668216,
            0.5612114537296874,
            2.2115722218746696,
            4.90404463554188,
            23.85355650418281,
            0.23564768038386294
           ],
           "y": [
            113,
            117.5,
            96.8,
            74.2,
            14.5,
            132.7
           ]
          }
         ],
         "name": "2023"
        }
       ],
       "layout": {
        "sliders": [
         {
          "currentvalue": {
           "prefix": "Jaar: "
          },
          "steps": [
           {
            "args": [
             [
              "2014"
             ],
             {
              "frame": {
               "duration": 400,
               "redraw": false
              },
              "mode": "immediate",
              "transition": {
               "duration": 300
              }
             }
            ],
            "label": "2014",
            "method": "animate"
           },
           {
            "args": [
             [
              "2015"
             ],
             {
              "frame": {
               "duration": 400,
               "redraw": false
              },
              "mode": "immediate",
              "transition": {
               "duration": 300
              }
             }
            ],
            "label": "2015",
            "method": "animate"
           },
           {
            "args": [
             [
              "2016"
             ],
             {
              "frame": {
               "duration": 400,
               "redraw": false
              },
              "mode": "immediate",
              "transition": {
               "duration": 300
              }
             }
            ],
            "label": "2016",
            "method": "animate"
           },
           {
            "args": [
             [
              "2017"
             ],
             {
              "frame": {
               "duration": 400,
               "redraw": false
              },
              "mode": "immediate",
              "transition": {
               "duration": 300
              }
             }
            ],
            "label": "2017",
            "method": "animate"
           },
           {
            "args": [
             [
              "2018"
             ],
             {
              "frame": {
               "duration": 400,
               "redraw": false
              },
              "mode": "immediate",
              "transition": {
               "duration": 300
              }
             }
            ],
            "label": "2018",
            "method": "animate"
           },
           {
            "args": [
             [
              "2019"
             ],
             {
              "frame": {
               "duration": 400,
               "redraw": false
              },
              "mode": "immediate",
              "transition": {
               "duration": 300
              }
             }
            ],
            "label": "2019",
            "method": "animate"
           },
           {
            "args": [
             [
              "2020"
             ],
             {
              "frame": {
               "duration": 400,
               "redraw": false
              },
              "mode": "immediate",
              "transition": {
               "duration": 300
              }
             }
            ],
            "label": "2020",
            "method": "animate"
           },
           {
            "args": [
             [
              "2021"
             ],
             {
              "frame": {
               "duration": 400,
               "redraw": false
              },
              "mode": "immediate",
              "transition": {
               "duration": 300
              }
             }
            ],
            "label": "2021",
            "method": "animate"
           },
           {
            "args": [
             [
              "2022"
             ],
             {
              "frame": {
               "duration": 400,
               "redraw": false
              },
              "mode": "immediate",
              "transition": {
               "duration": 300
              }
             }
            ],
            "label": "2022",
            "method": "animate"
           },
           {
            "args": [
             [
              "2023"
             ],
             {
              "frame": {
               "duration": 400,
               "redraw": false
              },
              "mode": "immediate",
              "transition": {
               "duration": 300
              }
             }
            ],
            "label": "2023",
            "method": "animate"
           }
          ]
         }
        ],
        "template": {
         "data": {
          "bar": [
           {
            "error_x": {
             "color": "#2a3f5f"
            },
            "error_y": {
             "color": "#2a3f5f"
            },
            "marker": {
             "line": {
              "color": "#E5ECF6",
              "width": 0.5
             },
             "pattern": {
              "fillmode": "overlay",
              "size": 10,
              "solidity": 0.2
             }
            },
            "type": "bar"
           }
          ],
          "barpolar": [
           {
            "marker": {
             "line": {
              "color": "#E5ECF6",
              "width": 0.5
             },
             "pattern": {
              "fillmode": "overlay",
              "size": 10,
              "solidity": 0.2
             }
            },
            "type": "barpolar"
           }
          ],
          "carpet": [
           {
            "aaxis": {
             "endlinecolor": "#2a3f5f",
             "gridcolor": "white",
             "linecolor": "white",
             "minorgridcolor": "white",
             "startlinecolor": "#2a3f5f"
            },
            "baxis": {
             "endlinecolor": "#2a3f5f",
             "gridcolor": "white",
             "linecolor": "white",
             "minorgridcolor": "white",
             "startlinecolor": "#2a3f5f"
            },
            "type": "carpet"
           }
          ],
          "choropleth": [
           {
            "colorbar": {
             "outlinewidth": 0,
             "ticks": ""
            },
            "type": "choropleth"
           }
          ],
          "contour": [
           {
            "colorbar": {
             "outlinewidth": 0,
             "ticks": ""
            },
            "colorscale": [
             [
              0,
              "#0d0887"
             ],
             [
              0.1111111111111111,
              "#46039f"
             ],
             [
              0.2222222222222222,
              "#7201a8"
             ],
             [
              0.3333333333333333,
              "#9c179e"
             ],
             [
              0.4444444444444444,
              "#bd3786"
             ],
             [
              0.5555555555555556,
              "#d8576b"
             ],
             [
              0.6666666666666666,
              "#ed7953"
             ],
             [
              0.7777777777777778,
              "#fb9f3a"
             ],
             [
              0.8888888888888888,
              "#fdca26"
             ],
             [
              1,
              "#f0f921"
             ]
            ],
            "type": "contour"
           }
          ],
          "contourcarpet": [
           {
            "colorbar": {
             "outlinewidth": 0,
             "ticks": ""
            },
            "type": "contourcarpet"
           }
          ],
          "heatmap": [
           {
            "colorbar": {
             "outlinewidth": 0,
             "ticks": ""
            },
            "colorscale": [
             [
              0,
              "#0d0887"
             ],
             [
              0.1111111111111111,
              "#46039f"
             ],
             [
              0.2222222222222222,
              "#7201a8"
             ],
             [
              0.3333333333333333,
              "#9c179e"
             ],
             [
              0.4444444444444444,
              "#bd3786"
             ],
             [
              0.5555555555555556,
              "#d8576b"
             ],
             [
              0.6666666666666666,
              "#ed7953"
             ],
             [
              0.7777777777777778,
              "#fb9f3a"
             ],
             [
              0.8888888888888888,
              "#fdca26"
             ],
             [
              1,
              "#f0f921"
             ]
            ],
            "type": "heatmap"
           }
          ],
          "heatmapgl": [
           {
            "colorbar": {
             "outlinewidth": 0,
             "ticks": ""
            },
            "colorscale": [
             [
              0,
              "#0d0887"
             ],
             [
              0.1111111111111111,
              "#46039f"
             ],
             [
              0.2222222222222222,
              "#7201a8"
             ],
             [
              0.3333333333333333,
              "#9c179e"
             ],
             [
              0.4444444444444444,
              "#bd3786"
             ],
             [
              0.5555555555555556,
              "#d8576b"
             ],
             [
              0.6666666666666666,
              "#ed7953"
             ],
             [
              0.7777777777777778,
              "#fb9f3a"
             ],
             [
              0.8888888888888888,
              "#fdca26"
             ],
             [
              1,
              "#f0f921"
             ]
            ],
            "type": "heatmapgl"
           }
          ],
          "histogram": [
           {
            "marker": {
             "pattern": {
              "fillmode": "overlay",
              "size": 10,
              "solidity": 0.2
             }
            },
            "type": "histogram"
           }
          ],
          "histogram2d": [
           {
            "colorbar": {
             "outlinewidth": 0,
             "ticks": ""
            },
            "colorscale": [
             [
              0,
              "#0d0887"
             ],
             [
              0.1111111111111111,
              "#46039f"
             ],
             [
              0.2222222222222222,
              "#7201a8"
             ],
             [
              0.3333333333333333,
              "#9c179e"
             ],
             [
              0.4444444444444444,
              "#bd3786"
             ],
             [
              0.5555555555555556,
              "#d8576b"
             ],
             [
              0.6666666666666666,
              "#ed7953"
             ],
             [
              0.7777777777777778,
              "#fb9f3a"
             ],
             [
              0.8888888888888888,
              "#fdca26"
             ],
             [
              1,
              "#f0f921"
             ]
            ],
            "type": "histogram2d"
           }
          ],
          "histogram2dcontour": [
           {
            "colorbar": {
             "outlinewidth": 0,
             "ticks": ""
            },
            "colorscale": [
             [
              0,
              "#0d0887"
             ],
             [
              0.1111111111111111,
              "#46039f"
             ],
             [
              0.2222222222222222,
              "#7201a8"
             ],
             [
              0.3333333333333333,
              "#9c179e"
             ],
             [
              0.4444444444444444,
              "#bd3786"
             ],
             [
              0.5555555555555556,
              "#d8576b"
             ],
             [
              0.6666666666666666,
              "#ed7953"
             ],
             [
              0.7777777777777778,
              "#fb9f3a"
             ],
             [
              0.8888888888888888,
              "#fdca26"
             ],
             [
              1,
              "#f0f921"
             ]
            ],
            "type": "histogram2dcontour"
           }
          ],
          "mesh3d": [
           {
            "colorbar": {
             "outlinewidth": 0,
             "ticks": ""
            },
            "type": "mesh3d"
           }
          ],
          "parcoords": [
           {
            "line": {
             "colorbar": {
              "outlinewidth": 0,
              "ticks": ""
             }
            },
            "type": "parcoords"
           }
          ],
          "pie": [
           {
            "automargin": true,
            "type": "pie"
           }
          ],
          "scatter": [
           {
            "fillpattern": {
             "fillmode": "overlay",
             "size": 10,
             "solidity": 0.2
            },
            "type": "scatter"
           }
          ],
          "scatter3d": [
           {
            "line": {
             "colorbar": {
              "outlinewidth": 0,
              "ticks": ""
             }
            },
            "marker": {
             "colorbar": {
              "outlinewidth": 0,
              "ticks": ""
             }
            },
            "type": "scatter3d"
           }
          ],
          "scattercarpet": [
           {
            "marker": {
             "colorbar": {
              "outlinewidth": 0,
              "ticks": ""
             }
            },
            "type": "scattercarpet"
           }
          ],
          "scattergeo": [
           {
            "marker": {
             "colorbar": {
              "outlinewidth": 0,
              "ticks": ""
             }
            },
            "type": "scattergeo"
           }
          ],
          "scattergl": [
           {
            "marker": {
             "colorbar": {
              "outlinewidth": 0,
              "ticks": ""
             }
            },
            "type": "scattergl"
           }
          ],
          "scattermapbox": [
           {
            "marker": {
             "colorbar": {
              "outlinewidth": 0,
              "ticks": ""
             }
            },
            "type": "scattermapbox"
           }
          ],
          "scatterpolar": [
           {
            "marker": {
             "colorbar": {
              "outlinewidth": 0,
              "ticks": ""
             }
            },
            "type": "scatterpolar"
           }
          ],
          "scatterpolargl": [
           {
            "marker": {
             "colorbar": {
              "outlinewidth": 0,
              "ticks": ""
             }
            },
            "type": "scatterpolargl"
           }
          ],
          "scatterternary": [
           {
            "marker": {
             "colorbar": {
              "outlinewidth": 0,
              "ticks": ""
             }
            },
            "type": "scatterternary"
           }
          ],
          "surface": [
           {
            "colorbar": {
             "outlinewidth": 0,
             "ticks": ""
            },
            "colorscale": [
             [
              0,
              "#0d0887"
             ],
             [
              0.1111111111111111,
              "#46039f"
             ],
             [
              0.2222222222222222,
              "#7201a8"
             ],
             [
              0.3333333333333333,
              "#9c179e"
             ],
             [
              0.4444444444444444,
              "#bd3786"
             ],
             [
              0.5555555555555556,
              "#d8576b"
             ],
             [
              0.6666666666666666,
              "#ed7953"
             ],
             [
              0.7777777777777778,
              "#fb9f3a"
             ],
             [
              0.8888888888888888,
              "#fdca26"
             ],
             [
              1,
              "#f0f921"
             ]
            ],
            "type": "surface"
           }
          ],
          "table": [
           {
            "cells": {
             "fill": {
              "color": "#EBF0F8"
             },
             "line": {
              "color": "white"
             }
            },
            "header": {
             "fill": {
              "color": "#C8D4E3"
             },
             "line": {
              "color": "white"
             }
            },
            "type": "table"
           }
          ]
         },
         "layout": {
          "annotationdefaults": {
           "arrowcolor": "#2a3f5f",
           "arrowhead": 0,
           "arrowwidth": 1
          },
          "autotypenumbers": "strict",
          "coloraxis": {
           "colorbar": {
            "outlinewidth": 0,
            "ticks": ""
           }
          },
          "colorscale": {
           "diverging": [
            [
             0,
             "#8e0152"
            ],
            [
             0.1,
             "#c51b7d"
            ],
            [
             0.2,
             "#de77ae"
            ],
            [
             0.3,
             "#f1b6da"
            ],
            [
             0.4,
             "#fde0ef"
            ],
            [
             0.5,
             "#f7f7f7"
            ],
            [
             0.6,
             "#e6f5d0"
            ],
            [
             0.7,
             "#b8e186"
            ],
            [
             0.8,
             "#7fbc41"
            ],
            [
             0.9,
             "#4d9221"
            ],
            [
             1,
             "#276419"
            ]
           ],
           "sequential": [
            [
             0,
             "#0d0887"
            ],
            [
             0.1111111111111111,
             "#46039f"
            ],
            [
             0.2222222222222222,
             "#7201a8"
            ],
            [
             0.3333333333333333,
             "#9c179e"
            ],
            [
             0.4444444444444444,
             "#bd3786"
            ],
            [
             0.5555555555555556,
             "#d8576b"
            ],
            [
             0.6666666666666666,
             "#ed7953"
            ],
            [
             0.7777777777777778,
             "#fb9f3a"
            ],
            [
             0.8888888888888888,
             "#fdca26"
            ],
            [
             1,
             "#f0f921"
            ]
           ],
           "sequentialminus": [
            [
             0,
             "#0d0887"
            ],
            [
             0.1111111111111111,
             "#46039f"
            ],
            [
             0.2222222222222222,
             "#7201a8"
            ],
            [
             0.3333333333333333,
             "#9c179e"
            ],
            [
             0.4444444444444444,
             "#bd3786"
            ],
            [
             0.5555555555555556,
             "#d8576b"
            ],
            [
             0.6666666666666666,
             "#ed7953"
            ],
            [
             0.7777777777777778,
             "#fb9f3a"
            ],
            [
             0.8888888888888888,
             "#fdca26"
            ],
            [
             1,
             "#f0f921"
            ]
           ]
          },
          "colorway": [
           "#636efa",
           "#EF553B",
           "#00cc96",
           "#ab63fa",
           "#FFA15A",
           "#19d3f3",
           "#FF6692",
           "#B6E880",
           "#FF97FF",
           "#FECB52"
          ],
          "font": {
           "color": "#2a3f5f"
          },
          "geo": {
           "bgcolor": "white",
           "lakecolor": "white",
           "landcolor": "#E5ECF6",
           "showlakes": true,
           "showland": true,
           "subunitcolor": "white"
          },
          "hoverlabel": {
           "align": "left"
          },
          "hovermode": "closest",
          "mapbox": {
           "style": "light"
          },
          "paper_bgcolor": "white",
          "plot_bgcolor": "#E5ECF6",
          "polar": {
           "angularaxis": {
            "gridcolor": "white",
            "linecolor": "white",
            "ticks": ""
           },
           "bgcolor": "#E5ECF6",
           "radialaxis": {
            "gridcolor": "white",
            "linecolor": "white",
            "ticks": ""
           }
          },
          "scene": {
           "xaxis": {
            "backgroundcolor": "#E5ECF6",
            "gridcolor": "white",
            "gridwidth": 2,
            "linecolor": "white",
            "showbackground": true,
            "ticks": "",
            "zerolinecolor": "white"
           },
           "yaxis": {
            "backgroundcolor": "#E5ECF6",
            "gridcolor": "white",
            "gridwidth": 2,
            "linecolor": "white",
            "showbackground": true,
            "ticks": "",
            "zerolinecolor": "white"
           },
           "zaxis": {
            "backgroundcolor": "#E5ECF6",
            "gridcolor": "white",
            "gridwidth": 2,
            "linecolor": "white",
            "showbackground": true,
            "ticks": "",
            "zerolinecolor": "white"
           }
          },
          "shapedefaults": {
           "line": {
            "color": "#2a3f5f"
           }
          },
          "ternary": {
           "aaxis": {
            "gridcolor": "white",
            "linecolor": "white",
            "ticks": ""
           },
           "baxis": {
            "gridcolor": "white",
            "linecolor": "white",
            "ticks": ""
           },
           "bgcolor": "#E5ECF6",
           "caxis": {
            "gridcolor": "white",
            "linecolor": "white",
            "ticks": ""
           }
          },
          "title": {
           "x": 0.05
          },
          "xaxis": {
           "automargin": true,
           "gridcolor": "white",
           "linecolor": "white",
           "ticks": "",
           "title": {
            "standoff": 15
           },
           "zerolinecolor": "white",
           "zerolinewidth": 2
          },
          "yaxis": {
           "automargin": true,
           "gridcolor": "white",
           "linecolor": "white",
           "ticks": "",
           "title": {
            "standoff": 15
           },
           "zerolinecolor": "white",
           "zerolinewidth": 2
          }
         }
        },
        "title": {
         "text": "CO₂‑uitstoot vs. EV‑aandeel (2014)"
        },
        "xaxis": {
         "ticksuffix": "%",
         "title": {
          "text": "EV‑aandeel (%)"
         }
        },
        "yaxis": {
         "title": {
          "text": "Gem. CO₂ (g/km)"
         }
        }
       }
      }
     },
     "metadata": {},
     "output_type": "display_data"
    }
   ],
   "source": [
    "\n",
    "frames = []\n",
    "for yr, grp in focus.groupby('year'):\n",
    "    frames.append(go.Frame(\n",
    "        name=str(yr),\n",
    "        data=[go.Scatter(\n",
    "            x=grp.evShare,\n",
    "            y=grp.co2,\n",
    "            mode='markers',\n",
    "            text=grp.geo.map(code2name),\n",
    "            marker=dict(size=10, color='#3b82f6', line=dict(width=1, color='#1e40af')),\n",
    "            hovertemplate='%{text}<br>EV: %{x:.2f}%<br>CO₂: %{y:.1f} g/km<extra></extra>'\n",
    "        )]\n",
    "    ))\n",
    "\n",
    "layout = go.Layout(\n",
    "    title=f'CO₂‑uitstoot vs. EV‑aandeel ({frames[0].name})',\n",
    "    xaxis=dict(title='EV‑aandeel (%)', ticksuffix='%'),\n",
    "    yaxis=dict(title='Gem. CO₂ (g/km)'),\n",
    "    sliders=[dict(\n",
    "        steps=[dict(method='animate',\n",
    "                    label=f.name,\n",
    "                    args=[[f.name],\n",
    "                          dict(mode='immediate',\n",
    "                               frame=dict(duration=400, redraw=False),\n",
    "                               transition=dict(duration=300))])\n",
    "               for f in frames],\n",
    "        currentvalue=dict(prefix='Jaar: ')\n",
    "    )]\n",
    ")\n",
    "\n",
    "fig_scatter = go.Figure(data=frames[0].data, frames=frames, layout=layout)\n",
    "fig_scatter.show()\n"
   ]
  },
  {
   "cell_type": "markdown",
   "id": "3306a9a1",
   "metadata": {},
   "source": [
    "Ook hier zien we een **negatieve correlatie**: landen met een groter EV‑aandeel hebben doorgaans lagere gemiddelde CO₂‑uitstoot per kilometer."
   ]
  }
 ],
 "metadata": {
  "kernelspec": {
   "display_name": "base",
   "language": "python",
   "name": "python3"
  },
  "language_info": {
   "codemirror_mode": {
    "name": "ipython",
    "version": 3
   },
   "file_extension": ".py",
   "mimetype": "text/x-python",
   "name": "python",
   "nbconvert_exporter": "python",
   "pygments_lexer": "ipython3",
   "version": "3.12.7"
  }
 },
 "nbformat": 4,
 "nbformat_minor": 5
}
