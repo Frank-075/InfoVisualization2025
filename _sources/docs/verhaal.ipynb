{
 "cells": [
  {
   "cell_type": "markdown",
   "id": "e8439caa",
   "metadata": {},
   "source": [
    "# Elektrificatie & CO₂ – Een doorlopende datastory"
   ]
  },
  {
   "cell_type": "markdown",
   "id": "9313bac8",
   "metadata": {},
   "source": [
    "## Wat staat er op het spel?\n",
    "\n",
    "\n",
    "Europa wil in **2030** ten minste **55 % minder CO₂‑uitstoot**. Kunnen elektrische voertuigen (EV’s) ervoor zorgen om de uitstoot in de transportsector zoveel mogelijk te verminderend. We analyseerden registratie van EV's en uitstootdata **(2010‑2023)** voor de 27 EU‑landen om deze vraag te beantwoorden:\n",
    "\n",
    "\n",
    "> *Draagt het stijgende aandeel elektrische voertuigen direct bij aan lagere CO₂ uitstoot van personenauto’s?*\n",
    "\n",
    "\n",
    "We verkennen twee perspectieven en gebruiken interactieve visualisaties om de data te onderbouwen.\n"
   ]
  },
  {
   "cell_type": "markdown",
   "id": "0dcb66fc",
   "metadata": {},
   "source": [
    "## Elektrische voertuigen als dé oplossing?"
   ]
  },
  {
   "cell_type": "markdown",
   "id": "6d10a7e0",
   "metadata": {},
   "source": [
    "\n",
    "**Perspectief 1 – EV’s als primaire oplossing.**\n",
    "Dit hoofdstuk onderzoekt of een stijgend aandeel elektrische voertuigen (EV’s) leidt tot **lagere CO₂‑uitstoot** van nieuw geregistreerde auto’s.  \n",
    "We gebruiken twee visualisaties:\n",
    "\n",
    "1. **Lijngrafiek** – EV‑aandeel per land (2010‑2023)  \n",
    "2. **Scatter + slider** – EV‑aandeel vs CO₂‑uitstoot per land/jaar\n"
   ]
  },
  {
   "cell_type": "code",
   "execution_count": 44,
   "id": "0821c63f",
   "metadata": {
    "tags": [
     "remove-input"
    ]
   },
   "outputs": [],
   "source": [
    "# --- Plotly → pastel kaart-renderer (robust) -------------------------\n",
    "from IPython.display import HTML, display\n",
    "import plotly.graph_objects as go   # go.Figure is de basisklasse\n",
    "\n",
    "PASTEL    = \"#FDEDDD\"   # één uniforme pastel-kleur\n",
    "CSS_CLASS = \"plot-card\" # class uit custom.css\n",
    "\n",
    "def _repr_html_card(self):\n",
    "    \"\"\"Geeft Plotly-figuur terug als responsive kaart-HTML.\"\"\"\n",
    "    # 1) Pastel achtergrond in de figuur zelf\n",
    "    self.update_layout(paper_bgcolor=PASTEL, plot_bgcolor=PASTEL)\n",
    "    # 2) Genereer responsive HTML\n",
    "    html = self.to_html(full_html=False,\n",
    "                        include_plotlyjs=\"cdn\",\n",
    "                        config={\"responsive\": True})\n",
    "    # 3) Wikkel in kaart-div\n",
    "    return f'<div class=\"{CSS_CLASS}\">{html}</div>'\n",
    "\n",
    "def _show_card(self, *args, **kwargs):\n",
    "    \"\"\"Vervangt fig.show() zodat die óók het kaartje laat zien.\"\"\"\n",
    "    display(HTML(_repr_html_card(self)))\n",
    "\n",
    "# ── Patchen ──────────────────────────────────────────────────────────\n",
    "go.Figure._repr_html_ = _repr_html_card   # implicit display in notebooks\n",
    "go.Figure.show       = _show_card         # expliciete show-calls\n",
    "\n"
   ]
  },
  {
   "cell_type": "code",
   "execution_count": 45,
   "id": "f37bacaf",
   "metadata": {
    "tags": [
     "remove-input"
    ]
   },
   "outputs": [],
   "source": [
    "\n",
    "import pandas as pd\n",
    "import numpy as np\n",
    "import plotly.express as px\n",
    "import plotly.graph_objects as go\n",
    "import matplotlib.pyplot as plt\n",
    "import seaborn as sns\n",
    "from IPython.display import HTML, display\n",
    "\n",
    "\n",
    "%matplotlib inline\n",
    "\n",
    "# --- Gecombineerde dataset inladen ---\n",
    "df_full = pd.read_csv('data/ev_airquality_ready.csv')\n",
    "\n",
    "# Kolommen hernoemen en extra velden aanmaken\n",
    "df = (df_full\n",
    "      .rename(columns={'EV_share': 'evShare',\n",
    "                       'CO2_g_km': 'co2',\n",
    "                       'TIME_PERIOD': 'year',\n",
    "                       'ELC': 'elc',\n",
    "                       'TOTAL': 'total'})\n",
    "     )\n",
    "\n",
    "# Compatibiliteit met eerdere variabelen\n",
    "ev_share = df[['geo', 'year', 'elc', 'total']].rename(columns={'elc': 'EV', 'total': 'TOTAL'})\n",
    "ev_share['EV_SHARE'] = df['evShare']\n",
    "\n",
    "co2 = df[['geo', 'year', 'co2']].rename(columns={'co2': 'OBS_VALUE'})\n",
    "\n",
    "START_YEAR = int(df['year'].min())\n",
    "END_YEAR   = int(df['year'].max())\n",
    "\n",
    "focus_codes = ['NL', 'DE', 'NO', 'PL', 'FR', 'ES']\n",
    "focus = df[df.geo.isin(focus_codes)]\n",
    "\n",
    "code2name = dict(NL='Nederland', DE='Duitsland', NO='Noorwegen',\n",
    "                 PL='Polen', FR='Frankrijk', ES='Spanje')\n"
   ]
  },
  {
   "cell_type": "code",
   "execution_count": 46,
   "id": "61797862",
   "metadata": {
    "tags": [
     "remove-input"
    ]
   },
   "outputs": [
    {
     "data": {
      "text/html": [
       "<div class=\"plot-card\"><div>                        <script type=\"text/javascript\">window.PlotlyConfig = {MathJaxConfig: 'local'};</script>\n",
       "        <script charset=\"utf-8\" src=\"https://cdn.plot.ly/plotly-3.0.1.min.js\"></script>                <div id=\"ed28594c-e4f7-42e2-9653-efb0986e3dda\" class=\"plotly-graph-div\" style=\"height:100%; width:100%;\"></div>            <script type=\"text/javascript\">                window.PLOTLYENV=window.PLOTLYENV || {};                                if (document.getElementById(\"ed28594c-e4f7-42e2-9653-efb0986e3dda\")) {                    Plotly.newPlot(                        \"ed28594c-e4f7-42e2-9653-efb0986e3dda\",                        [{\"hovertemplate\":\"Land=Duitsland\\u003cbr\\u003eJaar=%{x}\\u003cbr\\u003eEV\\u2011aandeel (%)=%{y}\\u003cextra\\u003e\\u003c\\u002fextra\\u003e\",\"legendgroup\":\"Duitsland\",\"line\":{\"color\":\"#636efa\",\"dash\":\"solid\"},\"marker\":{\"symbol\":\"circle\"},\"mode\":\"lines+markers\",\"name\":\"Duitsland\",\"orientation\":\"v\",\"showlegend\":true,\"x\":{\"dtype\":\"i2\",\"bdata\":\"3gffB+AH4QfiB+MH5AflB+YH5wc=\"},\"xaxis\":\"x\",\"y\":{\"dtype\":\"f8\",\"bdata\":\"xUvM147opT+wAdt+HomtPwtIFzbjA7M\\u002fnNHTETGrvT\\u002fAVtSqGJvGP\\u002ftPFF3zUtI\\u002fdiPpvtZ\\u002f5D8nE+MiuGL0P27fUwKKngBAcnigseDzBkA=\"},\"yaxis\":\"y\",\"type\":\"scatter\"},{\"hovertemplate\":\"Land=Spanje\\u003cbr\\u003eJaar=%{x}\\u003cbr\\u003eEV\\u2011aandeel (%)=%{y}\\u003cextra\\u003e\\u003c\\u002fextra\\u003e\",\"legendgroup\":\"Spanje\",\"line\":{\"color\":\"#EF553B\",\"dash\":\"solid\"},\"marker\":{\"symbol\":\"circle\"},\"mode\":\"lines+markers\",\"name\":\"Spanje\",\"orientation\":\"v\",\"showlegend\":true,\"x\":{\"dtype\":\"i2\",\"bdata\":\"3gffB+AH4QfiB+MH5AflB+YH5wc=\"},\"xaxis\":\"x\",\"y\":{\"dtype\":\"f8\",\"bdata\":\"VNTvnflTij\\u002fd1z8bAgSYP0wkAaHCw5k\\u002ft1658igWpD\\u002fPn6E76wywPznuAWcF9bk\\u002fMqY+ULk9xT+rhCLH0xXQP3ojSy04ANc\\u002fpRv9uHH14T8=\"},\"yaxis\":\"y\",\"type\":\"scatter\"},{\"hovertemplate\":\"Land=Frankrijk\\u003cbr\\u003eJaar=%{x}\\u003cbr\\u003eEV\\u2011aandeel (%)=%{y}\\u003cextra\\u003e\\u003c\\u002fextra\\u003e\",\"legendgroup\":\"Frankrijk\",\"line\":{\"color\":\"#00cc96\",\"dash\":\"solid\"},\"marker\":{\"symbol\":\"circle\"},\"mode\":\"lines+markers\",\"name\":\"Frankrijk\",\"orientation\":\"v\",\"showlegend\":true,\"x\":{\"dtype\":\"i2\",\"bdata\":\"3gffB+AH4QfiB+MH5AflB+YH5wc=\"},\"xaxis\":\"x\",\"y\":{\"dtype\":\"f8\",\"bdata\":\"g+Nu6Ykgsj8PXdBMvNm8P1t4a6cd18Q\\u002fVMzrB4Oyyz+LILNS0dPRP4hxq7nmi9c\\u002fuI0+trtj5D9C9u4YL6DwP2uKCquBiPg\\u002f04ztxkyxAUA=\"},\"yaxis\":\"y\",\"type\":\"scatter\"},{\"hovertemplate\":\"Land=Nederland\\u003cbr\\u003eJaar=%{x}\\u003cbr\\u003eEV\\u2011aandeel (%)=%{y}\\u003cextra\\u003e\\u003c\\u002fextra\\u003e\",\"legendgroup\":\"Nederland\",\"line\":{\"color\":\"#ab63fa\",\"dash\":\"solid\"},\"marker\":{\"symbol\":\"circle\"},\"mode\":\"lines+markers\",\"name\":\"Nederland\",\"orientation\":\"v\",\"showlegend\":true,\"x\":{\"dtype\":\"i2\",\"bdata\":\"3gffB+AH4QfiB+MH5AflB+YH5wc=\"},\"xaxis\":\"x\",\"y\":{\"dtype\":\"f8\",\"bdata\":\"M+4nYbLltT+xl9BeQnu\\u002fP8lSo8\\u002fxVsU\\u002fkgnB4tex0D+T8BZNk+XgP24rbMXOzPM\\u002fy0\\u002fRK54BAEBIFyA4CDYGQKmUISq8nQ1AQRt\\u002f4L2dE0A=\"},\"yaxis\":\"y\",\"type\":\"scatter\"},{\"hovertemplate\":\"Land=Noorwegen\\u003cbr\\u003eJaar=%{x}\\u003cbr\\u003eEV\\u2011aandeel (%)=%{y}\\u003cextra\\u003e\\u003c\\u002fextra\\u003e\",\"legendgroup\":\"Noorwegen\",\"line\":{\"color\":\"#FFA15A\",\"dash\":\"solid\"},\"marker\":{\"symbol\":\"circle\"},\"mode\":\"lines+markers\",\"name\":\"Noorwegen\",\"orientation\":\"v\",\"showlegend\":true,\"x\":{\"dtype\":\"i2\",\"bdata\":\"5QfmB+cH\"},\"xaxis\":\"x\",\"y\":{\"dtype\":\"f8\",\"bdata\":\"06okjwz\\u002fLkBDESF3+R80QNXA1q2C2jdA\"},\"yaxis\":\"y\",\"type\":\"scatter\"},{\"hovertemplate\":\"Land=Polen\\u003cbr\\u003eJaar=%{x}\\u003cbr\\u003eEV\\u2011aandeel (%)=%{y}\\u003cextra\\u003e\\u003c\\u002fextra\\u003e\",\"legendgroup\":\"Polen\",\"line\":{\"color\":\"#19d3f3\",\"dash\":\"solid\"},\"marker\":{\"symbol\":\"circle\"},\"mode\":\"lines+markers\",\"name\":\"Polen\",\"orientation\":\"v\",\"showlegend\":true,\"x\":{\"dtype\":\"i2\",\"bdata\":\"3gffB+AH4QfiB+MH5AflB+YH5wc=\"},\"xaxis\":\"x\",\"y\":{\"dtype\":\"f8\",\"bdata\":\"A5CHvQsQST9z8bbZu+tTPze7n0jEdV4\\u002fHHsY0I8Mcz\\u002fHHRio0wqPP7nuIrsM5pk\\u002f+ypgP1PXpz9cPgqQPLy1P9swXyWiZcI\\u002f9j9QBLQpzj8=\"},\"yaxis\":\"y\",\"type\":\"scatter\"}],                        {\"template\":{\"data\":{\"histogram2dcontour\":[{\"type\":\"histogram2dcontour\",\"colorbar\":{\"outlinewidth\":0,\"ticks\":\"\"},\"colorscale\":[[0.0,\"#0d0887\"],[0.1111111111111111,\"#46039f\"],[0.2222222222222222,\"#7201a8\"],[0.3333333333333333,\"#9c179e\"],[0.4444444444444444,\"#bd3786\"],[0.5555555555555556,\"#d8576b\"],[0.6666666666666666,\"#ed7953\"],[0.7777777777777778,\"#fb9f3a\"],[0.8888888888888888,\"#fdca26\"],[1.0,\"#f0f921\"]]}],\"choropleth\":[{\"type\":\"choropleth\",\"colorbar\":{\"outlinewidth\":0,\"ticks\":\"\"}}],\"histogram2d\":[{\"type\":\"histogram2d\",\"colorbar\":{\"outlinewidth\":0,\"ticks\":\"\"},\"colorscale\":[[0.0,\"#0d0887\"],[0.1111111111111111,\"#46039f\"],[0.2222222222222222,\"#7201a8\"],[0.3333333333333333,\"#9c179e\"],[0.4444444444444444,\"#bd3786\"],[0.5555555555555556,\"#d8576b\"],[0.6666666666666666,\"#ed7953\"],[0.7777777777777778,\"#fb9f3a\"],[0.8888888888888888,\"#fdca26\"],[1.0,\"#f0f921\"]]}],\"heatmap\":[{\"type\":\"heatmap\",\"colorbar\":{\"outlinewidth\":0,\"ticks\":\"\"},\"colorscale\":[[0.0,\"#0d0887\"],[0.1111111111111111,\"#46039f\"],[0.2222222222222222,\"#7201a8\"],[0.3333333333333333,\"#9c179e\"],[0.4444444444444444,\"#bd3786\"],[0.5555555555555556,\"#d8576b\"],[0.6666666666666666,\"#ed7953\"],[0.7777777777777778,\"#fb9f3a\"],[0.8888888888888888,\"#fdca26\"],[1.0,\"#f0f921\"]]}],\"contourcarpet\":[{\"type\":\"contourcarpet\",\"colorbar\":{\"outlinewidth\":0,\"ticks\":\"\"}}],\"contour\":[{\"type\":\"contour\",\"colorbar\":{\"outlinewidth\":0,\"ticks\":\"\"},\"colorscale\":[[0.0,\"#0d0887\"],[0.1111111111111111,\"#46039f\"],[0.2222222222222222,\"#7201a8\"],[0.3333333333333333,\"#9c179e\"],[0.4444444444444444,\"#bd3786\"],[0.5555555555555556,\"#d8576b\"],[0.6666666666666666,\"#ed7953\"],[0.7777777777777778,\"#fb9f3a\"],[0.8888888888888888,\"#fdca26\"],[1.0,\"#f0f921\"]]}],\"surface\":[{\"type\":\"surface\",\"colorbar\":{\"outlinewidth\":0,\"ticks\":\"\"},\"colorscale\":[[0.0,\"#0d0887\"],[0.1111111111111111,\"#46039f\"],[0.2222222222222222,\"#7201a8\"],[0.3333333333333333,\"#9c179e\"],[0.4444444444444444,\"#bd3786\"],[0.5555555555555556,\"#d8576b\"],[0.6666666666666666,\"#ed7953\"],[0.7777777777777778,\"#fb9f3a\"],[0.8888888888888888,\"#fdca26\"],[1.0,\"#f0f921\"]]}],\"mesh3d\":[{\"type\":\"mesh3d\",\"colorbar\":{\"outlinewidth\":0,\"ticks\":\"\"}}],\"scatter\":[{\"fillpattern\":{\"fillmode\":\"overlay\",\"size\":10,\"solidity\":0.2},\"type\":\"scatter\"}],\"parcoords\":[{\"type\":\"parcoords\",\"line\":{\"colorbar\":{\"outlinewidth\":0,\"ticks\":\"\"}}}],\"scatterpolargl\":[{\"type\":\"scatterpolargl\",\"marker\":{\"colorbar\":{\"outlinewidth\":0,\"ticks\":\"\"}}}],\"bar\":[{\"error_x\":{\"color\":\"#2a3f5f\"},\"error_y\":{\"color\":\"#2a3f5f\"},\"marker\":{\"line\":{\"color\":\"#E5ECF6\",\"width\":0.5},\"pattern\":{\"fillmode\":\"overlay\",\"size\":10,\"solidity\":0.2}},\"type\":\"bar\"}],\"scattergeo\":[{\"type\":\"scattergeo\",\"marker\":{\"colorbar\":{\"outlinewidth\":0,\"ticks\":\"\"}}}],\"scatterpolar\":[{\"type\":\"scatterpolar\",\"marker\":{\"colorbar\":{\"outlinewidth\":0,\"ticks\":\"\"}}}],\"histogram\":[{\"marker\":{\"pattern\":{\"fillmode\":\"overlay\",\"size\":10,\"solidity\":0.2}},\"type\":\"histogram\"}],\"scattergl\":[{\"type\":\"scattergl\",\"marker\":{\"colorbar\":{\"outlinewidth\":0,\"ticks\":\"\"}}}],\"scatter3d\":[{\"type\":\"scatter3d\",\"line\":{\"colorbar\":{\"outlinewidth\":0,\"ticks\":\"\"}},\"marker\":{\"colorbar\":{\"outlinewidth\":0,\"ticks\":\"\"}}}],\"scattermap\":[{\"type\":\"scattermap\",\"marker\":{\"colorbar\":{\"outlinewidth\":0,\"ticks\":\"\"}}}],\"scattermapbox\":[{\"type\":\"scattermapbox\",\"marker\":{\"colorbar\":{\"outlinewidth\":0,\"ticks\":\"\"}}}],\"scatterternary\":[{\"type\":\"scatterternary\",\"marker\":{\"colorbar\":{\"outlinewidth\":0,\"ticks\":\"\"}}}],\"scattercarpet\":[{\"type\":\"scattercarpet\",\"marker\":{\"colorbar\":{\"outlinewidth\":0,\"ticks\":\"\"}}}],\"carpet\":[{\"aaxis\":{\"endlinecolor\":\"#2a3f5f\",\"gridcolor\":\"white\",\"linecolor\":\"white\",\"minorgridcolor\":\"white\",\"startlinecolor\":\"#2a3f5f\"},\"baxis\":{\"endlinecolor\":\"#2a3f5f\",\"gridcolor\":\"white\",\"linecolor\":\"white\",\"minorgridcolor\":\"white\",\"startlinecolor\":\"#2a3f5f\"},\"type\":\"carpet\"}],\"table\":[{\"cells\":{\"fill\":{\"color\":\"#EBF0F8\"},\"line\":{\"color\":\"white\"}},\"header\":{\"fill\":{\"color\":\"#C8D4E3\"},\"line\":{\"color\":\"white\"}},\"type\":\"table\"}],\"barpolar\":[{\"marker\":{\"line\":{\"color\":\"#E5ECF6\",\"width\":0.5},\"pattern\":{\"fillmode\":\"overlay\",\"size\":10,\"solidity\":0.2}},\"type\":\"barpolar\"}],\"pie\":[{\"automargin\":true,\"type\":\"pie\"}]},\"layout\":{\"autotypenumbers\":\"strict\",\"colorway\":[\"#636efa\",\"#EF553B\",\"#00cc96\",\"#ab63fa\",\"#FFA15A\",\"#19d3f3\",\"#FF6692\",\"#B6E880\",\"#FF97FF\",\"#FECB52\"],\"font\":{\"color\":\"#2a3f5f\"},\"hovermode\":\"closest\",\"hoverlabel\":{\"align\":\"left\"},\"paper_bgcolor\":\"white\",\"plot_bgcolor\":\"#E5ECF6\",\"polar\":{\"bgcolor\":\"#E5ECF6\",\"angularaxis\":{\"gridcolor\":\"white\",\"linecolor\":\"white\",\"ticks\":\"\"},\"radialaxis\":{\"gridcolor\":\"white\",\"linecolor\":\"white\",\"ticks\":\"\"}},\"ternary\":{\"bgcolor\":\"#E5ECF6\",\"aaxis\":{\"gridcolor\":\"white\",\"linecolor\":\"white\",\"ticks\":\"\"},\"baxis\":{\"gridcolor\":\"white\",\"linecolor\":\"white\",\"ticks\":\"\"},\"caxis\":{\"gridcolor\":\"white\",\"linecolor\":\"white\",\"ticks\":\"\"}},\"coloraxis\":{\"colorbar\":{\"outlinewidth\":0,\"ticks\":\"\"}},\"colorscale\":{\"sequential\":[[0.0,\"#0d0887\"],[0.1111111111111111,\"#46039f\"],[0.2222222222222222,\"#7201a8\"],[0.3333333333333333,\"#9c179e\"],[0.4444444444444444,\"#bd3786\"],[0.5555555555555556,\"#d8576b\"],[0.6666666666666666,\"#ed7953\"],[0.7777777777777778,\"#fb9f3a\"],[0.8888888888888888,\"#fdca26\"],[1.0,\"#f0f921\"]],\"sequentialminus\":[[0.0,\"#0d0887\"],[0.1111111111111111,\"#46039f\"],[0.2222222222222222,\"#7201a8\"],[0.3333333333333333,\"#9c179e\"],[0.4444444444444444,\"#bd3786\"],[0.5555555555555556,\"#d8576b\"],[0.6666666666666666,\"#ed7953\"],[0.7777777777777778,\"#fb9f3a\"],[0.8888888888888888,\"#fdca26\"],[1.0,\"#f0f921\"]],\"diverging\":[[0,\"#8e0152\"],[0.1,\"#c51b7d\"],[0.2,\"#de77ae\"],[0.3,\"#f1b6da\"],[0.4,\"#fde0ef\"],[0.5,\"#f7f7f7\"],[0.6,\"#e6f5d0\"],[0.7,\"#b8e186\"],[0.8,\"#7fbc41\"],[0.9,\"#4d9221\"],[1,\"#276419\"]]},\"xaxis\":{\"gridcolor\":\"white\",\"linecolor\":\"white\",\"ticks\":\"\",\"title\":{\"standoff\":15},\"zerolinecolor\":\"white\",\"automargin\":true,\"zerolinewidth\":2},\"yaxis\":{\"gridcolor\":\"white\",\"linecolor\":\"white\",\"ticks\":\"\",\"title\":{\"standoff\":15},\"zerolinecolor\":\"white\",\"automargin\":true,\"zerolinewidth\":2},\"scene\":{\"xaxis\":{\"backgroundcolor\":\"#E5ECF6\",\"gridcolor\":\"white\",\"linecolor\":\"white\",\"showbackground\":true,\"ticks\":\"\",\"zerolinecolor\":\"white\",\"gridwidth\":2},\"yaxis\":{\"backgroundcolor\":\"#E5ECF6\",\"gridcolor\":\"white\",\"linecolor\":\"white\",\"showbackground\":true,\"ticks\":\"\",\"zerolinecolor\":\"white\",\"gridwidth\":2},\"zaxis\":{\"backgroundcolor\":\"#E5ECF6\",\"gridcolor\":\"white\",\"linecolor\":\"white\",\"showbackground\":true,\"ticks\":\"\",\"zerolinecolor\":\"white\",\"gridwidth\":2}},\"shapedefaults\":{\"line\":{\"color\":\"#2a3f5f\"}},\"annotationdefaults\":{\"arrowcolor\":\"#2a3f5f\",\"arrowhead\":0,\"arrowwidth\":1},\"geo\":{\"bgcolor\":\"white\",\"landcolor\":\"#E5ECF6\",\"subunitcolor\":\"white\",\"showland\":true,\"showlakes\":true,\"lakecolor\":\"white\"},\"title\":{\"x\":0.05},\"mapbox\":{\"style\":\"light\"}}},\"xaxis\":{\"anchor\":\"y\",\"domain\":[0.0,1.0],\"title\":{\"text\":\"Jaar\"}},\"yaxis\":{\"anchor\":\"x\",\"domain\":[0.0,1.0],\"title\":{\"text\":\"EV\\u2011aandeel (%)\"},\"ticksuffix\":\"%\"},\"legend\":{\"title\":{\"text\":\"Land\"},\"tracegroupgap\":0},\"title\":{\"text\":\"EV\\u2011aandeel in geselecteerde landen\"},\"paper_bgcolor\":\"#FDEDDD\",\"plot_bgcolor\":\"#FDEDDD\"},                        {\"responsive\": true}                    )                };            </script>        </div></div>"
      ],
      "text/plain": [
       "<IPython.core.display.HTML object>"
      ]
     },
     "metadata": {},
     "output_type": "display_data"
    }
   ],
   "source": [
    "\n",
    "from IPython.display import HTML\n",
    "\n",
    "fig_line = px.line(\n",
    "    focus.replace({'geo': code2name}),\n",
    "    x='year', y='evShare', color='geo',\n",
    "    title='EV‑aandeel in geselecteerde landen',\n",
    "    labels=dict(year='Jaar', evShare='EV‑aandeel (%)', geo='Land')\n",
    ")\n",
    "fig_line.update_traces(mode='lines+markers')\n",
    "fig_line.update_yaxes(ticksuffix='%')\n",
    "\n",
    "# Convert to HTML and display\n",
    "fig_line.show() \n"
   ]
  },
  {
   "cell_type": "markdown",
   "id": "d1c9e0b1",
   "metadata": {},
   "source": [
    "Deze lijngrafiek die de evolutie van het EV-aandeel (aandeel elektrische voertuigen) toont voor verschillende Europese landen over een periode van dertien jaar, van 2010 tot en met 2023.\n",
    "\n",
    "Wat deze visualisatie in essentie laat zien, is hoe snel of langzaam de adoptie van elektrische auto's is gegaan in verschillende landen van de Europese Unie (en Noorwegen, dat vaak wordt meegenomen vanwege zijn vooruitstrevende beleid). Het \"EV-aandeel\" wordt hier berekend als het percentage van elektrische auto's (ELC) ten opzichte van het totale aantal geregistreerde voertuigen (TOTAL), vermenigvuldigd met 100%.\n",
    "\n",
    "De belangrijkste observaties zijn:\n",
    "\n",
    "1.  **Noorwegen als koploper:** Dit land springt er direct uit met een significant en consistent hoger EV-aandeel gedurende de gehele periode. De lijn voor Noorwegen zal steil omhoog lopen en zich duidelijk afscheiden van de andere landen.\n",
    "\n",
    "2.  **Variërende groeipatronen:** Voor de meeste andere landen zal je waarschijnlijk een geleidelijke stijging van het EV-aandeel zien, met in de latere jaren (vooral na 2018-2020) een versnelling. Echter, de helling van deze lijnen zal sterk variëren. Sommige landen, zoals Nederland of Zweden, laten mogelijk een snellere groei zien dan landen die minder actief beleid voeren.\n",
    "\n",
    "3.  **Achterblijvers:** Landen zoals Polen en Spanje zullen lijnen vertonen die veel lager liggen en minder steil stijgen. Dit duidt op een tragere adoptie van elektrische voertuigen. De website noemt expliciet dat beleidskeuzes en de beschikbaarheid van laadinfrastructuur hier een bepalende rol spelen. In landen met minder overheidsstimulansen of een onderontwikkeld netwerk van laadpunten, is de drempel om over te stappen op elektrisch rijden hoger.\n",
    "\n",
    "Deze visualisatie dient als een fundamenteel inzicht in de mate van elektrificatie per land voordat het verband wordt gelegd met de CO₂-uitstoot. Het laat zien dat er geen sprake is van een uniforme transitie; elk land heeft zijn eigen tempo en uitdagingen op het pad naar elektrisch rijden."
   ]
  },
  {
   "cell_type": "code",
   "execution_count": 47,
   "id": "e8e076d9",
   "metadata": {
    "tags": [
     "remove-input"
    ]
   },
   "outputs": [
    {
     "data": {
      "text/html": [
       "<div class=\"plot-card\"><div>                        <script type=\"text/javascript\">window.PlotlyConfig = {MathJaxConfig: 'local'};</script>\n",
       "        <script charset=\"utf-8\" src=\"https://cdn.plot.ly/plotly-3.0.1.min.js\"></script>                <div id=\"6de89524-b0ae-4d49-a520-1533e61fbe43\" class=\"plotly-graph-div\" style=\"height:100%; width:100%;\"></div>            <script type=\"text/javascript\">                window.PLOTLYENV=window.PLOTLYENV || {};                                if (document.getElementById(\"6de89524-b0ae-4d49-a520-1533e61fbe43\")) {                    Plotly.newPlot(                        \"6de89524-b0ae-4d49-a520-1533e61fbe43\",                        [{\"customdata\":[\"DE\",\"ES\",\"FR\",\"NL\",\"PL\"],\"hovertemplate\":\"\\u003cb\\u003e%{customdata}\\u003c\\u002fb\\u003e\\u003cbr\\u003eEV: %{x:.2f}%\\u003cbr\\u003eCO\\u2082: %{y:.1f} g\\u002fkm\\u003cextra\\u003e\\u003c\\u002fextra\\u003e\",\"marker\":{\"opacity\":0,\"size\":18},\"mode\":\"markers\",\"x\":{\"dtype\":\"f8\",\"bdata\":\"xUvM147opT9U1O+d+VOKP4PjbumJILI\\u002fM+4nYbLltT8DkIe9CxBJPw==\"},\"y\":{\"dtype\":\"f8\",\"bdata\":\"AAAAAACQYEBmZmZmZqZdQM3MzMzMjFxAMzMzMzPTWkDNzMzMzJxgQA==\"},\"type\":\"scatter\"}],                        {\"images\":[{\"layer\":\"above\",\"sizex\":2.0,\"sizey\":6.0,\"source\":\"https:\\u002f\\u002fflagcdn.com\\u002fw80\\u002fde.png\",\"x\":0.0427899015832263,\"xanchor\":\"center\",\"xref\":\"x\",\"y\":132.5,\"yanchor\":\"middle\",\"yref\":\"y\"},{\"layer\":\"above\",\"sizex\":2.0,\"sizey\":6.0,\"source\":\"https:\\u002f\\u002fflagcdn.com\\u002fw80\\u002fes.png\",\"x\":0.0128554822276589,\"xanchor\":\"center\",\"xref\":\"x\",\"y\":118.6,\"yanchor\":\"middle\",\"yref\":\"y\"},{\"layer\":\"above\",\"sizex\":2.0,\"sizey\":6.0,\"source\":\"https:\\u002f\\u002fflagcdn.com\\u002fw80\\u002ffr.png\",\"x\":0.0708090014367269,\"xanchor\":\"center\",\"xref\":\"x\",\"y\":114.2,\"yanchor\":\"middle\",\"yref\":\"y\"},{\"layer\":\"above\",\"sizex\":2.0,\"sizey\":6.0,\"source\":\"https:\\u002f\\u002fflagcdn.com\\u002fw80\\u002fnl.png\",\"x\":0.0855361449429715,\"xanchor\":\"center\",\"xref\":\"x\",\"y\":107.3,\"yanchor\":\"middle\",\"yref\":\"y\"},{\"layer\":\"above\",\"sizex\":2.0,\"sizey\":6.0,\"source\":\"https:\\u002f\\u002fflagcdn.com\\u002fw80\\u002fpl.png\",\"x\":0.0007648522687842,\"xanchor\":\"center\",\"xref\":\"x\",\"y\":132.9,\"yanchor\":\"middle\",\"yref\":\"y\"}],\"sliders\":[{\"currentvalue\":{\"prefix\":\"Jaar: \"},\"steps\":[{\"args\":[[\"2014\"],{\"mode\":\"immediate\",\"frame\":{\"duration\":400,\"redraw\":false},\"transition\":{\"duration\":300}}],\"label\":\"2014\",\"method\":\"animate\"},{\"args\":[[\"2015\"],{\"mode\":\"immediate\",\"frame\":{\"duration\":400,\"redraw\":false},\"transition\":{\"duration\":300}}],\"label\":\"2015\",\"method\":\"animate\"},{\"args\":[[\"2016\"],{\"mode\":\"immediate\",\"frame\":{\"duration\":400,\"redraw\":false},\"transition\":{\"duration\":300}}],\"label\":\"2016\",\"method\":\"animate\"},{\"args\":[[\"2017\"],{\"mode\":\"immediate\",\"frame\":{\"duration\":400,\"redraw\":false},\"transition\":{\"duration\":300}}],\"label\":\"2017\",\"method\":\"animate\"},{\"args\":[[\"2018\"],{\"mode\":\"immediate\",\"frame\":{\"duration\":400,\"redraw\":false},\"transition\":{\"duration\":300}}],\"label\":\"2018\",\"method\":\"animate\"},{\"args\":[[\"2019\"],{\"mode\":\"immediate\",\"frame\":{\"duration\":400,\"redraw\":false},\"transition\":{\"duration\":300}}],\"label\":\"2019\",\"method\":\"animate\"},{\"args\":[[\"2020\"],{\"mode\":\"immediate\",\"frame\":{\"duration\":400,\"redraw\":false},\"transition\":{\"duration\":300}}],\"label\":\"2020\",\"method\":\"animate\"},{\"args\":[[\"2021\"],{\"mode\":\"immediate\",\"frame\":{\"duration\":400,\"redraw\":false},\"transition\":{\"duration\":300}}],\"label\":\"2021\",\"method\":\"animate\"},{\"args\":[[\"2022\"],{\"mode\":\"immediate\",\"frame\":{\"duration\":400,\"redraw\":false},\"transition\":{\"duration\":300}}],\"label\":\"2022\",\"method\":\"animate\"},{\"args\":[[\"2023\"],{\"mode\":\"immediate\",\"frame\":{\"duration\":400,\"redraw\":false},\"transition\":{\"duration\":300}}],\"label\":\"2023\",\"method\":\"animate\"}]}],\"title\":{\"text\":\"CO\\u2082-uitstoot vs. EV-aandeel (2014)\"},\"xaxis\":{\"ticksuffix\":\"%\",\"title\":{\"text\":\"EV-aandeel (%)\"}},\"yaxis\":{\"title\":{\"text\":\"Gem. CO\\u2082 (g\\u002fkm)\"}},\"template\":{\"data\":{\"histogram2dcontour\":[{\"type\":\"histogram2dcontour\",\"colorbar\":{\"outlinewidth\":0,\"ticks\":\"\"},\"colorscale\":[[0.0,\"#0d0887\"],[0.1111111111111111,\"#46039f\"],[0.2222222222222222,\"#7201a8\"],[0.3333333333333333,\"#9c179e\"],[0.4444444444444444,\"#bd3786\"],[0.5555555555555556,\"#d8576b\"],[0.6666666666666666,\"#ed7953\"],[0.7777777777777778,\"#fb9f3a\"],[0.8888888888888888,\"#fdca26\"],[1.0,\"#f0f921\"]]}],\"choropleth\":[{\"type\":\"choropleth\",\"colorbar\":{\"outlinewidth\":0,\"ticks\":\"\"}}],\"histogram2d\":[{\"type\":\"histogram2d\",\"colorbar\":{\"outlinewidth\":0,\"ticks\":\"\"},\"colorscale\":[[0.0,\"#0d0887\"],[0.1111111111111111,\"#46039f\"],[0.2222222222222222,\"#7201a8\"],[0.3333333333333333,\"#9c179e\"],[0.4444444444444444,\"#bd3786\"],[0.5555555555555556,\"#d8576b\"],[0.6666666666666666,\"#ed7953\"],[0.7777777777777778,\"#fb9f3a\"],[0.8888888888888888,\"#fdca26\"],[1.0,\"#f0f921\"]]}],\"heatmap\":[{\"type\":\"heatmap\",\"colorbar\":{\"outlinewidth\":0,\"ticks\":\"\"},\"colorscale\":[[0.0,\"#0d0887\"],[0.1111111111111111,\"#46039f\"],[0.2222222222222222,\"#7201a8\"],[0.3333333333333333,\"#9c179e\"],[0.4444444444444444,\"#bd3786\"],[0.5555555555555556,\"#d8576b\"],[0.6666666666666666,\"#ed7953\"],[0.7777777777777778,\"#fb9f3a\"],[0.8888888888888888,\"#fdca26\"],[1.0,\"#f0f921\"]]}],\"contourcarpet\":[{\"type\":\"contourcarpet\",\"colorbar\":{\"outlinewidth\":0,\"ticks\":\"\"}}],\"contour\":[{\"type\":\"contour\",\"colorbar\":{\"outlinewidth\":0,\"ticks\":\"\"},\"colorscale\":[[0.0,\"#0d0887\"],[0.1111111111111111,\"#46039f\"],[0.2222222222222222,\"#7201a8\"],[0.3333333333333333,\"#9c179e\"],[0.4444444444444444,\"#bd3786\"],[0.5555555555555556,\"#d8576b\"],[0.6666666666666666,\"#ed7953\"],[0.7777777777777778,\"#fb9f3a\"],[0.8888888888888888,\"#fdca26\"],[1.0,\"#f0f921\"]]}],\"surface\":[{\"type\":\"surface\",\"colorbar\":{\"outlinewidth\":0,\"ticks\":\"\"},\"colorscale\":[[0.0,\"#0d0887\"],[0.1111111111111111,\"#46039f\"],[0.2222222222222222,\"#7201a8\"],[0.3333333333333333,\"#9c179e\"],[0.4444444444444444,\"#bd3786\"],[0.5555555555555556,\"#d8576b\"],[0.6666666666666666,\"#ed7953\"],[0.7777777777777778,\"#fb9f3a\"],[0.8888888888888888,\"#fdca26\"],[1.0,\"#f0f921\"]]}],\"mesh3d\":[{\"type\":\"mesh3d\",\"colorbar\":{\"outlinewidth\":0,\"ticks\":\"\"}}],\"scatter\":[{\"fillpattern\":{\"fillmode\":\"overlay\",\"size\":10,\"solidity\":0.2},\"type\":\"scatter\"}],\"parcoords\":[{\"type\":\"parcoords\",\"line\":{\"colorbar\":{\"outlinewidth\":0,\"ticks\":\"\"}}}],\"scatterpolargl\":[{\"type\":\"scatterpolargl\",\"marker\":{\"colorbar\":{\"outlinewidth\":0,\"ticks\":\"\"}}}],\"bar\":[{\"error_x\":{\"color\":\"#2a3f5f\"},\"error_y\":{\"color\":\"#2a3f5f\"},\"marker\":{\"line\":{\"color\":\"#E5ECF6\",\"width\":0.5},\"pattern\":{\"fillmode\":\"overlay\",\"size\":10,\"solidity\":0.2}},\"type\":\"bar\"}],\"scattergeo\":[{\"type\":\"scattergeo\",\"marker\":{\"colorbar\":{\"outlinewidth\":0,\"ticks\":\"\"}}}],\"scatterpolar\":[{\"type\":\"scatterpolar\",\"marker\":{\"colorbar\":{\"outlinewidth\":0,\"ticks\":\"\"}}}],\"histogram\":[{\"marker\":{\"pattern\":{\"fillmode\":\"overlay\",\"size\":10,\"solidity\":0.2}},\"type\":\"histogram\"}],\"scattergl\":[{\"type\":\"scattergl\",\"marker\":{\"colorbar\":{\"outlinewidth\":0,\"ticks\":\"\"}}}],\"scatter3d\":[{\"type\":\"scatter3d\",\"line\":{\"colorbar\":{\"outlinewidth\":0,\"ticks\":\"\"}},\"marker\":{\"colorbar\":{\"outlinewidth\":0,\"ticks\":\"\"}}}],\"scattermap\":[{\"type\":\"scattermap\",\"marker\":{\"colorbar\":{\"outlinewidth\":0,\"ticks\":\"\"}}}],\"scattermapbox\":[{\"type\":\"scattermapbox\",\"marker\":{\"colorbar\":{\"outlinewidth\":0,\"ticks\":\"\"}}}],\"scatterternary\":[{\"type\":\"scatterternary\",\"marker\":{\"colorbar\":{\"outlinewidth\":0,\"ticks\":\"\"}}}],\"scattercarpet\":[{\"type\":\"scattercarpet\",\"marker\":{\"colorbar\":{\"outlinewidth\":0,\"ticks\":\"\"}}}],\"carpet\":[{\"aaxis\":{\"endlinecolor\":\"#2a3f5f\",\"gridcolor\":\"white\",\"linecolor\":\"white\",\"minorgridcolor\":\"white\",\"startlinecolor\":\"#2a3f5f\"},\"baxis\":{\"endlinecolor\":\"#2a3f5f\",\"gridcolor\":\"white\",\"linecolor\":\"white\",\"minorgridcolor\":\"white\",\"startlinecolor\":\"#2a3f5f\"},\"type\":\"carpet\"}],\"table\":[{\"cells\":{\"fill\":{\"color\":\"#EBF0F8\"},\"line\":{\"color\":\"white\"}},\"header\":{\"fill\":{\"color\":\"#C8D4E3\"},\"line\":{\"color\":\"white\"}},\"type\":\"table\"}],\"barpolar\":[{\"marker\":{\"line\":{\"color\":\"#E5ECF6\",\"width\":0.5},\"pattern\":{\"fillmode\":\"overlay\",\"size\":10,\"solidity\":0.2}},\"type\":\"barpolar\"}],\"pie\":[{\"automargin\":true,\"type\":\"pie\"}]},\"layout\":{\"autotypenumbers\":\"strict\",\"colorway\":[\"#636efa\",\"#EF553B\",\"#00cc96\",\"#ab63fa\",\"#FFA15A\",\"#19d3f3\",\"#FF6692\",\"#B6E880\",\"#FF97FF\",\"#FECB52\"],\"font\":{\"color\":\"#2a3f5f\"},\"hovermode\":\"closest\",\"hoverlabel\":{\"align\":\"left\"},\"paper_bgcolor\":\"white\",\"plot_bgcolor\":\"#E5ECF6\",\"polar\":{\"bgcolor\":\"#E5ECF6\",\"angularaxis\":{\"gridcolor\":\"white\",\"linecolor\":\"white\",\"ticks\":\"\"},\"radialaxis\":{\"gridcolor\":\"white\",\"linecolor\":\"white\",\"ticks\":\"\"}},\"ternary\":{\"bgcolor\":\"#E5ECF6\",\"aaxis\":{\"gridcolor\":\"white\",\"linecolor\":\"white\",\"ticks\":\"\"},\"baxis\":{\"gridcolor\":\"white\",\"linecolor\":\"white\",\"ticks\":\"\"},\"caxis\":{\"gridcolor\":\"white\",\"linecolor\":\"white\",\"ticks\":\"\"}},\"coloraxis\":{\"colorbar\":{\"outlinewidth\":0,\"ticks\":\"\"}},\"colorscale\":{\"sequential\":[[0.0,\"#0d0887\"],[0.1111111111111111,\"#46039f\"],[0.2222222222222222,\"#7201a8\"],[0.3333333333333333,\"#9c179e\"],[0.4444444444444444,\"#bd3786\"],[0.5555555555555556,\"#d8576b\"],[0.6666666666666666,\"#ed7953\"],[0.7777777777777778,\"#fb9f3a\"],[0.8888888888888888,\"#fdca26\"],[1.0,\"#f0f921\"]],\"sequentialminus\":[[0.0,\"#0d0887\"],[0.1111111111111111,\"#46039f\"],[0.2222222222222222,\"#7201a8\"],[0.3333333333333333,\"#9c179e\"],[0.4444444444444444,\"#bd3786\"],[0.5555555555555556,\"#d8576b\"],[0.6666666666666666,\"#ed7953\"],[0.7777777777777778,\"#fb9f3a\"],[0.8888888888888888,\"#fdca26\"],[1.0,\"#f0f921\"]],\"diverging\":[[0,\"#8e0152\"],[0.1,\"#c51b7d\"],[0.2,\"#de77ae\"],[0.3,\"#f1b6da\"],[0.4,\"#fde0ef\"],[0.5,\"#f7f7f7\"],[0.6,\"#e6f5d0\"],[0.7,\"#b8e186\"],[0.8,\"#7fbc41\"],[0.9,\"#4d9221\"],[1,\"#276419\"]]},\"xaxis\":{\"gridcolor\":\"white\",\"linecolor\":\"white\",\"ticks\":\"\",\"title\":{\"standoff\":15},\"zerolinecolor\":\"white\",\"automargin\":true,\"zerolinewidth\":2},\"yaxis\":{\"gridcolor\":\"white\",\"linecolor\":\"white\",\"ticks\":\"\",\"title\":{\"standoff\":15},\"zerolinecolor\":\"white\",\"automargin\":true,\"zerolinewidth\":2},\"scene\":{\"xaxis\":{\"backgroundcolor\":\"#E5ECF6\",\"gridcolor\":\"white\",\"linecolor\":\"white\",\"showbackground\":true,\"ticks\":\"\",\"zerolinecolor\":\"white\",\"gridwidth\":2},\"yaxis\":{\"backgroundcolor\":\"#E5ECF6\",\"gridcolor\":\"white\",\"linecolor\":\"white\",\"showbackground\":true,\"ticks\":\"\",\"zerolinecolor\":\"white\",\"gridwidth\":2},\"zaxis\":{\"backgroundcolor\":\"#E5ECF6\",\"gridcolor\":\"white\",\"linecolor\":\"white\",\"showbackground\":true,\"ticks\":\"\",\"zerolinecolor\":\"white\",\"gridwidth\":2}},\"shapedefaults\":{\"line\":{\"color\":\"#2a3f5f\"}},\"annotationdefaults\":{\"arrowcolor\":\"#2a3f5f\",\"arrowhead\":0,\"arrowwidth\":1},\"geo\":{\"bgcolor\":\"white\",\"landcolor\":\"#E5ECF6\",\"subunitcolor\":\"white\",\"showland\":true,\"showlakes\":true,\"lakecolor\":\"white\"},\"title\":{\"x\":0.05},\"mapbox\":{\"style\":\"light\"}}},\"paper_bgcolor\":\"#FDEDDD\",\"plot_bgcolor\":\"#FDEDDD\"},                        {\"responsive\": true}                    ).then(function(){\n",
       "                            Plotly.addFrames('6de89524-b0ae-4d49-a520-1533e61fbe43', [{\"data\":[{\"customdata\":[\"DE\",\"ES\",\"FR\",\"NL\",\"PL\"],\"hovertemplate\":\"\\u003cb\\u003e%{customdata}\\u003c\\u002fb\\u003e\\u003cbr\\u003eEV: %{x:.2f}%\\u003cbr\\u003eCO\\u2082: %{y:.1f} g\\u002fkm\\u003cextra\\u003e\\u003c\\u002fextra\\u003e\",\"marker\":{\"opacity\":0,\"size\":18},\"mode\":\"markers\",\"x\":{\"dtype\":\"f8\",\"bdata\":\"xUvM147opT9U1O+d+VOKP4PjbumJILI\\u002fM+4nYbLltT8DkIe9CxBJPw==\"},\"y\":{\"dtype\":\"f8\",\"bdata\":\"AAAAAACQYEBmZmZmZqZdQM3MzMzMjFxAMzMzMzPTWkDNzMzMzJxgQA==\"},\"type\":\"scatter\"}],\"layout\":{\"images\":[{\"layer\":\"above\",\"sizex\":2.0,\"sizey\":6.0,\"source\":\"https:\\u002f\\u002fflagcdn.com\\u002fw80\\u002fde.png\",\"x\":0.0427899015832263,\"xanchor\":\"center\",\"xref\":\"x\",\"y\":132.5,\"yanchor\":\"middle\",\"yref\":\"y\"},{\"layer\":\"above\",\"sizex\":2.0,\"sizey\":6.0,\"source\":\"https:\\u002f\\u002fflagcdn.com\\u002fw80\\u002fes.png\",\"x\":0.0128554822276589,\"xanchor\":\"center\",\"xref\":\"x\",\"y\":118.6,\"yanchor\":\"middle\",\"yref\":\"y\"},{\"layer\":\"above\",\"sizex\":2.0,\"sizey\":6.0,\"source\":\"https:\\u002f\\u002fflagcdn.com\\u002fw80\\u002ffr.png\",\"x\":0.0708090014367269,\"xanchor\":\"center\",\"xref\":\"x\",\"y\":114.2,\"yanchor\":\"middle\",\"yref\":\"y\"},{\"layer\":\"above\",\"sizex\":2.0,\"sizey\":6.0,\"source\":\"https:\\u002f\\u002fflagcdn.com\\u002fw80\\u002fnl.png\",\"x\":0.0855361449429715,\"xanchor\":\"center\",\"xref\":\"x\",\"y\":107.3,\"yanchor\":\"middle\",\"yref\":\"y\"},{\"layer\":\"above\",\"sizex\":2.0,\"sizey\":6.0,\"source\":\"https:\\u002f\\u002fflagcdn.com\\u002fw80\\u002fpl.png\",\"x\":0.0007648522687842,\"xanchor\":\"center\",\"xref\":\"x\",\"y\":132.9,\"yanchor\":\"middle\",\"yref\":\"y\"}]},\"name\":\"2014\"},{\"data\":[{\"customdata\":[\"DE\",\"ES\",\"FR\",\"NL\",\"PL\"],\"hovertemplate\":\"\\u003cb\\u003e%{customdata}\\u003c\\u002fb\\u003e\\u003cbr\\u003eEV: %{x:.2f}%\\u003cbr\\u003eCO\\u2082: %{y:.1f} g\\u002fkm\\u003cextra\\u003e\\u003c\\u002fextra\\u003e\",\"marker\":{\"opacity\":0,\"size\":18},\"mode\":\"markers\",\"x\":{\"dtype\":\"f8\",\"bdata\":\"sAHbfh6JrT\\u002fd1z8bAgSYPw9d0Ey82bw\\u002fsZfQXkJ7vz9z8bbZu+tTPw==\"},\"y\":{\"dtype\":\"f8\",\"bdata\":\"mpmZmZkJYEAzMzMzM9NcQAAAAAAAwFtAzczMzMxMWUCamZmZmSlgQA==\"},\"type\":\"scatter\"}],\"layout\":{\"images\":[{\"layer\":\"above\",\"sizex\":2.0,\"sizey\":6.0,\"source\":\"https:\\u002f\\u002fflagcdn.com\\u002fw80\\u002fde.png\",\"x\":0.0576867608883761,\"xanchor\":\"center\",\"xref\":\"x\",\"y\":128.3,\"yanchor\":\"middle\",\"yref\":\"y\"},{\"layer\":\"above\",\"sizex\":2.0,\"sizey\":6.0,\"source\":\"https:\\u002f\\u002fflagcdn.com\\u002fw80\\u002fes.png\",\"x\":0.023452790177508,\"xanchor\":\"center\",\"xref\":\"x\",\"y\":115.3,\"yanchor\":\"middle\",\"yref\":\"y\"},{\"layer\":\"above\",\"sizex\":2.0,\"sizey\":6.0,\"source\":\"https:\\u002f\\u002fflagcdn.com\\u002fw80\\u002ffr.png\",\"x\":0.1126973807844147,\"xanchor\":\"center\",\"xref\":\"x\",\"y\":111.0,\"yanchor\":\"middle\",\"yref\":\"y\"},{\"layer\":\"above\",\"sizex\":2.0,\"sizey\":6.0,\"source\":\"https:\\u002f\\u002fflagcdn.com\\u002fw80\\u002fnl.png\",\"x\":0.122974537037037,\"xanchor\":\"center\",\"xref\":\"x\",\"y\":101.2,\"yanchor\":\"middle\",\"yref\":\"y\"},{\"layer\":\"above\",\"sizex\":2.0,\"sizey\":6.0,\"source\":\"https:\\u002f\\u002fflagcdn.com\\u002fw80\\u002fpl.png\",\"x\":0.0012158712842015,\"xanchor\":\"center\",\"xref\":\"x\",\"y\":129.3,\"yanchor\":\"middle\",\"yref\":\"y\"}]},\"name\":\"2015\"},{\"data\":[{\"customdata\":[\"DE\",\"ES\",\"FR\",\"NL\",\"PL\"],\"hovertemplate\":\"\\u003cb\\u003e%{customdata}\\u003c\\u002fb\\u003e\\u003cbr\\u003eEV: %{x:.2f}%\\u003cbr\\u003eCO\\u2082: %{y:.1f} g\\u002fkm\\u003cextra\\u003e\\u003c\\u002fextra\\u003e\",\"marker\":{\"opacity\":0,\"size\":18},\"mode\":\"markers\",\"x\":{\"dtype\":\"f8\",\"bdata\":\"C0gXNuMDsz9MJAGhwsOZP1t4a6cd18Q\\u002fyVKjz\\u002fFWxT83u59IxHVePw==\"},\"y\":{\"dtype\":\"f8\",\"bdata\":\"mpmZmZm5X0CamZmZmZlcQDMzMzMzc1tAmpmZmZl5WkAzMzMzM3NfQA==\"},\"type\":\"scatter\"}],\"layout\":{\"images\":[{\"layer\":\"above\",\"sizex\":2.0,\"sizey\":6.0,\"source\":\"https:\\u002f\\u002fflagcdn.com\\u002fw80\\u002fde.png\",\"x\":0.0742780692155806,\"xanchor\":\"center\",\"xref\":\"x\",\"y\":126.9,\"yanchor\":\"middle\",\"yref\":\"y\"},{\"layer\":\"above\",\"sizex\":2.0,\"sizey\":6.0,\"source\":\"https:\\u002f\\u002fflagcdn.com\\u002fw80\\u002fes.png\",\"x\":0.0251608286637615,\"xanchor\":\"center\",\"xref\":\"x\",\"y\":114.4,\"yanchor\":\"middle\",\"yref\":\"y\"},{\"layer\":\"above\",\"sizex\":2.0,\"sizey\":6.0,\"source\":\"https:\\u002f\\u002fflagcdn.com\\u002fw80\\u002ffr.png\",\"x\":0.162814814327194,\"xanchor\":\"center\",\"xref\":\"x\",\"y\":109.8,\"yanchor\":\"middle\",\"yref\":\"y\"},{\"layer\":\"above\",\"sizex\":2.0,\"sizey\":6.0,\"source\":\"https:\\u002f\\u002fflagcdn.com\\u002fw80\\u002fnl.png\",\"x\":0.1667158378465017,\"xanchor\":\"center\",\"xref\":\"x\",\"y\":105.9,\"yanchor\":\"middle\",\"yref\":\"y\"},{\"layer\":\"above\",\"sizex\":2.0,\"sizey\":6.0,\"source\":\"https:\\u002f\\u002fflagcdn.com\\u002fw80\\u002fpl.png\",\"x\":0.0018591324646839,\"xanchor\":\"center\",\"xref\":\"x\",\"y\":125.8,\"yanchor\":\"middle\",\"yref\":\"y\"}]},\"name\":\"2016\"},{\"data\":[{\"customdata\":[\"DE\",\"ES\",\"FR\",\"NL\",\"PL\"],\"hovertemplate\":\"\\u003cb\\u003e%{customdata}\\u003c\\u002fb\\u003e\\u003cbr\\u003eEV: %{x:.2f}%\\u003cbr\\u003eCO\\u2082: %{y:.1f} g\\u002fkm\\u003cextra\\u003e\\u003c\\u002fextra\\u003e\",\"marker\":{\"opacity\":0,\"size\":18},\"mode\":\"markers\",\"x\":{\"dtype\":\"f8\",\"bdata\":\"nNHTETGrvT+3XrnyKBakP1TM6weDsss\\u002fkgnB4tex0D8cexjQjwxzPw==\"},\"y\":{\"dtype\":\"f8\",\"bdata\":\"ZmZmZmZGY0DNzMzMzGxhQJqZmZmZuWBAmpmZmZlpYEBmZmZmZlZjQA==\"},\"type\":\"scatter\"}],\"layout\":{\"images\":[{\"layer\":\"above\",\"sizex\":2.0,\"sizey\":6.0,\"source\":\"https:\\u002f\\u002fflagcdn.com\\u002fw80\\u002fde.png\",\"x\":0.1158934277080505,\"xanchor\":\"center\",\"xref\":\"x\",\"y\":154.2,\"yanchor\":\"middle\",\"yref\":\"y\"},{\"layer\":\"above\",\"sizex\":2.0,\"sizey\":6.0,\"source\":\"https:\\u002f\\u002fflagcdn.com\\u002fw80\\u002fes.png\",\"x\":0.0392315670293874,\"xanchor\":\"center\",\"xref\":\"x\",\"y\":139.4,\"yanchor\":\"middle\",\"yref\":\"y\"},{\"layer\":\"above\",\"sizex\":2.0,\"sizey\":6.0,\"source\":\"https:\\u002f\\u002fflagcdn.com\\u002fw80\\u002ffr.png\",\"x\":0.2163852490117245,\"xanchor\":\"center\",\"xref\":\"x\",\"y\":133.8,\"yanchor\":\"middle\",\"yref\":\"y\"},{\"layer\":\"above\",\"sizex\":2.0,\"sizey\":6.0,\"source\":\"https:\\u002f\\u002fflagcdn.com\\u002fw80\\u002fnl.png\",\"x\":0.2608546938319246,\"xanchor\":\"center\",\"xref\":\"x\",\"y\":131.3,\"yanchor\":\"middle\",\"yref\":\"y\"},{\"layer\":\"above\",\"sizex\":2.0,\"sizey\":6.0,\"source\":\"https:\\u002f\\u002fflagcdn.com\\u002fw80\\u002fpl.png\",\"x\":0.0046506517114995,\"xanchor\":\"center\",\"xref\":\"x\",\"y\":154.7,\"yanchor\":\"middle\",\"yref\":\"y\"}]},\"name\":\"2017\"},{\"data\":[{\"customdata\":[\"DE\",\"ES\",\"FR\",\"NL\",\"PL\"],\"hovertemplate\":\"\\u003cb\\u003e%{customdata}\\u003c\\u002fb\\u003e\\u003cbr\\u003eEV: %{x:.2f}%\\u003cbr\\u003eCO\\u2082: %{y:.1f} g\\u002fkm\\u003cextra\\u003e\\u003c\\u002fextra\\u003e\",\"marker\":{\"opacity\":0,\"size\":18},\"mode\":\"markers\",\"x\":{\"dtype\":\"f8\",\"bdata\":\"wFbUqhibxj\\u002fPn6E76wywP4sgs1LR09E\\u002fk\\u002fAWTZPl4D\\u002fHHRio0wqPPw==\"},\"y\":{\"dtype\":\"f8\",\"bdata\":\"AAAAAACgY0AzMzMzM+NhQAAAAAAAAGFAmpmZmZn5X0CamZmZmaljQA==\"},\"type\":\"scatter\"}],\"layout\":{\"images\":[{\"layer\":\"above\",\"sizex\":2.0,\"sizey\":6.0,\"source\":\"https:\\u002f\\u002fflagcdn.com\\u002fw80\\u002fde.png\",\"x\":0.1766081651809852,\"xanchor\":\"center\",\"xref\":\"x\",\"y\":157.0,\"yanchor\":\"middle\",\"yref\":\"y\"},{\"layer\":\"above\",\"sizex\":2.0,\"sizey\":6.0,\"source\":\"https:\\u002f\\u002fflagcdn.com\\u002fw80\\u002fes.png\",\"x\":0.0626971264442766,\"xanchor\":\"center\",\"xref\":\"x\",\"y\":143.1,\"yanchor\":\"middle\",\"yref\":\"y\"},{\"layer\":\"above\",\"sizex\":2.0,\"sizey\":6.0,\"source\":\"https:\\u002f\\u002fflagcdn.com\\u002fw80\\u002ffr.png\",\"x\":0.278553324471894,\"xanchor\":\"center\",\"xref\":\"x\",\"y\":136.0,\"yanchor\":\"middle\",\"yref\":\"y\"},{\"layer\":\"above\",\"sizex\":2.0,\"sizey\":6.0,\"source\":\"https:\\u002f\\u002fflagcdn.com\\u002fw80\\u002fnl.png\",\"x\":0.528024340215341,\"xanchor\":\"center\",\"xref\":\"x\",\"y\":127.9,\"yanchor\":\"middle\",\"yref\":\"y\"},{\"layer\":\"above\",\"sizex\":2.0,\"sizey\":6.0,\"source\":\"https:\\u002f\\u002fflagcdn.com\\u002fw80\\u002fpl.png\",\"x\":0.0151573692010193,\"xanchor\":\"center\",\"xref\":\"x\",\"y\":157.3,\"yanchor\":\"middle\",\"yref\":\"y\"}]},\"name\":\"2018\"},{\"data\":[{\"customdata\":[\"DE\",\"ES\",\"FR\",\"NL\",\"PL\"],\"hovertemplate\":\"\\u003cb\\u003e%{customdata}\\u003c\\u002fb\\u003e\\u003cbr\\u003eEV: %{x:.2f}%\\u003cbr\\u003eCO\\u2082: %{y:.1f} g\\u002fkm\\u003cextra\\u003e\\u003c\\u002fextra\\u003e\",\"marker\":{\"opacity\":0,\"size\":18},\"mode\":\"markers\",\"x\":{\"dtype\":\"f8\",\"bdata\":\"+08UXfNS0j857gFnBfW5P4hxq7nmi9c\\u002fbitsxc7M8z+57iK7DOaZPw==\"},\"y\":{\"dtype\":\"f8\",\"bdata\":\"AAAAAADgY0AAAAAAAGBiQM3MzMzMPGFAMzMzMzPTXUAAAAAAAMBjQA==\"},\"type\":\"scatter\"}],\"layout\":{\"images\":[{\"layer\":\"above\",\"sizex\":2.0,\"sizey\":6.0,\"source\":\"https:\\u002f\\u002fflagcdn.com\\u002fw80\\u002fde.png\",\"x\":0.2863129052141173,\"xanchor\":\"center\",\"xref\":\"x\",\"y\":159.0,\"yanchor\":\"middle\",\"yref\":\"y\"},{\"layer\":\"above\",\"sizex\":2.0,\"sizey\":6.0,\"source\":\"https:\\u002f\\u002fflagcdn.com\\u002fw80\\u002fes.png\",\"x\":0.1013949753268485,\"xanchor\":\"center\",\"xref\":\"x\",\"y\":147.0,\"yanchor\":\"middle\",\"yref\":\"y\"},{\"layer\":\"above\",\"sizex\":2.0,\"sizey\":6.0,\"source\":\"https:\\u002f\\u002fflagcdn.com\\u002fw80\\u002ffr.png\",\"x\":0.3679138959103274,\"xanchor\":\"center\",\"xref\":\"x\",\"y\":137.9,\"yanchor\":\"middle\",\"yref\":\"y\"},{\"layer\":\"above\",\"sizex\":2.0,\"sizey\":6.0,\"source\":\"https:\\u002f\\u002fflagcdn.com\\u002fw80\\u002fnl.png\",\"x\":1.237501879865444,\"xanchor\":\"center\",\"xref\":\"x\",\"y\":119.3,\"yanchor\":\"middle\",\"yref\":\"y\"},{\"layer\":\"above\",\"sizex\":2.0,\"sizey\":6.0,\"source\":\"https:\\u002f\\u002fflagcdn.com\\u002fw80\\u002fpl.png\",\"x\":0.0252916325778034,\"xanchor\":\"center\",\"xref\":\"x\",\"y\":158.0,\"yanchor\":\"middle\",\"yref\":\"y\"}]},\"name\":\"2019\"},{\"data\":[{\"customdata\":[\"DE\",\"ES\",\"FR\",\"NL\",\"PL\"],\"hovertemplate\":\"\\u003cb\\u003e%{customdata}\\u003c\\u002fb\\u003e\\u003cbr\\u003eEV: %{x:.2f}%\\u003cbr\\u003eCO\\u2082: %{y:.1f} g\\u002fkm\\u003cextra\\u003e\\u003c\\u002fextra\\u003e\",\"marker\":{\"opacity\":0,\"size\":18},\"mode\":\"markers\",\"x\":{\"dtype\":\"f8\",\"bdata\":\"diPpvtZ\\u002f5D8ypj5QuT3FP7iNPra7Y+Q\\u002fy0\\u002fRK54BAED7KmA\\u002fU9enPw==\"},\"y\":{\"dtype\":\"f8\",\"bdata\":\"AAAAAAAAYUAAAAAAAPBgQGZmZmZmRl5AmpmZmZkZWkAAAAAAAEBiQA==\"},\"type\":\"scatter\"}],\"layout\":{\"images\":[{\"layer\":\"above\",\"sizex\":2.0,\"sizey\":6.0,\"source\":\"https:\\u002f\\u002fflagcdn.com\\u002fw80\\u002fde.png\",\"x\":0.6406053284382398,\"xanchor\":\"center\",\"xref\":\"x\",\"y\":136.0,\"yanchor\":\"middle\",\"yref\":\"y\"},{\"layer\":\"above\",\"sizex\":2.0,\"sizey\":6.0,\"source\":\"https:\\u002f\\u002fflagcdn.com\\u002fw80\\u002fes.png\",\"x\":0.1659461633510531,\"xanchor\":\"center\",\"xref\":\"x\",\"y\":135.5,\"yanchor\":\"middle\",\"yref\":\"y\"},{\"layer\":\"above\",\"sizex\":2.0,\"sizey\":6.0,\"source\":\"https:\\u002f\\u002fflagcdn.com\\u002fw80\\u002ffr.png\",\"x\":0.6371744689426384,\"xanchor\":\"center\",\"xref\":\"x\",\"y\":121.1,\"yanchor\":\"middle\",\"yref\":\"y\"},{\"layer\":\"above\",\"sizex\":2.0,\"sizey\":6.0,\"source\":\"https:\\u002f\\u002fflagcdn.com\\u002fw80\\u002fnl.png\",\"x\":2.000789968800722,\"xanchor\":\"center\",\"xref\":\"x\",\"y\":104.4,\"yanchor\":\"middle\",\"yref\":\"y\"},{\"layer\":\"above\",\"sizex\":2.0,\"sizey\":6.0,\"source\":\"https:\\u002f\\u002fflagcdn.com\\u002fw80\\u002fpl.png\",\"x\":0.0465646757948743,\"xanchor\":\"center\",\"xref\":\"x\",\"y\":146.0,\"yanchor\":\"middle\",\"yref\":\"y\"}]},\"name\":\"2020\"},{\"data\":[{\"customdata\":[\"DE\",\"ES\",\"FR\",\"NL\",\"NO\",\"PL\"],\"hovertemplate\":\"\\u003cb\\u003e%{customdata}\\u003c\\u002fb\\u003e\\u003cbr\\u003eEV: %{x:.2f}%\\u003cbr\\u003eCO\\u2082: %{y:.1f} g\\u002fkm\\u003cextra\\u003e\\u003c\\u002fextra\\u003e\",\"marker\":{\"opacity\":0,\"size\":18},\"mode\":\"markers\",\"x\":{\"dtype\":\"f8\",\"bdata\":\"JxPjIrhi9D+rhCLH0xXQP0L27hgvoPA\\u002fSBcgOAg2BkDTqiSPDP8uQFw+CpA8vLU\\u002f\"},\"y\":{\"dtype\":\"f8\",\"bdata\":\"AAAAAABgXEAAAAAAAIBfQGZmZmZmJltAZmZmZmbGV0CamZmZmZk7QDMzMzMzM2FA\"},\"type\":\"scatter\"}],\"layout\":{\"images\":[{\"layer\":\"above\",\"sizex\":2.0,\"sizey\":6.0,\"source\":\"https:\\u002f\\u002fflagcdn.com\\u002fw80\\u002fde.png\",\"x\":1.2741013872884623,\"xanchor\":\"center\",\"xref\":\"x\",\"y\":113.5,\"yanchor\":\"middle\",\"yref\":\"y\"},{\"layer\":\"above\",\"sizex\":2.0,\"sizey\":6.0,\"source\":\"https:\\u002f\\u002fflagcdn.com\\u002fw80\\u002fes.png\",\"x\":0.2513322300602094,\"xanchor\":\"center\",\"xref\":\"x\",\"y\":126.0,\"yanchor\":\"middle\",\"yref\":\"y\"},{\"layer\":\"above\",\"sizex\":2.0,\"sizey\":6.0,\"source\":\"https:\\u002f\\u002fflagcdn.com\\u002fw80\\u002ffr.png\",\"x\":1.0391074155771922,\"xanchor\":\"center\",\"xref\":\"x\",\"y\":108.6,\"yanchor\":\"middle\",\"yref\":\"y\"},{\"layer\":\"above\",\"sizex\":2.0,\"sizey\":6.0,\"source\":\"https:\\u002f\\u002fflagcdn.com\\u002fw80\\u002fnl.png\",\"x\":2.7763828644555453,\"xanchor\":\"center\",\"xref\":\"x\",\"y\":95.1,\"yanchor\":\"middle\",\"yref\":\"y\"},{\"layer\":\"above\",\"sizex\":2.0,\"sizey\":6.0,\"source\":\"https:\\u002f\\u002fflagcdn.com\\u002fw80\\u002fno.png\",\"x\":15.49814269373511,\"xanchor\":\"center\",\"xref\":\"x\",\"y\":27.6,\"yanchor\":\"middle\",\"yref\":\"y\"},{\"layer\":\"above\",\"sizex\":2.0,\"sizey\":6.0,\"source\":\"https:\\u002f\\u002fflagcdn.com\\u002fw80\\u002fpl.png\",\"x\":0.0849035121593657,\"xanchor\":\"center\",\"xref\":\"x\",\"y\":137.6,\"yanchor\":\"middle\",\"yref\":\"y\"}]},\"name\":\"2021\"},{\"data\":[{\"customdata\":[\"DE\",\"ES\",\"FR\",\"NL\",\"NO\",\"PL\"],\"hovertemplate\":\"\\u003cb\\u003e%{customdata}\\u003c\\u002fb\\u003e\\u003cbr\\u003eEV: %{x:.2f}%\\u003cbr\\u003eCO\\u2082: %{y:.1f} g\\u002fkm\\u003cextra\\u003e\\u003c\\u002fextra\\u003e\",\"marker\":{\"opacity\":0,\"size\":18},\"mode\":\"markers\",\"x\":{\"dtype\":\"f8\",\"bdata\":\"bt9TAoqeAEB6I0stOADXP2uKCquBiPg\\u002fqZQhKrydDUBDESF3+R80QNswXyWiZcI\\u002f\"},\"y\":{\"dtype\":\"f8\",\"bdata\":\"mpmZmZl5WkAAAAAAAGBeQGZmZmZmxllAMzMzMzOzVUDNzMzMzMwxQGZmZmZm9mBA\"},\"type\":\"scatter\"}],\"layout\":{\"images\":[{\"layer\":\"above\",\"sizex\":2.0,\"sizey\":6.0,\"source\":\"https:\\u002f\\u002fflagcdn.com\\u002fw80\\u002fde.png\",\"x\":2.0774116689535083,\"xanchor\":\"center\",\"xref\":\"x\",\"y\":105.9,\"yanchor\":\"middle\",\"yref\":\"y\"},{\"layer\":\"above\",\"sizex\":2.0,\"sizey\":6.0,\"source\":\"https:\\u002f\\u002fflagcdn.com\\u002fw80\\u002fes.png\",\"x\":0.3593883936232981,\"xanchor\":\"center\",\"xref\":\"x\",\"y\":121.5,\"yanchor\":\"middle\",\"yref\":\"y\"},{\"layer\":\"above\",\"sizex\":2.0,\"sizey\":6.0,\"source\":\"https:\\u002f\\u002fflagcdn.com\\u002fw80\\u002ffr.png\",\"x\":1.5333267861648447,\"xanchor\":\"center\",\"xref\":\"x\",\"y\":103.1,\"yanchor\":\"middle\",\"yref\":\"y\"},{\"layer\":\"above\",\"sizex\":2.0,\"sizey\":6.0,\"source\":\"https:\\u002f\\u002fflagcdn.com\\u002fw80\\u002fnl.png\",\"x\":3.702019051694681,\"xanchor\":\"center\",\"xref\":\"x\",\"y\":86.8,\"yanchor\":\"middle\",\"yref\":\"y\"},{\"layer\":\"above\",\"sizex\":2.0,\"sizey\":6.0,\"source\":\"https:\\u002f\\u002fflagcdn.com\\u002fw80\\u002fno.png\",\"x\":20.1249002891284,\"xanchor\":\"center\",\"xref\":\"x\",\"y\":17.8,\"yanchor\":\"middle\",\"yref\":\"y\"},{\"layer\":\"above\",\"sizex\":2.0,\"sizey\":6.0,\"source\":\"https:\\u002f\\u002fflagcdn.com\\u002fw80\\u002fpl.png\",\"x\":0.143726604698151,\"xanchor\":\"center\",\"xref\":\"x\",\"y\":135.7,\"yanchor\":\"middle\",\"yref\":\"y\"}]},\"name\":\"2022\"},{\"data\":[{\"customdata\":[\"DE\",\"ES\",\"FR\",\"NL\",\"NO\",\"PL\"],\"hovertemplate\":\"\\u003cb\\u003e%{customdata}\\u003c\\u002fb\\u003e\\u003cbr\\u003eEV: %{x:.2f}%\\u003cbr\\u003eCO\\u2082: %{y:.1f} g\\u002fkm\\u003cextra\\u003e\\u003c\\u002fextra\\u003e\",\"marker\":{\"opacity\":0,\"size\":18},\"mode\":\"markers\",\"x\":{\"dtype\":\"f8\",\"bdata\":\"cnigseDzBkClG\\u002f24cfXhP9OM7cZMsQFAQRt\\u002f4L2dE0DVwNatgto3QPY\\u002fUAS0Kc4\\u002f\"},\"y\":{\"dtype\":\"f8\",\"bdata\":\"AAAAAABAXEAAAAAAAGBdQDMzMzMzM1hAzczMzMyMUkAAAAAAAAAtQGZmZmZmlmBA\"},\"type\":\"scatter\"}],\"layout\":{\"images\":[{\"layer\":\"above\",\"sizex\":2.0,\"sizey\":6.0,\"source\":\"https:\\u002f\\u002fflagcdn.com\\u002fw80\\u002fde.png\",\"x\":2.8690809132668216,\"xanchor\":\"center\",\"xref\":\"x\",\"y\":113.0,\"yanchor\":\"middle\",\"yref\":\"y\"},{\"layer\":\"above\",\"sizex\":2.0,\"sizey\":6.0,\"source\":\"https:\\u002f\\u002fflagcdn.com\\u002fw80\\u002fes.png\",\"x\":0.5612114537296874,\"xanchor\":\"center\",\"xref\":\"x\",\"y\":117.5,\"yanchor\":\"middle\",\"yref\":\"y\"},{\"layer\":\"above\",\"sizex\":2.0,\"sizey\":6.0,\"source\":\"https:\\u002f\\u002fflagcdn.com\\u002fw80\\u002ffr.png\",\"x\":2.2115722218746696,\"xanchor\":\"center\",\"xref\":\"x\",\"y\":96.8,\"yanchor\":\"middle\",\"yref\":\"y\"},{\"layer\":\"above\",\"sizex\":2.0,\"sizey\":6.0,\"source\":\"https:\\u002f\\u002fflagcdn.com\\u002fw80\\u002fnl.png\",\"x\":4.90404463554188,\"xanchor\":\"center\",\"xref\":\"x\",\"y\":74.2,\"yanchor\":\"middle\",\"yref\":\"y\"},{\"layer\":\"above\",\"sizex\":2.0,\"sizey\":6.0,\"source\":\"https:\\u002f\\u002fflagcdn.com\\u002fw80\\u002fno.png\",\"x\":23.85355650418281,\"xanchor\":\"center\",\"xref\":\"x\",\"y\":14.5,\"yanchor\":\"middle\",\"yref\":\"y\"},{\"layer\":\"above\",\"sizex\":2.0,\"sizey\":6.0,\"source\":\"https:\\u002f\\u002fflagcdn.com\\u002fw80\\u002fpl.png\",\"x\":0.2356476803838629,\"xanchor\":\"center\",\"xref\":\"x\",\"y\":132.7,\"yanchor\":\"middle\",\"yref\":\"y\"}]},\"name\":\"2023\"}]);\n",
       "                        }).then(function(){\n",
       "                            Plotly.animate('6de89524-b0ae-4d49-a520-1533e61fbe43', null);\n",
       "                        })                };            </script>        </div></div>"
      ],
      "text/plain": [
       "<IPython.core.display.HTML object>"
      ]
     },
     "metadata": {},
     "output_type": "display_data"
    }
   ],
   "source": [
    "import plotly.graph_objects as go\n",
    "import pandas as pd\n",
    "from IPython.display import HTML\n",
    "\n",
    "# ---------------------------------------------------------------------------\n",
    "#  DataFrame 'focus' moet de kolommen hebben:\n",
    "#  ['year', 'geo', 'evShare', 'co2']\n",
    "#  geo = ISO-3166 alpha-2 (NL, BE, DE …)\n",
    "# ---------------------------------------------------------------------------\n",
    "\n",
    "# ── instellingen ────────────────────────────────────────────────────────────\n",
    "FLAG_W  = 80    # FlagCDN ondersteunt w20, w40, w80, w160 …\n",
    "SIZEX   = 2.0   # data-eenheden op x-as (0-25 % → 2 ≈ 8 % breedte)\n",
    "SIZEY   = 6.0   # data-eenheden op y-as (50-140 g/km → 6 ≈ 7 % hoogte)\n",
    "\n",
    "def iso_to_flag_url(iso2: str, width: int = FLAG_W) -> str:\n",
    "    \"\"\"Geef URL naar een PNG-vlaggetje van FlagCDN in ondersteunde breedte.\"\"\"\n",
    "    return f\"https://flagcdn.com/w{width}/{iso2.lower()}.png\"\n",
    "\n",
    "# ISO-code → landnaam voor de hovertekst\n",
    "try:\n",
    "    import pycountry\n",
    "    code2name = {c.alpha_2: c.name for c in pycountry.countries}\n",
    "except ImportError:\n",
    "    code2name = {c: c for c in focus[\"geo\"].unique()}\n",
    "\n",
    "# ── frames opbouwen ─────────────────────────────────────────────────────────\n",
    "frames = []\n",
    "for yr, grp in focus.groupby(\"year\"):\n",
    "    hover_txt = grp[\"geo\"].map(lambda g: code2name.get(g, g))\n",
    "\n",
    "    # onzichtbare scatter-trace (voor hover, selectie, slider)\n",
    "    scatter = go.Scatter(\n",
    "        x=grp[\"evShare\"],\n",
    "        y=grp[\"co2\"],\n",
    "        mode=\"markers\",\n",
    "        marker=dict(size=18, opacity=0),\n",
    "        customdata=hover_txt,\n",
    "        hovertemplate=\"<b>%{customdata}</b><br>\"\n",
    "                      \"EV: %{x:.2f}%<br>\"\n",
    "                      \"CO₂: %{y:.1f} g/km<extra></extra>\"\n",
    "    )\n",
    "\n",
    "    # vlag-afbeeldingen op exact dezelfde x/y-posities\n",
    "    images = [\n",
    "        dict(\n",
    "            source=iso_to_flag_url(row.geo),\n",
    "            x=row.evShare, y=row.co2,\n",
    "            xref=\"x\", yref=\"y\",\n",
    "            sizex=SIZEX, sizey=SIZEY,\n",
    "            xanchor=\"center\", yanchor=\"middle\",\n",
    "            layer=\"above\"\n",
    "        )\n",
    "        for _, row in grp.iterrows()\n",
    "    ]\n",
    "\n",
    "    frames.append(go.Frame(name=str(yr), data=[scatter],\n",
    "                           layout=go.Layout(images=images)))\n",
    "\n",
    "# ── basis-layout ────────────────────────────────────────────────────────────\n",
    "layout = go.Layout(\n",
    "    title=f\"CO₂-uitstoot vs. EV-aandeel ({frames[0].name})\",\n",
    "    xaxis=dict(title=\"EV-aandeel (%)\", ticksuffix=\"%\"),\n",
    "    yaxis=dict(title=\"Gem. CO₂ (g/km)\"),\n",
    "    sliders=[dict(\n",
    "        steps=[dict(method=\"animate\",\n",
    "                    label=f.name,\n",
    "                    args=[[f.name],\n",
    "                          dict(mode=\"immediate\",\n",
    "                               frame=dict(duration=400, redraw=False),\n",
    "                               transition=dict(duration=300))])\n",
    "               for f in frames],\n",
    "        currentvalue=dict(prefix=\"Jaar: \")\n",
    "    )],\n",
    "    images=frames[0].layout.images           # vlaggen voor het eerste frame\n",
    ")\n",
    "\n",
    "fig_scatter = go.Figure(data=frames[0].data,\n",
    "                        frames=frames,\n",
    "                        layout=layout)\n",
    "\n",
    "# ── tonen / exporteren ──────────────────────────────────────────────────────\n",
    "fig_scatter.show()  # toont de figuur in Jupyter Notebook\n"
   ]
  },
  {
   "cell_type": "markdown",
   "id": "55ab321d",
   "metadata": {},
   "source": [
    "Deze visualisatie presenteert een spreidingsdiagram die de relatie tussen twee belangrijke variabelen weergeeft: het EV-aandeel en de gemiddelde CO₂-uitstoot per kilometer voor nieuw geregistreerde auto's in de betreffende landen.\n",
    "\n",
    "De kernboodschap van deze visualisatie is het aantonen van een negatieve correlatie tussen deze twee variabelen. Dit betekent concreet:\n",
    "> *Hoe hoger het EV-aandeel van een land, des te lager de gemiddelde CO₂-uitstoot per kilometer van de nieuwe auto's die daar worden geregistreerd.*\n",
    "\n",
    "Deze visualisatie ondersteunt het idee dat elektrische voertuigen een positieve invloed hebben op de directe CO₂-uitstoot van personenauto's op de weg, en daarmee bijdragen aan het behalen van klimaatdoelstellingen. Het vormt een cruciaal bewijsstuk voor het \"Elektrische voertuigen als de oplossing\"-perspectief dat in het artikel wordt besproken."
   ]
  },
  {
   "cell_type": "markdown",
   "id": "0a32af1d",
   "metadata": {},
   "source": [
    "### Tussenstand\n",
    "\n",
    "Een stijgend EV‑aandeel gaat **hand in hand** met een CO₂‑daling, maar het verband is niet overal even sterk.  \n",
    "Zou de **stroommix** of **voertuigefficiëntie** het effect temperen?  \n",
    "Dat onderzoeken we in het volgende perspectief.\n"
   ]
  },
  {
   "cell_type": "markdown",
   "id": "492e22ed",
   "metadata": {},
   "source": [
    "---\n",
    "\n",
    "## Elektrificatie alléén is onvoldoende"
   ]
  },
  {
   "cell_type": "markdown",
   "id": "ce051d47",
   "metadata": {},
   "source": [
    "\n",
    "**Perspectief 2 – Beperkte impact van EV‑adoptie.**\n",
    "Dit hoofdstuk bekijkt in hoeverre de huidige adoptie van elektrische voertuigen (EV’s)\n",
    "**niet altijd** resulteert in een uniforme of significante daling van de CO₂‑uitstoot\n",
    "van nieuw geregistreerde auto’s.\n",
    "\n",
    "We presenteren twee visualisaties:\n",
    "\n",
    "1. **Lijngrafiek** – Evolutie van CO₂‑uitstoot per land (2013‑2023)  \n",
    "2. **Interactieve kaart** – EV‑aandeel per land met jaarslider\n"
   ]
  },
  {
   "cell_type": "code",
   "execution_count": 48,
   "id": "92433362",
   "metadata": {
    "tags": [
     "remove-input"
    ]
   },
   "outputs": [],
   "source": [
    "\n",
    "import pandas as pd\n",
    "import numpy as np\n",
    "import plotly.express as px\n",
    "import plotly.graph_objects as go\n",
    "import matplotlib.pyplot as plt\n",
    "import seaborn as sns\n",
    "from IPython.display import HTML, display\n",
    "\n",
    "%matplotlib inline\n",
    "\n",
    "# --- Gecombineerde dataset inladen ---\n",
    "df_full = pd.read_csv('data/ev_airquality_ready.csv')\n",
    "\n",
    "# Kolommen hernoemen en extra velden aanmaken\n",
    "df = (df_full\n",
    "      .rename(columns={'EV_share': 'evShare',\n",
    "                       'CO2_g_km': 'co2',\n",
    "                       'TIME_PERIOD': 'year',\n",
    "                       'ELC': 'elc',\n",
    "                       'TOTAL': 'total'})\n",
    "     )\n",
    "\n",
    "# Compatibiliteit met eerdere variabelen\n",
    "ev_share = df[['geo', 'year', 'elc', 'total']].rename(columns={'elc': 'EV', 'total': 'TOTAL'})\n",
    "ev_share['EV_SHARE'] = df['evShare']\n",
    "\n",
    "co2 = df[['geo', 'year', 'co2']].rename(columns={'co2': 'OBS_VALUE'})\n",
    "\n",
    "START_YEAR = int(df['year'].min())\n",
    "END_YEAR   = int(df['year'].max())\n",
    "\n",
    "focus_codes = ['NL', 'DE', 'NO', 'PL', 'FR', 'ES']\n",
    "focus = df[df.geo.isin(focus_codes)]\n",
    "\n",
    "code2name = dict(NL='Nederland', DE='Duitsland', NO='Noorwegen',\n",
    "                 PL='Polen', FR='Frankrijk', ES='Spanje')\n"
   ]
  },
  {
   "cell_type": "code",
   "execution_count": 49,
   "id": "1ef2d90e",
   "metadata": {
    "tags": [
     "remove-input"
    ]
   },
   "outputs": [
    {
     "data": {
      "text/html": [
       "<div class=\"plot-card\"><div>                        <script type=\"text/javascript\">window.PlotlyConfig = {MathJaxConfig: 'local'};</script>\n",
       "        <script charset=\"utf-8\" src=\"https://cdn.plot.ly/plotly-3.0.1.min.js\"></script>                <div id=\"acc04cf4-b471-4589-a463-cf013f9e9c22\" class=\"plotly-graph-div\" style=\"height:100%; width:100%;\"></div>            <script type=\"text/javascript\">                window.PLOTLYENV=window.PLOTLYENV || {};                                if (document.getElementById(\"acc04cf4-b471-4589-a463-cf013f9e9c22\")) {                    Plotly.newPlot(                        \"acc04cf4-b471-4589-a463-cf013f9e9c22\",                        [{\"hovertemplate\":\"Land=DE\\u003cbr\\u003eJaar=%{x}\\u003cbr\\u003eCO\\u2082 (g\\u002fkm)=%{y}\\u003cextra\\u003e\\u003c\\u002fextra\\u003e\",\"legendgroup\":\"DE\",\"line\":{\"color\":\"#636efa\",\"dash\":\"solid\"},\"marker\":{\"symbol\":\"circle\"},\"mode\":\"lines+markers\",\"name\":\"DE\",\"orientation\":\"v\",\"showlegend\":true,\"x\":{\"dtype\":\"i2\",\"bdata\":\"3gffB+AH4QfiB+MH5AflB+YH5wc=\"},\"xaxis\":\"x\",\"y\":{\"dtype\":\"f8\",\"bdata\":\"AAAAAACQYECamZmZmQlgQJqZmZmZuV9AZmZmZmZGY0AAAAAAAKBjQAAAAAAA4GNAAAAAAAAAYUAAAAAAAGBcQJqZmZmZeVpAAAAAAABAXEA=\"},\"yaxis\":\"y\",\"type\":\"scatter\"},{\"hovertemplate\":\"Land=ES\\u003cbr\\u003eJaar=%{x}\\u003cbr\\u003eCO\\u2082 (g\\u002fkm)=%{y}\\u003cextra\\u003e\\u003c\\u002fextra\\u003e\",\"legendgroup\":\"ES\",\"line\":{\"color\":\"#EF553B\",\"dash\":\"solid\"},\"marker\":{\"symbol\":\"circle\"},\"mode\":\"lines+markers\",\"name\":\"ES\",\"orientation\":\"v\",\"showlegend\":true,\"x\":{\"dtype\":\"i2\",\"bdata\":\"3gffB+AH4QfiB+MH5AflB+YH5wc=\"},\"xaxis\":\"x\",\"y\":{\"dtype\":\"f8\",\"bdata\":\"ZmZmZmamXUAzMzMzM9NcQJqZmZmZmVxAzczMzMxsYUAzMzMzM+NhQAAAAAAAYGJAAAAAAADwYEAAAAAAAIBfQAAAAAAAYF5AAAAAAABgXUA=\"},\"yaxis\":\"y\",\"type\":\"scatter\"},{\"hovertemplate\":\"Land=FR\\u003cbr\\u003eJaar=%{x}\\u003cbr\\u003eCO\\u2082 (g\\u002fkm)=%{y}\\u003cextra\\u003e\\u003c\\u002fextra\\u003e\",\"legendgroup\":\"FR\",\"line\":{\"color\":\"#00cc96\",\"dash\":\"solid\"},\"marker\":{\"symbol\":\"circle\"},\"mode\":\"lines+markers\",\"name\":\"FR\",\"orientation\":\"v\",\"showlegend\":true,\"x\":{\"dtype\":\"i2\",\"bdata\":\"3gffB+AH4QfiB+MH5AflB+YH5wc=\"},\"xaxis\":\"x\",\"y\":{\"dtype\":\"f8\",\"bdata\":\"zczMzMyMXEAAAAAAAMBbQDMzMzMzc1tAmpmZmZm5YEAAAAAAAABhQM3MzMzMPGFAZmZmZmZGXkBmZmZmZiZbQGZmZmZmxllAMzMzMzMzWEA=\"},\"yaxis\":\"y\",\"type\":\"scatter\"},{\"hovertemplate\":\"Land=NL\\u003cbr\\u003eJaar=%{x}\\u003cbr\\u003eCO\\u2082 (g\\u002fkm)=%{y}\\u003cextra\\u003e\\u003c\\u002fextra\\u003e\",\"legendgroup\":\"NL\",\"line\":{\"color\":\"#ab63fa\",\"dash\":\"solid\"},\"marker\":{\"symbol\":\"circle\"},\"mode\":\"lines+markers\",\"name\":\"NL\",\"orientation\":\"v\",\"showlegend\":true,\"x\":{\"dtype\":\"i2\",\"bdata\":\"3gffB+AH4QfiB+MH5AflB+YH5wc=\"},\"xaxis\":\"x\",\"y\":{\"dtype\":\"f8\",\"bdata\":\"MzMzMzPTWkDNzMzMzExZQJqZmZmZeVpAmpmZmZlpYECamZmZmflfQDMzMzMz011AmpmZmZkZWkBmZmZmZsZXQDMzMzMzs1VAzczMzMyMUkA=\"},\"yaxis\":\"y\",\"type\":\"scatter\"},{\"hovertemplate\":\"Land=NO\\u003cbr\\u003eJaar=%{x}\\u003cbr\\u003eCO\\u2082 (g\\u002fkm)=%{y}\\u003cextra\\u003e\\u003c\\u002fextra\\u003e\",\"legendgroup\":\"NO\",\"line\":{\"color\":\"#FFA15A\",\"dash\":\"solid\"},\"marker\":{\"symbol\":\"circle\"},\"mode\":\"lines+markers\",\"name\":\"NO\",\"orientation\":\"v\",\"showlegend\":true,\"x\":{\"dtype\":\"i2\",\"bdata\":\"5QfmB+cH\"},\"xaxis\":\"x\",\"y\":{\"dtype\":\"f8\",\"bdata\":\"mpmZmZmZO0DNzMzMzMwxQAAAAAAAAC1A\"},\"yaxis\":\"y\",\"type\":\"scatter\"},{\"hovertemplate\":\"Land=PL\\u003cbr\\u003eJaar=%{x}\\u003cbr\\u003eCO\\u2082 (g\\u002fkm)=%{y}\\u003cextra\\u003e\\u003c\\u002fextra\\u003e\",\"legendgroup\":\"PL\",\"line\":{\"color\":\"#19d3f3\",\"dash\":\"solid\"},\"marker\":{\"symbol\":\"circle\"},\"mode\":\"lines+markers\",\"name\":\"PL\",\"orientation\":\"v\",\"showlegend\":true,\"x\":{\"dtype\":\"i2\",\"bdata\":\"3gffB+AH4QfiB+MH5AflB+YH5wc=\"},\"xaxis\":\"x\",\"y\":{\"dtype\":\"f8\",\"bdata\":\"zczMzMycYECamZmZmSlgQDMzMzMzc19AZmZmZmZWY0CamZmZmaljQAAAAAAAwGNAAAAAAABAYkAzMzMzMzNhQGZmZmZm9mBAZmZmZmaWYEA=\"},\"yaxis\":\"y\",\"type\":\"scatter\"}],                        {\"template\":{\"data\":{\"histogram2dcontour\":[{\"type\":\"histogram2dcontour\",\"colorbar\":{\"outlinewidth\":0,\"ticks\":\"\"},\"colorscale\":[[0.0,\"#0d0887\"],[0.1111111111111111,\"#46039f\"],[0.2222222222222222,\"#7201a8\"],[0.3333333333333333,\"#9c179e\"],[0.4444444444444444,\"#bd3786\"],[0.5555555555555556,\"#d8576b\"],[0.6666666666666666,\"#ed7953\"],[0.7777777777777778,\"#fb9f3a\"],[0.8888888888888888,\"#fdca26\"],[1.0,\"#f0f921\"]]}],\"choropleth\":[{\"type\":\"choropleth\",\"colorbar\":{\"outlinewidth\":0,\"ticks\":\"\"}}],\"histogram2d\":[{\"type\":\"histogram2d\",\"colorbar\":{\"outlinewidth\":0,\"ticks\":\"\"},\"colorscale\":[[0.0,\"#0d0887\"],[0.1111111111111111,\"#46039f\"],[0.2222222222222222,\"#7201a8\"],[0.3333333333333333,\"#9c179e\"],[0.4444444444444444,\"#bd3786\"],[0.5555555555555556,\"#d8576b\"],[0.6666666666666666,\"#ed7953\"],[0.7777777777777778,\"#fb9f3a\"],[0.8888888888888888,\"#fdca26\"],[1.0,\"#f0f921\"]]}],\"heatmap\":[{\"type\":\"heatmap\",\"colorbar\":{\"outlinewidth\":0,\"ticks\":\"\"},\"colorscale\":[[0.0,\"#0d0887\"],[0.1111111111111111,\"#46039f\"],[0.2222222222222222,\"#7201a8\"],[0.3333333333333333,\"#9c179e\"],[0.4444444444444444,\"#bd3786\"],[0.5555555555555556,\"#d8576b\"],[0.6666666666666666,\"#ed7953\"],[0.7777777777777778,\"#fb9f3a\"],[0.8888888888888888,\"#fdca26\"],[1.0,\"#f0f921\"]]}],\"contourcarpet\":[{\"type\":\"contourcarpet\",\"colorbar\":{\"outlinewidth\":0,\"ticks\":\"\"}}],\"contour\":[{\"type\":\"contour\",\"colorbar\":{\"outlinewidth\":0,\"ticks\":\"\"},\"colorscale\":[[0.0,\"#0d0887\"],[0.1111111111111111,\"#46039f\"],[0.2222222222222222,\"#7201a8\"],[0.3333333333333333,\"#9c179e\"],[0.4444444444444444,\"#bd3786\"],[0.5555555555555556,\"#d8576b\"],[0.6666666666666666,\"#ed7953\"],[0.7777777777777778,\"#fb9f3a\"],[0.8888888888888888,\"#fdca26\"],[1.0,\"#f0f921\"]]}],\"surface\":[{\"type\":\"surface\",\"colorbar\":{\"outlinewidth\":0,\"ticks\":\"\"},\"colorscale\":[[0.0,\"#0d0887\"],[0.1111111111111111,\"#46039f\"],[0.2222222222222222,\"#7201a8\"],[0.3333333333333333,\"#9c179e\"],[0.4444444444444444,\"#bd3786\"],[0.5555555555555556,\"#d8576b\"],[0.6666666666666666,\"#ed7953\"],[0.7777777777777778,\"#fb9f3a\"],[0.8888888888888888,\"#fdca26\"],[1.0,\"#f0f921\"]]}],\"mesh3d\":[{\"type\":\"mesh3d\",\"colorbar\":{\"outlinewidth\":0,\"ticks\":\"\"}}],\"scatter\":[{\"fillpattern\":{\"fillmode\":\"overlay\",\"size\":10,\"solidity\":0.2},\"type\":\"scatter\"}],\"parcoords\":[{\"type\":\"parcoords\",\"line\":{\"colorbar\":{\"outlinewidth\":0,\"ticks\":\"\"}}}],\"scatterpolargl\":[{\"type\":\"scatterpolargl\",\"marker\":{\"colorbar\":{\"outlinewidth\":0,\"ticks\":\"\"}}}],\"bar\":[{\"error_x\":{\"color\":\"#2a3f5f\"},\"error_y\":{\"color\":\"#2a3f5f\"},\"marker\":{\"line\":{\"color\":\"#E5ECF6\",\"width\":0.5},\"pattern\":{\"fillmode\":\"overlay\",\"size\":10,\"solidity\":0.2}},\"type\":\"bar\"}],\"scattergeo\":[{\"type\":\"scattergeo\",\"marker\":{\"colorbar\":{\"outlinewidth\":0,\"ticks\":\"\"}}}],\"scatterpolar\":[{\"type\":\"scatterpolar\",\"marker\":{\"colorbar\":{\"outlinewidth\":0,\"ticks\":\"\"}}}],\"histogram\":[{\"marker\":{\"pattern\":{\"fillmode\":\"overlay\",\"size\":10,\"solidity\":0.2}},\"type\":\"histogram\"}],\"scattergl\":[{\"type\":\"scattergl\",\"marker\":{\"colorbar\":{\"outlinewidth\":0,\"ticks\":\"\"}}}],\"scatter3d\":[{\"type\":\"scatter3d\",\"line\":{\"colorbar\":{\"outlinewidth\":0,\"ticks\":\"\"}},\"marker\":{\"colorbar\":{\"outlinewidth\":0,\"ticks\":\"\"}}}],\"scattermap\":[{\"type\":\"scattermap\",\"marker\":{\"colorbar\":{\"outlinewidth\":0,\"ticks\":\"\"}}}],\"scattermapbox\":[{\"type\":\"scattermapbox\",\"marker\":{\"colorbar\":{\"outlinewidth\":0,\"ticks\":\"\"}}}],\"scatterternary\":[{\"type\":\"scatterternary\",\"marker\":{\"colorbar\":{\"outlinewidth\":0,\"ticks\":\"\"}}}],\"scattercarpet\":[{\"type\":\"scattercarpet\",\"marker\":{\"colorbar\":{\"outlinewidth\":0,\"ticks\":\"\"}}}],\"carpet\":[{\"aaxis\":{\"endlinecolor\":\"#2a3f5f\",\"gridcolor\":\"white\",\"linecolor\":\"white\",\"minorgridcolor\":\"white\",\"startlinecolor\":\"#2a3f5f\"},\"baxis\":{\"endlinecolor\":\"#2a3f5f\",\"gridcolor\":\"white\",\"linecolor\":\"white\",\"minorgridcolor\":\"white\",\"startlinecolor\":\"#2a3f5f\"},\"type\":\"carpet\"}],\"table\":[{\"cells\":{\"fill\":{\"color\":\"#EBF0F8\"},\"line\":{\"color\":\"white\"}},\"header\":{\"fill\":{\"color\":\"#C8D4E3\"},\"line\":{\"color\":\"white\"}},\"type\":\"table\"}],\"barpolar\":[{\"marker\":{\"line\":{\"color\":\"#E5ECF6\",\"width\":0.5},\"pattern\":{\"fillmode\":\"overlay\",\"size\":10,\"solidity\":0.2}},\"type\":\"barpolar\"}],\"pie\":[{\"automargin\":true,\"type\":\"pie\"}]},\"layout\":{\"autotypenumbers\":\"strict\",\"colorway\":[\"#636efa\",\"#EF553B\",\"#00cc96\",\"#ab63fa\",\"#FFA15A\",\"#19d3f3\",\"#FF6692\",\"#B6E880\",\"#FF97FF\",\"#FECB52\"],\"font\":{\"color\":\"#2a3f5f\"},\"hovermode\":\"closest\",\"hoverlabel\":{\"align\":\"left\"},\"paper_bgcolor\":\"white\",\"plot_bgcolor\":\"#E5ECF6\",\"polar\":{\"bgcolor\":\"#E5ECF6\",\"angularaxis\":{\"gridcolor\":\"white\",\"linecolor\":\"white\",\"ticks\":\"\"},\"radialaxis\":{\"gridcolor\":\"white\",\"linecolor\":\"white\",\"ticks\":\"\"}},\"ternary\":{\"bgcolor\":\"#E5ECF6\",\"aaxis\":{\"gridcolor\":\"white\",\"linecolor\":\"white\",\"ticks\":\"\"},\"baxis\":{\"gridcolor\":\"white\",\"linecolor\":\"white\",\"ticks\":\"\"},\"caxis\":{\"gridcolor\":\"white\",\"linecolor\":\"white\",\"ticks\":\"\"}},\"coloraxis\":{\"colorbar\":{\"outlinewidth\":0,\"ticks\":\"\"}},\"colorscale\":{\"sequential\":[[0.0,\"#0d0887\"],[0.1111111111111111,\"#46039f\"],[0.2222222222222222,\"#7201a8\"],[0.3333333333333333,\"#9c179e\"],[0.4444444444444444,\"#bd3786\"],[0.5555555555555556,\"#d8576b\"],[0.6666666666666666,\"#ed7953\"],[0.7777777777777778,\"#fb9f3a\"],[0.8888888888888888,\"#fdca26\"],[1.0,\"#f0f921\"]],\"sequentialminus\":[[0.0,\"#0d0887\"],[0.1111111111111111,\"#46039f\"],[0.2222222222222222,\"#7201a8\"],[0.3333333333333333,\"#9c179e\"],[0.4444444444444444,\"#bd3786\"],[0.5555555555555556,\"#d8576b\"],[0.6666666666666666,\"#ed7953\"],[0.7777777777777778,\"#fb9f3a\"],[0.8888888888888888,\"#fdca26\"],[1.0,\"#f0f921\"]],\"diverging\":[[0,\"#8e0152\"],[0.1,\"#c51b7d\"],[0.2,\"#de77ae\"],[0.3,\"#f1b6da\"],[0.4,\"#fde0ef\"],[0.5,\"#f7f7f7\"],[0.6,\"#e6f5d0\"],[0.7,\"#b8e186\"],[0.8,\"#7fbc41\"],[0.9,\"#4d9221\"],[1,\"#276419\"]]},\"xaxis\":{\"gridcolor\":\"white\",\"linecolor\":\"white\",\"ticks\":\"\",\"title\":{\"standoff\":15},\"zerolinecolor\":\"white\",\"automargin\":true,\"zerolinewidth\":2},\"yaxis\":{\"gridcolor\":\"white\",\"linecolor\":\"white\",\"ticks\":\"\",\"title\":{\"standoff\":15},\"zerolinecolor\":\"white\",\"automargin\":true,\"zerolinewidth\":2},\"scene\":{\"xaxis\":{\"backgroundcolor\":\"#E5ECF6\",\"gridcolor\":\"white\",\"linecolor\":\"white\",\"showbackground\":true,\"ticks\":\"\",\"zerolinecolor\":\"white\",\"gridwidth\":2},\"yaxis\":{\"backgroundcolor\":\"#E5ECF6\",\"gridcolor\":\"white\",\"linecolor\":\"white\",\"showbackground\":true,\"ticks\":\"\",\"zerolinecolor\":\"white\",\"gridwidth\":2},\"zaxis\":{\"backgroundcolor\":\"#E5ECF6\",\"gridcolor\":\"white\",\"linecolor\":\"white\",\"showbackground\":true,\"ticks\":\"\",\"zerolinecolor\":\"white\",\"gridwidth\":2}},\"shapedefaults\":{\"line\":{\"color\":\"#2a3f5f\"}},\"annotationdefaults\":{\"arrowcolor\":\"#2a3f5f\",\"arrowhead\":0,\"arrowwidth\":1},\"geo\":{\"bgcolor\":\"white\",\"landcolor\":\"#E5ECF6\",\"subunitcolor\":\"white\",\"showland\":true,\"showlakes\":true,\"lakecolor\":\"white\"},\"title\":{\"x\":0.05},\"mapbox\":{\"style\":\"light\"}}},\"xaxis\":{\"anchor\":\"y\",\"domain\":[0.0,1.0],\"title\":{\"text\":\"Jaar\"}},\"yaxis\":{\"anchor\":\"x\",\"domain\":[0.0,1.0],\"title\":{\"text\":\"CO\\u2082 (g\\u002fkm)\"}},\"legend\":{\"title\":{\"text\":\"Land\"},\"tracegroupgap\":0},\"title\":{\"text\":\"Gem. CO\\u2082\\u2011uitstoot nieuwe auto\\u2019s (2013\\u20112023)\"},\"paper_bgcolor\":\"#FDEDDD\",\"plot_bgcolor\":\"#FDEDDD\"},                        {\"responsive\": true}                    )                };            </script>        </div></div>"
      ],
      "text/plain": [
       "<IPython.core.display.HTML object>"
      ]
     },
     "metadata": {},
     "output_type": "display_data"
    }
   ],
   "source": [
    "\n",
    "fig_line = px.line(focus, x='year', y='co2', color='geo',\n",
    "                   title='Gem. CO₂‑uitstoot nieuwe auto’s (2013‑2023)',\n",
    "                   labels=dict(year='Jaar', co2='CO₂ (g/km)', geo='Land'))\n",
    "fig_line.update_traces(mode='lines+markers')\n",
    "# Convert to HTML and display\n",
    "fig_line.show()\n"
   ]
  },
  {
   "cell_type": "markdown",
   "id": "b5185375",
   "metadata": {},
   "source": [
    "De visualisatie is een lijngrafiek die de gemiddelde CO₂-uitstoot per kilometer van nieuw geregistreerde personenauto's over tijd  weergeeft, en dit voor verschillende landen. Wat je hierin ziet gebeuren is het volgende:\n",
    "\n",
    "1. **Geen uniforme daling:** In tegenstelling tot de verwachting dat een stijgend EV-aandeel overal automatisch leidt tot een snelle daling van de uitstoot, toont deze visualisatie aan dat de daling van de CO₂-uitstoot per land sterk varieert en vaak traag of zelfs wisselvallig is. Dit suggereert dat er meer factoren meespelen dan alleen het aantal elektrische auto's.\n",
    "\n",
    "2. **Noorwegen als uitzondering (maar met een nuance):** Hoewel Noorwegen in de eerste visualisatie de absolute koploper was in EV-adoptie, en de CO₂-uitstoot daar inderdaad snel daalt, benadrukt deze visualisatie dat dit succes gekoppeld is aan zeer sterke beleidsmaatregelen. Dit bevestigt dat de daling niet vanzelf komt.\n",
    "\n",
    "Kortom, deze grafiek toont aan dat de weg naar lagere CO₂-uitstoot complexer is dan alleen het verhogen van het aantal elektrische auto's. Het benadrukt dat beleid, infrastructuur en de bredere marktdynamiek essentiële factoren zijn die de daadwerkelijke impact van elektrificatie bepalen."
   ]
  },
  {
   "cell_type": "code",
   "execution_count": 50,
   "id": "84ed7888",
   "metadata": {
    "tags": [
     "remove-input"
    ]
   },
   "outputs": [
    {
     "data": {
      "text/html": [
       "<div class=\"plot-card\"><div>                        <script type=\"text/javascript\">window.PlotlyConfig = {MathJaxConfig: 'local'};</script>\n",
       "        <script charset=\"utf-8\" src=\"https://cdn.plot.ly/plotly-3.0.1.min.js\"></script>                <div id=\"47f7afc4-c548-46bc-8771-a62ac5f37f5c\" class=\"plotly-graph-div\" style=\"height:100%; width:100%;\"></div>            <script type=\"text/javascript\">                window.PLOTLYENV=window.PLOTLYENV || {};                                if (document.getElementById(\"47f7afc4-c548-46bc-8771-a62ac5f37f5c\")) {                    Plotly.newPlot(                        \"47f7afc4-c548-46bc-8771-a62ac5f37f5c\",                        [{\"colorbar\":{\"dtick\":5,\"len\":0.85,\"thickness\":25,\"tick0\":0,\"tickfont\":{\"color\":\"#2c3e50\",\"size\":14},\"tickmode\":\"linear\",\"ticksuffix\":\"%\",\"title\":{\"font\":{\"color\":\"#1565c0\",\"size\":16},\"text\":\"EV-aandeel (%)\"},\"x\":1.01},\"colorscale\":[[0.0,\"#f8f9fa\"],[0.002,\"#e3f2fd\"],[0.005,\"#bbdefb\"],[0.01,\"#90caf9\"],[0.02,\"#64b5f6\"],[0.03,\"#42a5f5\"],[0.05,\"#2196f3\"],[0.07,\"#1e88e5\"],[0.1,\"#1976d2\"],[0.15,\"#1565c0\"],[0.2,\"#0d47a1\"],[0.3,\"#0a3d91\"],[0.4,\"#083381\"],[0.5,\"#062971\"],[0.6,\"#041f61\"],[0.7,\"#031551\"],[0.8,\"#020b41\"],[0.9,\"#010531\"],[1.0,\"#000021\"]],\"hovertemplate\":\"\\u003cb\\u003e%{text}\\u003c\\u002fb\\u003e\\u003cbr\\u003eEV-aandeel: %{z:.2f}%\\u003cbr\\u003eJaar: 2014\\u003cextra\\u003e\\u003c\\u002fextra\\u003e\",\"locations\":[\"AUT\",\"BEL\",\"BGR\",\"CYP\",\"CZE\",\"DEU\",\"DNK\",\"EST\",\"GRC\",\"ESP\",\"FIN\",\"FRA\",\"HRV\",\"HUN\",\"IRL\",\"ITA\",\"LTU\",\"LUX\",\"LVA\",\"MLT\",\"NLD\",\"POL\",\"PRT\",\"ROU\",\"SWE\",\"SVN\",\"SVK\"],\"text\":[\"AT\",\"BE\",\"BG\",\"CY\",\"CZ\",\"DE\",\"DK\",\"EE\",\"EL\",\"ES\",\"FI\",\"FR\",\"HR\",\"HU\",\"IE\",\"IT\",\"LT\",\"LU\",\"LV\",\"MT\",\"NL\",\"PL\",\"PT\",\"RO\",\"SE\",\"SI\",\"SK\"],\"z\":{\"dtype\":\"f8\",\"bdata\":\"6P8lB312sj8BHDIZj4SkP+PPAYlj+nM\\u002fD2+uDUGuaT\\u002ffBalmSquBP8VLzNeO6KU\\u002fqiP\\u002fwgEYwD\\u002fjeZLwsOrEP0AdwGL32Uw\\u002fVNTvnflTij8tQrNIkuqIP4PjbumJILI\\u002fD6UTQ+mqZT\\u002fbwa09uRB3Pw9kUZFxaZw\\u002fFzD297Txgj8TMf8e8Md3PxB4\\u002fRF4\\u002fcE\\u002f+JydAB5EnT9rlGxQv7+gPzPuJ2Gy5bU\\u002fA5CHvQsQST9cOUrmxEiNP+dAfewFjqw\\u002fdgV0NoRBqD\\u002fya4Sn136JP2dqd1Qrv3c\\u002f\"},\"zmax\":5.451292885231081,\"zmin\":0,\"type\":\"choropleth\"}],                        {\"font\":{\"color\":\"#2c3e50\",\"family\":\"Arial, sans-serif\"},\"geo\":{\"bgcolor\":\"rgba(0,0,0,0)\",\"countrycolor\":\"#7fb3d3\",\"countrywidth\":0.8,\"lakecolor\":\"#cce7ff\",\"landcolor\":\"#f0f8ff\",\"oceancolor\":\"#cce7ff\",\"projection\":{\"type\":\"natural earth\"},\"scope\":\"europe\",\"showcountries\":true,\"showframe\":false,\"showlakes\":true,\"showocean\":true},\"margin\":{\"b\":80,\"l\":40,\"r\":40,\"t\":80},\"paper_bgcolor\":\"#FDEDDD\",\"plot_bgcolor\":\"#FDEDDD\",\"shapes\":[{\"fillcolor\":\"rgba(0,0,0,0)\",\"line\":{\"color\":\"#2196f3\",\"width\":3},\"type\":\"rect\",\"x0\":0,\"x1\":1,\"xref\":\"paper\",\"y0\":0,\"y1\":1,\"yref\":\"paper\"}],\"sliders\":[{\"bgcolor\":\"rgba(255,255,255,0.95)\",\"bordercolor\":\"#2196f3\",\"borderwidth\":2,\"currentvalue\":{\"font\":{\"color\":\"#1565c0\",\"size\":18,\"weight\":\"bold\"},\"prefix\":\"Jaar: \"},\"font\":{\"color\":\"#2c3e50\",\"size\":14},\"len\":0.85,\"pad\":{\"b\":20,\"l\":40,\"r\":40,\"t\":60},\"steps\":[{\"args\":[[\"2014\"],{\"mode\":\"immediate\",\"frame\":{\"duration\":300,\"redraw\":true},\"transition\":{\"duration\":200,\"easing\":\"cubic-in-out\"}}],\"label\":\"2014\",\"method\":\"animate\"},{\"args\":[[\"2015\"],{\"mode\":\"immediate\",\"frame\":{\"duration\":300,\"redraw\":true},\"transition\":{\"duration\":200,\"easing\":\"cubic-in-out\"}}],\"label\":\"2015\",\"method\":\"animate\"},{\"args\":[[\"2016\"],{\"mode\":\"immediate\",\"frame\":{\"duration\":300,\"redraw\":true},\"transition\":{\"duration\":200,\"easing\":\"cubic-in-out\"}}],\"label\":\"2016\",\"method\":\"animate\"},{\"args\":[[\"2017\"],{\"mode\":\"immediate\",\"frame\":{\"duration\":300,\"redraw\":true},\"transition\":{\"duration\":200,\"easing\":\"cubic-in-out\"}}],\"label\":\"2017\",\"method\":\"animate\"},{\"args\":[[\"2018\"],{\"mode\":\"immediate\",\"frame\":{\"duration\":300,\"redraw\":true},\"transition\":{\"duration\":200,\"easing\":\"cubic-in-out\"}}],\"label\":\"2018\",\"method\":\"animate\"},{\"args\":[[\"2019\"],{\"mode\":\"immediate\",\"frame\":{\"duration\":300,\"redraw\":true},\"transition\":{\"duration\":200,\"easing\":\"cubic-in-out\"}}],\"label\":\"2019\",\"method\":\"animate\"},{\"args\":[[\"2020\"],{\"mode\":\"immediate\",\"frame\":{\"duration\":300,\"redraw\":true},\"transition\":{\"duration\":200,\"easing\":\"cubic-in-out\"}}],\"label\":\"2020\",\"method\":\"animate\"},{\"args\":[[\"2021\"],{\"mode\":\"immediate\",\"frame\":{\"duration\":300,\"redraw\":true},\"transition\":{\"duration\":200,\"easing\":\"cubic-in-out\"}}],\"label\":\"2021\",\"method\":\"animate\"},{\"args\":[[\"2022\"],{\"mode\":\"immediate\",\"frame\":{\"duration\":300,\"redraw\":true},\"transition\":{\"duration\":200,\"easing\":\"cubic-in-out\"}}],\"label\":\"2022\",\"method\":\"animate\"},{\"args\":[[\"2023\"],{\"mode\":\"immediate\",\"frame\":{\"duration\":300,\"redraw\":true},\"transition\":{\"duration\":200,\"easing\":\"cubic-in-out\"}}],\"label\":\"2023\",\"method\":\"animate\"}],\"x\":0.075,\"xanchor\":\"left\"}],\"title\":{\"font\":{\"color\":\"#1565c0\",\"family\":\"Arial, sans-serif\",\"size\":22},\"text\":\"EV\\u2011aandeel per Europees land (2014)\",\"x\":0.5,\"xanchor\":\"center\",\"y\":0.95,\"yanchor\":\"top\"},\"updatemenus\":[{\"bgcolor\":\"rgba(255,255,255,0.95)\",\"bordercolor\":\"#2196f3\",\"borderwidth\":2,\"buttons\":[{\"args\":[null,{\"frame\":{\"duration\":1000,\"redraw\":true},\"transition\":{\"duration\":400},\"fromcurrent\":true,\"mode\":\"immediate\"}],\"label\":\"\\u25b6 Automatisch afspelen\",\"method\":\"animate\"}],\"font\":{\"color\":\"#1565c0\",\"size\":13,\"weight\":\"bold\"},\"showactive\":false,\"type\":\"buttons\",\"x\":0.075,\"xanchor\":\"left\",\"y\":0.02,\"yanchor\":\"bottom\"}],\"template\":{\"data\":{\"histogram2dcontour\":[{\"type\":\"histogram2dcontour\",\"colorbar\":{\"outlinewidth\":0,\"ticks\":\"\"},\"colorscale\":[[0.0,\"#0d0887\"],[0.1111111111111111,\"#46039f\"],[0.2222222222222222,\"#7201a8\"],[0.3333333333333333,\"#9c179e\"],[0.4444444444444444,\"#bd3786\"],[0.5555555555555556,\"#d8576b\"],[0.6666666666666666,\"#ed7953\"],[0.7777777777777778,\"#fb9f3a\"],[0.8888888888888888,\"#fdca26\"],[1.0,\"#f0f921\"]]}],\"choropleth\":[{\"type\":\"choropleth\",\"colorbar\":{\"outlinewidth\":0,\"ticks\":\"\"}}],\"histogram2d\":[{\"type\":\"histogram2d\",\"colorbar\":{\"outlinewidth\":0,\"ticks\":\"\"},\"colorscale\":[[0.0,\"#0d0887\"],[0.1111111111111111,\"#46039f\"],[0.2222222222222222,\"#7201a8\"],[0.3333333333333333,\"#9c179e\"],[0.4444444444444444,\"#bd3786\"],[0.5555555555555556,\"#d8576b\"],[0.6666666666666666,\"#ed7953\"],[0.7777777777777778,\"#fb9f3a\"],[0.8888888888888888,\"#fdca26\"],[1.0,\"#f0f921\"]]}],\"heatmap\":[{\"type\":\"heatmap\",\"colorbar\":{\"outlinewidth\":0,\"ticks\":\"\"},\"colorscale\":[[0.0,\"#0d0887\"],[0.1111111111111111,\"#46039f\"],[0.2222222222222222,\"#7201a8\"],[0.3333333333333333,\"#9c179e\"],[0.4444444444444444,\"#bd3786\"],[0.5555555555555556,\"#d8576b\"],[0.6666666666666666,\"#ed7953\"],[0.7777777777777778,\"#fb9f3a\"],[0.8888888888888888,\"#fdca26\"],[1.0,\"#f0f921\"]]}],\"contourcarpet\":[{\"type\":\"contourcarpet\",\"colorbar\":{\"outlinewidth\":0,\"ticks\":\"\"}}],\"contour\":[{\"type\":\"contour\",\"colorbar\":{\"outlinewidth\":0,\"ticks\":\"\"},\"colorscale\":[[0.0,\"#0d0887\"],[0.1111111111111111,\"#46039f\"],[0.2222222222222222,\"#7201a8\"],[0.3333333333333333,\"#9c179e\"],[0.4444444444444444,\"#bd3786\"],[0.5555555555555556,\"#d8576b\"],[0.6666666666666666,\"#ed7953\"],[0.7777777777777778,\"#fb9f3a\"],[0.8888888888888888,\"#fdca26\"],[1.0,\"#f0f921\"]]}],\"surface\":[{\"type\":\"surface\",\"colorbar\":{\"outlinewidth\":0,\"ticks\":\"\"},\"colorscale\":[[0.0,\"#0d0887\"],[0.1111111111111111,\"#46039f\"],[0.2222222222222222,\"#7201a8\"],[0.3333333333333333,\"#9c179e\"],[0.4444444444444444,\"#bd3786\"],[0.5555555555555556,\"#d8576b\"],[0.6666666666666666,\"#ed7953\"],[0.7777777777777778,\"#fb9f3a\"],[0.8888888888888888,\"#fdca26\"],[1.0,\"#f0f921\"]]}],\"mesh3d\":[{\"type\":\"mesh3d\",\"colorbar\":{\"outlinewidth\":0,\"ticks\":\"\"}}],\"scatter\":[{\"fillpattern\":{\"fillmode\":\"overlay\",\"size\":10,\"solidity\":0.2},\"type\":\"scatter\"}],\"parcoords\":[{\"type\":\"parcoords\",\"line\":{\"colorbar\":{\"outlinewidth\":0,\"ticks\":\"\"}}}],\"scatterpolargl\":[{\"type\":\"scatterpolargl\",\"marker\":{\"colorbar\":{\"outlinewidth\":0,\"ticks\":\"\"}}}],\"bar\":[{\"error_x\":{\"color\":\"#2a3f5f\"},\"error_y\":{\"color\":\"#2a3f5f\"},\"marker\":{\"line\":{\"color\":\"#E5ECF6\",\"width\":0.5},\"pattern\":{\"fillmode\":\"overlay\",\"size\":10,\"solidity\":0.2}},\"type\":\"bar\"}],\"scattergeo\":[{\"type\":\"scattergeo\",\"marker\":{\"colorbar\":{\"outlinewidth\":0,\"ticks\":\"\"}}}],\"scatterpolar\":[{\"type\":\"scatterpolar\",\"marker\":{\"colorbar\":{\"outlinewidth\":0,\"ticks\":\"\"}}}],\"histogram\":[{\"marker\":{\"pattern\":{\"fillmode\":\"overlay\",\"size\":10,\"solidity\":0.2}},\"type\":\"histogram\"}],\"scattergl\":[{\"type\":\"scattergl\",\"marker\":{\"colorbar\":{\"outlinewidth\":0,\"ticks\":\"\"}}}],\"scatter3d\":[{\"type\":\"scatter3d\",\"line\":{\"colorbar\":{\"outlinewidth\":0,\"ticks\":\"\"}},\"marker\":{\"colorbar\":{\"outlinewidth\":0,\"ticks\":\"\"}}}],\"scattermap\":[{\"type\":\"scattermap\",\"marker\":{\"colorbar\":{\"outlinewidth\":0,\"ticks\":\"\"}}}],\"scattermapbox\":[{\"type\":\"scattermapbox\",\"marker\":{\"colorbar\":{\"outlinewidth\":0,\"ticks\":\"\"}}}],\"scatterternary\":[{\"type\":\"scatterternary\",\"marker\":{\"colorbar\":{\"outlinewidth\":0,\"ticks\":\"\"}}}],\"scattercarpet\":[{\"type\":\"scattercarpet\",\"marker\":{\"colorbar\":{\"outlinewidth\":0,\"ticks\":\"\"}}}],\"carpet\":[{\"aaxis\":{\"endlinecolor\":\"#2a3f5f\",\"gridcolor\":\"white\",\"linecolor\":\"white\",\"minorgridcolor\":\"white\",\"startlinecolor\":\"#2a3f5f\"},\"baxis\":{\"endlinecolor\":\"#2a3f5f\",\"gridcolor\":\"white\",\"linecolor\":\"white\",\"minorgridcolor\":\"white\",\"startlinecolor\":\"#2a3f5f\"},\"type\":\"carpet\"}],\"table\":[{\"cells\":{\"fill\":{\"color\":\"#EBF0F8\"},\"line\":{\"color\":\"white\"}},\"header\":{\"fill\":{\"color\":\"#C8D4E3\"},\"line\":{\"color\":\"white\"}},\"type\":\"table\"}],\"barpolar\":[{\"marker\":{\"line\":{\"color\":\"#E5ECF6\",\"width\":0.5},\"pattern\":{\"fillmode\":\"overlay\",\"size\":10,\"solidity\":0.2}},\"type\":\"barpolar\"}],\"pie\":[{\"automargin\":true,\"type\":\"pie\"}]},\"layout\":{\"autotypenumbers\":\"strict\",\"colorway\":[\"#636efa\",\"#EF553B\",\"#00cc96\",\"#ab63fa\",\"#FFA15A\",\"#19d3f3\",\"#FF6692\",\"#B6E880\",\"#FF97FF\",\"#FECB52\"],\"font\":{\"color\":\"#2a3f5f\"},\"hovermode\":\"closest\",\"hoverlabel\":{\"align\":\"left\"},\"paper_bgcolor\":\"white\",\"plot_bgcolor\":\"#E5ECF6\",\"polar\":{\"bgcolor\":\"#E5ECF6\",\"angularaxis\":{\"gridcolor\":\"white\",\"linecolor\":\"white\",\"ticks\":\"\"},\"radialaxis\":{\"gridcolor\":\"white\",\"linecolor\":\"white\",\"ticks\":\"\"}},\"ternary\":{\"bgcolor\":\"#E5ECF6\",\"aaxis\":{\"gridcolor\":\"white\",\"linecolor\":\"white\",\"ticks\":\"\"},\"baxis\":{\"gridcolor\":\"white\",\"linecolor\":\"white\",\"ticks\":\"\"},\"caxis\":{\"gridcolor\":\"white\",\"linecolor\":\"white\",\"ticks\":\"\"}},\"coloraxis\":{\"colorbar\":{\"outlinewidth\":0,\"ticks\":\"\"}},\"colorscale\":{\"sequential\":[[0.0,\"#0d0887\"],[0.1111111111111111,\"#46039f\"],[0.2222222222222222,\"#7201a8\"],[0.3333333333333333,\"#9c179e\"],[0.4444444444444444,\"#bd3786\"],[0.5555555555555556,\"#d8576b\"],[0.6666666666666666,\"#ed7953\"],[0.7777777777777778,\"#fb9f3a\"],[0.8888888888888888,\"#fdca26\"],[1.0,\"#f0f921\"]],\"sequentialminus\":[[0.0,\"#0d0887\"],[0.1111111111111111,\"#46039f\"],[0.2222222222222222,\"#7201a8\"],[0.3333333333333333,\"#9c179e\"],[0.4444444444444444,\"#bd3786\"],[0.5555555555555556,\"#d8576b\"],[0.6666666666666666,\"#ed7953\"],[0.7777777777777778,\"#fb9f3a\"],[0.8888888888888888,\"#fdca26\"],[1.0,\"#f0f921\"]],\"diverging\":[[0,\"#8e0152\"],[0.1,\"#c51b7d\"],[0.2,\"#de77ae\"],[0.3,\"#f1b6da\"],[0.4,\"#fde0ef\"],[0.5,\"#f7f7f7\"],[0.6,\"#e6f5d0\"],[0.7,\"#b8e186\"],[0.8,\"#7fbc41\"],[0.9,\"#4d9221\"],[1,\"#276419\"]]},\"xaxis\":{\"gridcolor\":\"white\",\"linecolor\":\"white\",\"ticks\":\"\",\"title\":{\"standoff\":15},\"zerolinecolor\":\"white\",\"automargin\":true,\"zerolinewidth\":2},\"yaxis\":{\"gridcolor\":\"white\",\"linecolor\":\"white\",\"ticks\":\"\",\"title\":{\"standoff\":15},\"zerolinecolor\":\"white\",\"automargin\":true,\"zerolinewidth\":2},\"scene\":{\"xaxis\":{\"backgroundcolor\":\"#E5ECF6\",\"gridcolor\":\"white\",\"linecolor\":\"white\",\"showbackground\":true,\"ticks\":\"\",\"zerolinecolor\":\"white\",\"gridwidth\":2},\"yaxis\":{\"backgroundcolor\":\"#E5ECF6\",\"gridcolor\":\"white\",\"linecolor\":\"white\",\"showbackground\":true,\"ticks\":\"\",\"zerolinecolor\":\"white\",\"gridwidth\":2},\"zaxis\":{\"backgroundcolor\":\"#E5ECF6\",\"gridcolor\":\"white\",\"linecolor\":\"white\",\"showbackground\":true,\"ticks\":\"\",\"zerolinecolor\":\"white\",\"gridwidth\":2}},\"shapedefaults\":{\"line\":{\"color\":\"#2a3f5f\"}},\"annotationdefaults\":{\"arrowcolor\":\"#2a3f5f\",\"arrowhead\":0,\"arrowwidth\":1},\"geo\":{\"bgcolor\":\"white\",\"landcolor\":\"#E5ECF6\",\"subunitcolor\":\"white\",\"showland\":true,\"showlakes\":true,\"lakecolor\":\"white\"},\"title\":{\"x\":0.05},\"mapbox\":{\"style\":\"light\"}}}},                        {\"responsive\": true}                    ).then(function(){\n",
       "                            Plotly.addFrames('47f7afc4-c548-46bc-8771-a62ac5f37f5c', [{\"data\":[{\"colorbar\":{\"dtick\":5,\"len\":0.85,\"thickness\":25,\"tick0\":0,\"tickfont\":{\"color\":\"#2c3e50\",\"size\":14},\"tickmode\":\"linear\",\"ticksuffix\":\"%\",\"title\":{\"font\":{\"color\":\"#1565c0\",\"size\":16},\"text\":\"EV-aandeel (%)\"},\"x\":1.01},\"colorscale\":[[0.0,\"#f8f9fa\"],[0.002,\"#e3f2fd\"],[0.005,\"#bbdefb\"],[0.01,\"#90caf9\"],[0.02,\"#64b5f6\"],[0.03,\"#42a5f5\"],[0.05,\"#2196f3\"],[0.07,\"#1e88e5\"],[0.1,\"#1976d2\"],[0.15,\"#1565c0\"],[0.2,\"#0d47a1\"],[0.3,\"#0a3d91\"],[0.4,\"#083381\"],[0.5,\"#062971\"],[0.6,\"#041f61\"],[0.7,\"#031551\"],[0.8,\"#020b41\"],[0.9,\"#010531\"],[1.0,\"#000021\"]],\"hovertemplate\":\"\\u003cb\\u003e%{text}\\u003c\\u002fb\\u003e\\u003cbr\\u003eEV-aandeel: %{z:.2f}%\\u003cbr\\u003eJaar: 2014\\u003cextra\\u003e\\u003c\\u002fextra\\u003e\",\"locations\":[\"AUT\",\"BEL\",\"BGR\",\"CYP\",\"CZE\",\"DEU\",\"DNK\",\"EST\",\"GRC\",\"ESP\",\"FIN\",\"FRA\",\"HRV\",\"HUN\",\"IRL\",\"ITA\",\"LTU\",\"LUX\",\"LVA\",\"MLT\",\"NLD\",\"POL\",\"PRT\",\"ROU\",\"SWE\",\"SVN\",\"SVK\"],\"text\":[\"AT\",\"BE\",\"BG\",\"CY\",\"CZ\",\"DE\",\"DK\",\"EE\",\"EL\",\"ES\",\"FI\",\"FR\",\"HR\",\"HU\",\"IE\",\"IT\",\"LT\",\"LU\",\"LV\",\"MT\",\"NL\",\"PL\",\"PT\",\"RO\",\"SE\",\"SI\",\"SK\"],\"z\":{\"dtype\":\"f8\",\"bdata\":\"6P8lB312sj8BHDIZj4SkP+PPAYlj+nM\\u002fD2+uDUGuaT\\u002ffBalmSquBP8VLzNeO6KU\\u002fqiP\\u002fwgEYwD\\u002fjeZLwsOrEP0AdwGL32Uw\\u002fVNTvnflTij8tQrNIkuqIP4PjbumJILI\\u002fD6UTQ+mqZT\\u002fbwa09uRB3Pw9kUZFxaZw\\u002fFzD297Txgj8TMf8e8Md3PxB4\\u002fRF4\\u002fcE\\u002f+JydAB5EnT9rlGxQv7+gPzPuJ2Gy5bU\\u002fA5CHvQsQST9cOUrmxEiNP+dAfewFjqw\\u002fdgV0NoRBqD\\u002fya4Sn136JP2dqd1Qrv3c\\u002f\"},\"zmax\":5.451292885231081,\"zmin\":0,\"type\":\"choropleth\"}],\"layout\":{\"title\":{\"text\":\"EV\\u2011aandeel per Europees land (2014)\"}},\"name\":\"2014\"},{\"data\":[{\"colorbar\":{\"dtick\":5,\"len\":0.85,\"thickness\":25,\"tick0\":0,\"tickfont\":{\"color\":\"#2c3e50\",\"size\":14},\"tickmode\":\"linear\",\"ticksuffix\":\"%\",\"title\":{\"font\":{\"color\":\"#1565c0\",\"size\":16},\"text\":\"EV-aandeel (%)\"},\"x\":1.01},\"colorscale\":[[0.0,\"#f8f9fa\"],[0.002,\"#e3f2fd\"],[0.005,\"#bbdefb\"],[0.01,\"#90caf9\"],[0.02,\"#64b5f6\"],[0.03,\"#42a5f5\"],[0.05,\"#2196f3\"],[0.07,\"#1e88e5\"],[0.1,\"#1976d2\"],[0.15,\"#1565c0\"],[0.2,\"#0d47a1\"],[0.3,\"#0a3d91\"],[0.4,\"#083381\"],[0.5,\"#062971\"],[0.6,\"#041f61\"],[0.7,\"#031551\"],[0.8,\"#020b41\"],[0.9,\"#010531\"],[1.0,\"#000021\"]],\"hovertemplate\":\"\\u003cb\\u003e%{text}\\u003c\\u002fb\\u003e\\u003cbr\\u003eEV-aandeel: %{z:.2f}%\\u003cbr\\u003eJaar: 2015\\u003cextra\\u003e\\u003c\\u002fextra\\u003e\",\"locations\":[\"AUT\",\"BEL\",\"BGR\",\"CYP\",\"CZE\",\"DEU\",\"DNK\",\"EST\",\"GRC\",\"ESP\",\"FIN\",\"FRA\",\"HRV\",\"HUN\",\"IRL\",\"ITA\",\"LTU\",\"LUX\",\"LVA\",\"MLT\",\"NLD\",\"POL\",\"PRT\",\"ROU\",\"SWE\",\"SVN\",\"SVK\"],\"text\":[\"AT\",\"BE\",\"BG\",\"CY\",\"CZ\",\"DE\",\"DK\",\"EE\",\"EL\",\"ES\",\"FI\",\"FR\",\"HR\",\"HU\",\"IE\",\"IT\",\"LT\",\"LU\",\"LV\",\"MT\",\"NL\",\"PL\",\"PT\",\"RO\",\"SE\",\"SI\",\"SK\"],\"z\":{\"dtype\":\"f8\",\"bdata\":\"gHlD+Ichuz+lkbnnlP6tP7fo4aeJtHc\\u002fIxyeHi5Rcz9\\u002fpEI1zouMP7AB234eia0\\u002fBcE23Nsc1T+RlJP43BzFP31GQ4T18Vo\\u002f3dc\\u002fGwIEmD+dTRPkJMyUPw9d0Ey82bw\\u002fK9a22wNChj+3vf6z1uiFP6QiSRio1as\\u002fKGgNMmwiiT9n+9OMM9KLP7Ba6M70esM\\u002fHNMB85PRnz+uXsNUKUmpP7GX0F5Ce78\\u002fc\\u002fG22bvrUz\\u002flYKSRek+eP27m2RQDL7M\\u002fV7AfKmghuj8BqZT1sFabP1GhsP+vlHs\\u002f\"},\"zmax\":5.451292885231081,\"zmin\":0,\"type\":\"choropleth\"}],\"layout\":{\"title\":{\"text\":\"EV\\u2011aandeel per Europees land (2015)\"}},\"name\":\"2015\"},{\"data\":[{\"colorbar\":{\"dtick\":5,\"len\":0.85,\"thickness\":25,\"tick0\":0,\"tickfont\":{\"color\":\"#2c3e50\",\"size\":14},\"tickmode\":\"linear\",\"ticksuffix\":\"%\",\"title\":{\"font\":{\"color\":\"#1565c0\",\"size\":16},\"text\":\"EV-aandeel (%)\"},\"x\":1.01},\"colorscale\":[[0.0,\"#f8f9fa\"],[0.002,\"#e3f2fd\"],[0.005,\"#bbdefb\"],[0.01,\"#90caf9\"],[0.02,\"#64b5f6\"],[0.03,\"#42a5f5\"],[0.05,\"#2196f3\"],[0.07,\"#1e88e5\"],[0.1,\"#1976d2\"],[0.15,\"#1565c0\"],[0.2,\"#0d47a1\"],[0.3,\"#0a3d91\"],[0.4,\"#083381\"],[0.5,\"#062971\"],[0.6,\"#041f61\"],[0.7,\"#031551\"],[0.8,\"#020b41\"],[0.9,\"#010531\"],[1.0,\"#000021\"]],\"hovertemplate\":\"\\u003cb\\u003e%{text}\\u003c\\u002fb\\u003e\\u003cbr\\u003eEV-aandeel: %{z:.2f}%\\u003cbr\\u003eJaar: 2016\\u003cextra\\u003e\\u003c\\u002fextra\\u003e\",\"locations\":[\"AUT\",\"BEL\",\"BGR\",\"CYP\",\"CZE\",\"DEU\",\"DNK\",\"EST\",\"GRC\",\"ESP\",\"FIN\",\"FRA\",\"HRV\",\"HUN\",\"IRL\",\"ITA\",\"LTU\",\"LUX\",\"LVA\",\"MLT\",\"NLD\",\"POL\",\"PRT\",\"ROU\",\"SWE\",\"SVN\",\"SVK\"],\"text\":[\"AT\",\"BE\",\"BG\",\"CY\",\"CZ\",\"DE\",\"DK\",\"EE\",\"EL\",\"ES\",\"FI\",\"FR\",\"HR\",\"HU\",\"IE\",\"IT\",\"LT\",\"LU\",\"LV\",\"MT\",\"NL\",\"PL\",\"PT\",\"RO\",\"SE\",\"SI\",\"SK\"],\"z\":{\"dtype\":\"f8\",\"bdata\":\"2tN3ayQWyD+PEcmOFUK3PzoSQ0yXA3w\\u002fj+ClAfIdgD9yPQlxbcqSPwtIFzbjA7M\\u002fr+HJgBV81j9lMWK5JgvFP4MZNEgxGWI\\u002fTCQBocLDmT8Qdvo+0GWbP1t4a6cd18Q\\u002fapi5h366jj9nSYIsXm2XP49uvrhusrQ\\u002fFlu3Io8Njz8V8o8XEDqcP8LbcNGjbcY\\u002fH11WngOUoj8LKLwR8FWpP8lSo8\\u002fxVsU\\u002fN7ufSMR1Xj8lHzJQyiepP4HwIMgpsr0\\u002f0GVz2yc5xD9\\u002fb12EtlalP4N7Y9qOHIM\\u002f\"},\"zmax\":5.451292885231081,\"zmin\":0,\"type\":\"choropleth\"}],\"layout\":{\"title\":{\"text\":\"EV\\u2011aandeel per Europees land (2016)\"}},\"name\":\"2016\"},{\"data\":[{\"colorbar\":{\"dtick\":5,\"len\":0.85,\"thickness\":25,\"tick0\":0,\"tickfont\":{\"color\":\"#2c3e50\",\"size\":14},\"tickmode\":\"linear\",\"ticksuffix\":\"%\",\"title\":{\"font\":{\"color\":\"#1565c0\",\"size\":16},\"text\":\"EV-aandeel (%)\"},\"x\":1.01},\"colorscale\":[[0.0,\"#f8f9fa\"],[0.002,\"#e3f2fd\"],[0.005,\"#bbdefb\"],[0.01,\"#90caf9\"],[0.02,\"#64b5f6\"],[0.03,\"#42a5f5\"],[0.05,\"#2196f3\"],[0.07,\"#1e88e5\"],[0.1,\"#1976d2\"],[0.15,\"#1565c0\"],[0.2,\"#0d47a1\"],[0.3,\"#0a3d91\"],[0.4,\"#083381\"],[0.5,\"#062971\"],[0.6,\"#041f61\"],[0.7,\"#031551\"],[0.8,\"#020b41\"],[0.9,\"#010531\"],[1.0,\"#000021\"]],\"hovertemplate\":\"\\u003cb\\u003e%{text}\\u003c\\u002fb\\u003e\\u003cbr\\u003eEV-aandeel: %{z:.2f}%\\u003cbr\\u003eJaar: 2017\\u003cextra\\u003e\\u003c\\u002fextra\\u003e\",\"locations\":[\"AUT\",\"BEL\",\"BGR\",\"CYP\",\"CZE\",\"DEU\",\"DNK\",\"EST\",\"GRC\",\"ESP\",\"FIN\",\"FRA\",\"HRV\",\"HUN\",\"IRL\",\"ITA\",\"LTU\",\"LUX\",\"LVA\",\"MLT\",\"NLD\",\"POL\",\"PRT\",\"ROU\",\"SWE\",\"SVN\",\"SVK\"],\"text\":[\"AT\",\"BE\",\"BG\",\"CY\",\"CZ\",\"DE\",\"DK\",\"EE\",\"EL\",\"ES\",\"FI\",\"FR\",\"HR\",\"HU\",\"IE\",\"IT\",\"LT\",\"LU\",\"LV\",\"MT\",\"NL\",\"PL\",\"PT\",\"RO\",\"SE\",\"SI\",\"SK\"],\"z\":{\"dtype\":\"f8\",\"bdata\":\"xxzuYzMZ0z8jP\\u002f6+Oa7APwCUWKR+Yow\\u002fqbT2BsPqkD8keMnZXzKcP5zR0xExq70\\u002fHSJzTlor1j9KqFbV\\u002ff\\u002fEP5LYDjvcJ2c\\u002ft1658igWpD8rs2xM7yqnP1TM6weDsss\\u002fLA4LQONIkj+tm1nvIm+tP68XeNa7jMA\\u002fWoro4NYYlD9bpxQV81qnP49NNFuSyc4\\u002f8vse3Lgqpz9Jw2tI0pSwP5IJweLXsdA\\u002fHHsY0I8Mcz8v6OjUOZ23P2hh0x4GOsU\\u002fxdGM3NomzT900QHErtaxP1M6\\u002fP4bVZI\\u002f\"},\"zmax\":5.451292885231081,\"zmin\":0,\"type\":\"choropleth\"}],\"layout\":{\"title\":{\"text\":\"EV\\u2011aandeel per Europees land (2017)\"}},\"name\":\"2017\"},{\"data\":[{\"colorbar\":{\"dtick\":5,\"len\":0.85,\"thickness\":25,\"tick0\":0,\"tickfont\":{\"color\":\"#2c3e50\",\"size\":14},\"tickmode\":\"linear\",\"ticksuffix\":\"%\",\"title\":{\"font\":{\"color\":\"#1565c0\",\"size\":16},\"text\":\"EV-aandeel (%)\"},\"x\":1.01},\"colorscale\":[[0.0,\"#f8f9fa\"],[0.002,\"#e3f2fd\"],[0.005,\"#bbdefb\"],[0.01,\"#90caf9\"],[0.02,\"#64b5f6\"],[0.03,\"#42a5f5\"],[0.05,\"#2196f3\"],[0.07,\"#1e88e5\"],[0.1,\"#1976d2\"],[0.15,\"#1565c0\"],[0.2,\"#0d47a1\"],[0.3,\"#0a3d91\"],[0.4,\"#083381\"],[0.5,\"#062971\"],[0.6,\"#041f61\"],[0.7,\"#031551\"],[0.8,\"#020b41\"],[0.9,\"#010531\"],[1.0,\"#000021\"]],\"hovertemplate\":\"\\u003cb\\u003e%{text}\\u003c\\u002fb\\u003e\\u003cbr\\u003eEV-aandeel: %{z:.2f}%\\u003cbr\\u003eJaar: 2018\\u003cextra\\u003e\\u003c\\u002fextra\\u003e\",\"locations\":[\"AUT\",\"BEL\",\"BGR\",\"CYP\",\"CZE\",\"DEU\",\"DNK\",\"EST\",\"GRC\",\"ESP\",\"FIN\",\"FRA\",\"HRV\",\"HUN\",\"IRL\",\"ISL\",\"ITA\",\"LTU\",\"LUX\",\"LVA\",\"MLT\",\"NLD\",\"POL\",\"PRT\",\"ROU\",\"SWE\",\"SVN\",\"SVK\"],\"text\":[\"AT\",\"BE\",\"BG\",\"CY\",\"CZ\",\"DE\",\"DK\",\"EE\",\"EL\",\"ES\",\"FI\",\"FR\",\"HR\",\"HU\",\"IE\",\"IS\",\"IT\",\"LT\",\"LU\",\"LV\",\"MT\",\"NL\",\"PL\",\"PT\",\"RO\",\"SE\",\"SI\",\"SK\"],\"z\":{\"dtype\":\"f8\",\"bdata\":\"lBKEQuXG2j+BhPV6NtfHP8chzJsoN5o\\u002fenlJP6wylT\\u002fycGtjj1SuP8BW1KoYm8Y\\u002fqVFSVU7C2D+0KrRBw4DFPx7mFGmXq3A\\u002fz5+hO+sMsD9vLUKP7HCyP4sgs1LR09E\\u002f63dYvQFUnD\\u002fDH+Z0bfy6P3VWW1UcCMs\\u002fhBg\\u002fukkO8D\\u002fwQg+XBeefP2mPVDntRLE\\u002fYlFREp+Y1D\\u002fYQnzhlPivP5uQPblLt8k\\u002fk\\u002fAWTZPl4D\\u002fHHRio0wqPP874zaAqLsg\\u002fqfeujhqBkT\\u002fIBqzVPubVP5kXTXWsSr0\\u002fTs0Sbl2IoT8=\"},\"zmax\":5.451292885231081,\"zmin\":0,\"type\":\"choropleth\"}],\"layout\":{\"title\":{\"text\":\"EV\\u2011aandeel per Europees land (2018)\"}},\"name\":\"2018\"},{\"data\":[{\"colorbar\":{\"dtick\":5,\"len\":0.85,\"thickness\":25,\"tick0\":0,\"tickfont\":{\"color\":\"#2c3e50\",\"size\":14},\"tickmode\":\"linear\",\"ticksuffix\":\"%\",\"title\":{\"font\":{\"color\":\"#1565c0\",\"size\":16},\"text\":\"EV-aandeel (%)\"},\"x\":1.01},\"colorscale\":[[0.0,\"#f8f9fa\"],[0.002,\"#e3f2fd\"],[0.005,\"#bbdefb\"],[0.01,\"#90caf9\"],[0.02,\"#64b5f6\"],[0.03,\"#42a5f5\"],[0.05,\"#2196f3\"],[0.07,\"#1e88e5\"],[0.1,\"#1976d2\"],[0.15,\"#1565c0\"],[0.2,\"#0d47a1\"],[0.3,\"#0a3d91\"],[0.4,\"#083381\"],[0.5,\"#062971\"],[0.6,\"#041f61\"],[0.7,\"#031551\"],[0.8,\"#020b41\"],[0.9,\"#010531\"],[1.0,\"#000021\"]],\"hovertemplate\":\"\\u003cb\\u003e%{text}\\u003c\\u002fb\\u003e\\u003cbr\\u003eEV-aandeel: %{z:.2f}%\\u003cbr\\u003eJaar: 2019\\u003cextra\\u003e\\u003c\\u002fextra\\u003e\",\"locations\":[\"AUT\",\"BEL\",\"BGR\",\"CYP\",\"CZE\",\"DEU\",\"DNK\",\"EST\",\"GRC\",\"ESP\",\"FIN\",\"FRA\",\"HRV\",\"HUN\",\"IRL\",\"ISL\",\"ITA\",\"LTU\",\"LUX\",\"LVA\",\"MLT\",\"NLD\",\"POL\",\"PRT\",\"ROU\",\"SWE\",\"SVN\",\"SVK\"],\"text\":[\"AT\",\"BE\",\"BG\",\"CY\",\"CZ\",\"DE\",\"DK\",\"EE\",\"EL\",\"ES\",\"FI\",\"FR\",\"HR\",\"HU\",\"IE\",\"IS\",\"IT\",\"LT\",\"LU\",\"LV\",\"MT\",\"NL\",\"PL\",\"PT\",\"RO\",\"SE\",\"SI\",\"SK\"],\"z\":{\"dtype\":\"f8\",\"bdata\":\"MD6u5Ra\\u002f4j+to446lV\\u002fUPz24tIt0cKU\\u002fQN06qM7enT9tE2EDKmO1P\\u002ftPFF3zUtI\\u002fl947EqO14j87V5XRzUDGP\\u002fwOjcgJI4A\\u002fOe4BZwX1uT99veKfimrBP4hxq7nmi9c\\u002fKvO+fiSFpT+XX3MMDSXGP\\u002fBlFs4iZtg\\u002fABkSfQ879j9EQLgxKG2tP1iHMgIv1Lc\\u002fSbJE3JF54D+ewJKUQSq3P+vO\\u002f47ce9Q\\u002fbitsxc7M8z+57iK7DOaZP4ytwI\\u002flStU\\u002fyp8kWsTApD82faVVOt7jP92x+ET+8cU\\u002fqvs3ggtzpD8=\"},\"zmax\":5.451292885231081,\"zmin\":0,\"type\":\"choropleth\"}],\"layout\":{\"title\":{\"text\":\"EV\\u2011aandeel per Europees land (2019)\"}},\"name\":\"2019\"},{\"data\":[{\"colorbar\":{\"dtick\":5,\"len\":0.85,\"thickness\":25,\"tick0\":0,\"tickfont\":{\"color\":\"#2c3e50\",\"size\":14},\"tickmode\":\"linear\",\"ticksuffix\":\"%\",\"title\":{\"font\":{\"color\":\"#1565c0\",\"size\":16},\"text\":\"EV-aandeel (%)\"},\"x\":1.01},\"colorscale\":[[0.0,\"#f8f9fa\"],[0.002,\"#e3f2fd\"],[0.005,\"#bbdefb\"],[0.01,\"#90caf9\"],[0.02,\"#64b5f6\"],[0.03,\"#42a5f5\"],[0.05,\"#2196f3\"],[0.07,\"#1e88e5\"],[0.1,\"#1976d2\"],[0.15,\"#1565c0\"],[0.2,\"#0d47a1\"],[0.3,\"#0a3d91\"],[0.4,\"#083381\"],[0.5,\"#062971\"],[0.6,\"#041f61\"],[0.7,\"#031551\"],[0.8,\"#020b41\"],[0.9,\"#010531\"],[1.0,\"#000021\"]],\"hovertemplate\":\"\\u003cb\\u003e%{text}\\u003c\\u002fb\\u003e\\u003cbr\\u003eEV-aandeel: %{z:.2f}%\\u003cbr\\u003eJaar: 2020\\u003cextra\\u003e\\u003c\\u002fextra\\u003e\",\"locations\":[\"AUT\",\"BEL\",\"BGR\",\"CYP\",\"CZE\",\"DEU\",\"DNK\",\"EST\",\"GRC\",\"ESP\",\"FIN\",\"FRA\",\"HRV\",\"HUN\",\"IRL\",\"ISL\",\"ITA\",\"LTU\",\"LUX\",\"LVA\",\"MLT\",\"NLD\",\"POL\",\"PRT\",\"ROU\",\"SWE\",\"SVN\",\"SVK\"],\"text\":[\"AT\",\"BE\",\"BG\",\"CY\",\"CZ\",\"DE\",\"DK\",\"EE\",\"EL\",\"ES\",\"FI\",\"FR\",\"HR\",\"HU\",\"IE\",\"IS\",\"IT\",\"LT\",\"LU\",\"LV\",\"MT\",\"NL\",\"PL\",\"PT\",\"RO\",\"SE\",\"SI\",\"SK\"],\"z\":{\"dtype\":\"f8\",\"bdata\":\"7SpSY4X46z+vG723ej3hPwpJqY\\u002f1QrE\\u002fryLo2\\u002fJApT9Tk2NAiSjBP3Yj6b7Wf+Q\\u002fqBZO4km78j\\u002fKC03ILRDMP\\u002fa01udwlZQ\\u002fMqY+ULk9xT8X88ld\\u002farRP7iNPra7Y+Q\\u002fs+5QKUlDsz9CRrXroPnRP8Ms3+12wuE\\u002f2B3mQ3abAkAQBSdGHhvBP1REHdaePMQ\\u002fX7gLePzI7T+FyeO7Md7EP8iHxVka1to\\u002fy0\\u002fRK54BAED7KmA\\u002fU9enP+yjfQm5\\u002fN4\\u002faFsx3sJrtD8mSJbFvg7yP5v12cM5ENQ\\u002f30sHDN2Lsz8=\"},\"zmax\":5.451292885231081,\"zmin\":0,\"type\":\"choropleth\"}],\"layout\":{\"title\":{\"text\":\"EV\\u2011aandeel per Europees land (2020)\"}},\"name\":\"2020\"},{\"data\":[{\"colorbar\":{\"dtick\":5,\"len\":0.85,\"thickness\":25,\"tick0\":0,\"tickfont\":{\"color\":\"#2c3e50\",\"size\":14},\"tickmode\":\"linear\",\"ticksuffix\":\"%\",\"title\":{\"font\":{\"color\":\"#1565c0\",\"size\":16},\"text\":\"EV-aandeel (%)\"},\"x\":1.01},\"colorscale\":[[0.0,\"#f8f9fa\"],[0.002,\"#e3f2fd\"],[0.005,\"#bbdefb\"],[0.01,\"#90caf9\"],[0.02,\"#64b5f6\"],[0.03,\"#42a5f5\"],[0.05,\"#2196f3\"],[0.07,\"#1e88e5\"],[0.1,\"#1976d2\"],[0.15,\"#1565c0\"],[0.2,\"#0d47a1\"],[0.3,\"#0a3d91\"],[0.4,\"#083381\"],[0.5,\"#062971\"],[0.6,\"#041f61\"],[0.7,\"#031551\"],[0.8,\"#020b41\"],[0.9,\"#010531\"],[1.0,\"#000021\"]],\"hovertemplate\":\"\\u003cb\\u003e%{text}\\u003c\\u002fb\\u003e\\u003cbr\\u003eEV-aandeel: %{z:.2f}%\\u003cbr\\u003eJaar: 2021\\u003cextra\\u003e\\u003c\\u002fextra\\u003e\",\"locations\":[\"AUT\",\"BEL\",\"BGR\",\"CYP\",\"CZE\",\"DEU\",\"DNK\",\"EST\",\"GRC\",\"ESP\",\"FIN\",\"FRA\",\"HRV\",\"HUN\",\"IRL\",\"ISL\",\"ITA\",\"LTU\",\"LUX\",\"LVA\",\"MLT\",\"NLD\",\"NOR\",\"POL\",\"PRT\",\"ROU\",\"SWE\",\"SVN\",\"SVK\"],\"text\":[\"AT\",\"BE\",\"BG\",\"CY\",\"CZ\",\"DE\",\"DK\",\"EE\",\"EL\",\"ES\",\"FI\",\"FR\",\"HR\",\"HU\",\"IE\",\"IS\",\"IT\",\"LT\",\"LU\",\"LV\",\"MT\",\"NL\",\"NO\",\"PL\",\"PT\",\"RO\",\"SE\",\"SI\",\"SK\"],\"z\":{\"dtype\":\"f8\",\"bdata\":\"MTtrKZ7a9z\\u002fRm7HvN0jsP9q8BvqDeL4\\u002fOnngkNvKrD8dpvO\\u002fBAfDPycT4yK4YvQ\\u002feWlV58wdA0CobSCR8AfTP4p2Te1U960\\u002fq4Qix9MV0D8y2Lgt5KXkP0L27hgvoPA\\u002f6QOK0SY5xT+cPQFbPffdP5ue5NEZtO0\\u002f0pzxypJ7AUBGngvnMfjSPxKiKdu6MNM\\u002fneyTlmbz\\u002fD8s7Bue8cPRP9RGyHDsN+I\\u002fSBcgOAg2BkDTqiSPDP8uQFw+CpA8vLU\\u002fNkRgSsWa6D+jolWnz+jEP+8OT1qKrQFAtpALmA4g3T+pesfHMcu+Pw==\"},\"zmax\":5.451292885231081,\"zmin\":0,\"type\":\"choropleth\"}],\"layout\":{\"title\":{\"text\":\"EV\\u2011aandeel per Europees land (2021)\"}},\"name\":\"2021\"},{\"data\":[{\"colorbar\":{\"dtick\":5,\"len\":0.85,\"thickness\":25,\"tick0\":0,\"tickfont\":{\"color\":\"#2c3e50\",\"size\":14},\"tickmode\":\"linear\",\"ticksuffix\":\"%\",\"title\":{\"font\":{\"color\":\"#1565c0\",\"size\":16},\"text\":\"EV-aandeel (%)\"},\"x\":1.01},\"colorscale\":[[0.0,\"#f8f9fa\"],[0.002,\"#e3f2fd\"],[0.005,\"#bbdefb\"],[0.01,\"#90caf9\"],[0.02,\"#64b5f6\"],[0.03,\"#42a5f5\"],[0.05,\"#2196f3\"],[0.07,\"#1e88e5\"],[0.1,\"#1976d2\"],[0.15,\"#1565c0\"],[0.2,\"#0d47a1\"],[0.3,\"#0a3d91\"],[0.4,\"#083381\"],[0.5,\"#062971\"],[0.6,\"#041f61\"],[0.7,\"#031551\"],[0.8,\"#020b41\"],[0.9,\"#010531\"],[1.0,\"#000021\"]],\"hovertemplate\":\"\\u003cb\\u003e%{text}\\u003c\\u002fb\\u003e\\u003cbr\\u003eEV-aandeel: %{z:.2f}%\\u003cbr\\u003eJaar: 2022\\u003cextra\\u003e\\u003c\\u002fextra\\u003e\",\"locations\":[\"AUT\",\"BEL\",\"BGR\",\"CYP\",\"CZE\",\"DEU\",\"DNK\",\"EST\",\"GRC\",\"ESP\",\"FIN\",\"FRA\",\"HRV\",\"HUN\",\"IRL\",\"ISL\",\"ITA\",\"LTU\",\"LUX\",\"LVA\",\"MLT\",\"NLD\",\"NOR\",\"POL\",\"PRT\",\"ROU\",\"SWE\",\"SVN\",\"SVK\"],\"text\":[\"AT\",\"BE\",\"BG\",\"CY\",\"CZ\",\"DE\",\"DK\",\"EE\",\"EL\",\"ES\",\"FI\",\"FR\",\"HR\",\"HU\",\"IE\",\"IS\",\"IT\",\"LT\",\"LU\",\"LV\",\"MT\",\"NL\",\"NO\",\"PL\",\"PT\",\"RO\",\"SE\",\"SI\",\"SK\"],\"z\":{\"dtype\":\"f8\",\"bdata\":\"5SQuI48eAUCYQxzsSyH4P2uB\\u002f0KRzss\\u002feYGd0mCswT\\u002fQ9Dw7QdDMP27fUwKKngBAcgJn9RAXEECTyEKTuRTaP8mgrhdqMbw\\u002feiNLLTgA1z\\u002fsIAih0kn0P2uKCquBiPg\\u002f2lTXNDKx0D+YKu9O7VHnP0RDG3zTVPk\\u002fxT7JEnQRD0AnFtJ4uirZPzJtarb0U9w\\u002fqTD8feIDCUA+\\u002fXhOotzfP0pArd4+Ruw\\u002fqZQhKrydDUBDESF3+R80QNswXyWiZcI\\u002fXCxL17el8j9kJDBXZBfUPztZbtcSww9AcjoKY6oi5T+PO87+EK7GPw==\"},\"zmax\":5.451292885231081,\"zmin\":0,\"type\":\"choropleth\"}],\"layout\":{\"title\":{\"text\":\"EV\\u2011aandeel per Europees land (2022)\"}},\"name\":\"2022\"},{\"data\":[{\"colorbar\":{\"dtick\":5,\"len\":0.85,\"thickness\":25,\"tick0\":0,\"tickfont\":{\"color\":\"#2c3e50\",\"size\":14},\"tickmode\":\"linear\",\"ticksuffix\":\"%\",\"title\":{\"font\":{\"color\":\"#1565c0\",\"size\":16},\"text\":\"EV-aandeel (%)\"},\"x\":1.01},\"colorscale\":[[0.0,\"#f8f9fa\"],[0.002,\"#e3f2fd\"],[0.005,\"#bbdefb\"],[0.01,\"#90caf9\"],[0.02,\"#64b5f6\"],[0.03,\"#42a5f5\"],[0.05,\"#2196f3\"],[0.07,\"#1e88e5\"],[0.1,\"#1976d2\"],[0.15,\"#1565c0\"],[0.2,\"#0d47a1\"],[0.3,\"#0a3d91\"],[0.4,\"#083381\"],[0.5,\"#062971\"],[0.6,\"#041f61\"],[0.7,\"#031551\"],[0.8,\"#020b41\"],[0.9,\"#010531\"],[1.0,\"#000021\"]],\"hovertemplate\":\"\\u003cb\\u003e%{text}\\u003c\\u002fb\\u003e\\u003cbr\\u003eEV-aandeel: %{z:.2f}%\\u003cbr\\u003eJaar: 2023\\u003cextra\\u003e\\u003c\\u002fextra\\u003e\",\"locations\":[\"AUT\",\"BEL\",\"BGR\",\"CYP\",\"CZE\",\"DEU\",\"DNK\",\"EST\",\"GRC\",\"ESP\",\"FIN\",\"FRA\",\"HRV\",\"HUN\",\"IRL\",\"ISL\",\"ITA\",\"LTU\",\"LUX\",\"LVA\",\"MLT\",\"NLD\",\"NOR\",\"POL\",\"PRT\",\"ROU\",\"SWE\",\"SVN\",\"SVK\"],\"text\":[\"AT\",\"BE\",\"BG\",\"CY\",\"CZ\",\"DE\",\"DK\",\"EE\",\"EL\",\"ES\",\"FI\",\"FR\",\"HR\",\"HU\",\"IE\",\"IS\",\"IT\",\"LT\",\"LU\",\"LV\",\"MT\",\"NL\",\"NO\",\"PL\",\"PT\",\"RO\",\"SE\",\"SI\",\"SK\"],\"z\":{\"dtype\":\"f8\",\"bdata\":\"V6qae5\\u002f9B0B+7ZF2sQAIQC1xEPhJbNg\\u002fb2yYzOBp0j9WtYceaw3WP3J4oLHg8wZAo+apjilOHECrbU5tNmzlP6VkEqOB0co\\u002fpRv9uHH14T+i6U0WbIECQNOM7cZMsQFABvt+z\\u002fGl1z+juI5\\u002fwKLvP1k\\u002fwUUSxANAAAAAAAAwJkDBv8fFmivhP1gO2eJTf+U\\u002feJBxVlqEFEC6iOMTnxLqP8brU7F6j\\u002fU\\u002fQRt\\u002f4L2dE0DVwNatgto3QPY\\u002fUAS0Kc4\\u002fU21Y5XxG\\u002fj\\u002fGwEVu+ADfP9Gw1x7VcRdAyy0lAZOR8D9R0VRZORzTPw==\"},\"zmax\":5.451292885231081,\"zmin\":0,\"type\":\"choropleth\"}],\"layout\":{\"title\":{\"text\":\"EV\\u2011aandeel per Europees land (2023)\"}},\"name\":\"2023\"}]);\n",
       "                        }).then(function(){\n",
       "                            Plotly.animate('47f7afc4-c548-46bc-8771-a62ac5f37f5c', null);\n",
       "                        })                };            </script>        </div></div>"
      ],
      "text/plain": [
       "<IPython.core.display.HTML object>"
      ]
     },
     "metadata": {},
     "output_type": "display_data"
    }
   ],
   "source": [
    "iso_map = {'AT':'AUT','BE':'BEL','BG':'BGR','HR':'HRV','CY':'CYP','CZ':'CZE','DK':'DNK','EE':'EST',\n",
    "           'FI':'FIN','FR':'FRA','DE':'DEU','EL':'GRC','HU':'HUN','IE':'IRL','IT':'ITA','LV':'LVA',\n",
    "           'LT':'LTU','LU':'LUX','MT':'MLT','NL':'NLD','PL':'POL','PT':'PRT','RO':'ROU','SK':'SVK',\n",
    "           'SI':'SVN','ES':'ESP','SE':'SWE','NO':'NOR','IS':'ISL','CH':'CHE','UK':'GBR'}\n",
    "country_names = {\n",
    "    'AT': 'Oostenrijk', 'BE': 'België', 'BG': 'Bulgarije', 'HR': 'Kroatië', 'CY': 'Cyprus',\n",
    "    'CZ': 'Tsjechië', 'DK': 'Denemarken', 'EE': 'Estland', 'FI': 'Finland', 'FR': 'Frankrijk',\n",
    "    'DE': 'Duitsland', 'EL': 'Griekenland', 'HU': 'Hongarije', 'IE': 'Ierland', 'IT': 'Italië',\n",
    "    'LV': 'Letland', 'LT': 'Litouwen', 'LU': 'Luxemburg', 'MT': 'Malta', 'NL': 'Nederland',\n",
    "    'PL': 'Polen', 'PT': 'Portugal', 'RO': 'Roemenië', 'SK': 'Slowakije', 'SI': 'Slovenië',\n",
    "    'ES': 'Spanje', 'SE': 'Zweden', 'NO': 'Noorwegen', 'IS': 'IJsland', 'CH': 'Zwitserland',\n",
    "    'UK': 'Verenigd Koninkrijk'\n",
    "}\n",
    "df['country_name'] = df['geo'].map(country_names)\n",
    "df['iso3'] = df.geo.map(iso_map)\n",
    "rows = df.dropna(subset=['iso3'])\n",
    "\n",
    "years = sorted(rows.year.unique())\n",
    "zmax = rows.evShare.quantile(0.98)\n",
    "\n",
    "# Blauwe kleurschaal met veel meer detail voor betere zichtbaarheid van alle EV-percentages\n",
    "custom_colorscale = [\n",
    "    [0.0, '#f8f9fa'],      # Heel lichtgrijs voor 0%\n",
    "    [0.002, '#e3f2fd'],    # Zeer lichtblauw voor 0.1%\n",
    "    [0.005, '#bbdefb'],    # Lichtblauw voor 0.3%\n",
    "    [0.01, '#90caf9'],     # Blauw voor 0.5%\n",
    "    [0.02, '#64b5f6'],     # Middenblauw voor 1%\n",
    "    [0.03, '#42a5f5'],     # Blauw voor 1.5%\n",
    "    [0.05, '#2196f3'],     # Levendig blauw voor 2.5%\n",
    "    [0.07, '#1e88e5'],     # Donker blauw voor 3.5%\n",
    "    [0.1, '#1976d2'],      # Donkerblauw voor 5%\n",
    "    [0.15, '#1565c0'],     # Zeer donkerblauw voor 7.5%\n",
    "    [0.2, '#0d47a1'],      # Heel donkerblauw voor 10%\n",
    "    [0.3, '#0a3d91'],      # Donker navy voor 15%\n",
    "    [0.4, '#083381'],      # Navy voor 20%\n",
    "    [0.5, '#062971'],      # Donker navy voor 25%\n",
    "    [0.6, '#041f61'],      # Zeer donker navy voor 30%\n",
    "    [0.7, '#031551'],      # Bijna zwart navy voor 35%\n",
    "    [0.8, '#020b41'],      # Heel donker navy voor 40%\n",
    "    [0.9, '#010531'],      # Bijna zwart voor 45%\n",
    "    [1.0, '#000021']       # Zwart-navy voor 50%+\n",
    "]\n",
    "\n",
    "frames = []\n",
    "for yr in years:\n",
    "    sub = rows[rows.year == yr]\n",
    "    frames.append(go.Frame(\n",
    "        name=str(yr),\n",
    "        data=[go.Choropleth(\n",
    "            locations=sub.iso3,\n",
    "            z=sub.evShare,\n",
    "            text=sub.country_name,\n",
    "            colorscale=custom_colorscale,\n",
    "            zmin=0, \n",
    "            zmax=zmax,\n",
    "            hovertemplate='<b>%{text}</b><br>EV-aandeel: %{z:.2f}%<br>Jaar: ' + str(yr) + '<extra></extra>',\n",
    "            colorbar=dict(\n",
    "                title=dict(text=\"EV-aandeel (%)\", font=dict(size=16, color='rgb(42, 63, 95)')),\n",
    "                tickfont=dict(size=14, color='rgb(42, 63, 95)'),\n",
    "                len=0.85,\n",
    "                thickness=25,\n",
    "                x=1.01,\n",
    "                tickmode='linear',\n",
    "                tick0=0,\n",
    "                dtick=5,\n",
    "                ticksuffix='%'\n",
    "            )\n",
    "        )],\n",
    "        layout=dict(title=dict(text=f'EV‑aandeel per Europees land ({yr})'))\n",
    "    ))\n",
    "\n",
    "\n",
    "\n",
    "# Convert to HTML and display\n",
    "fig_map.show()  # toont de figuur in Jupyter Notebook"
   ]
  },
  {
   "cell_type": "markdown",
   "id": "be168116",
   "metadata": {},
   "source": [
    "Dit is een interactieve kaart die het EV-aandeel per land toont.\n",
    "Deze visualisatie versterkt het argument van het tweede perspectief (\"Elektrificatie alleen is onvoldoende\") door te laten zien dat de adoptie van EV's geen uniforme beweging is. Het is een gefragmenteerd proces met aanzienlijke regionale verschillen die worden beïnvloed door lokale factoren zoals beleid, economische omstandigheden en laadinfrastructuur, wat vervolgens weer invloed heeft op de CO₂-uitstoot."
   ]
  },
  {
   "cell_type": "markdown",
   "id": "c8b0b7b4",
   "metadata": {},
   "source": [
    "---"
   ]
  },
  {
   "cell_type": "markdown",
   "id": "5e6105ae",
   "metadata": {},
   "source": [
    "## Resultaten & Conclusie\n",
    "\n",
    "Binnen onze datastory stonden twee – op het eerste gezicht tegengestelde – **perspectieven** centraal:\n",
    "\n",
    "* **Perspectief 1 – *“EV’s als primaire oplossing.”***  \n",
    "  Verwacht: een duidelijk, bijna lineair verband tussen EV‑aandeel en CO₂‑daling.  \n",
    "* **Perspectief 2 – *“Elektrificatie alléén is onvoldoende.”***  \n",
    "  Verwacht: een zwak of inconsistent verband; andere factoren (stroommix, efficiëntie) spelen mee.\n",
    "\n",
    "Om te beoordelen welke positie het sterkst is (of hoe ze elkaar aanvullen) tonen we drie interactieve visualisaties:\n",
    "\n",
    "1. **EU‑trend** – laat de grote lijn zien.  \n",
    "2. **Slope‑chart per land** – onthult verschillen in tempo.  \n",
    "3. **ΔEV vs ΔCO₂ scatter** – test het veronderstelde causale verband direct.\n",
    "\n",
    "Scrol, hover en filter om zelf de data te verkennen. Onder elke figuur geven we een korte interpretatie."
   ]
  },
  {
   "cell_type": "code",
   "execution_count": 51,
   "id": "df22543f",
   "metadata": {
    "tags": [
     "remove-input"
    ]
   },
   "outputs": [],
   "source": [
    "\n",
    "import pandas as pd\n",
    "import numpy as np\n",
    "import plotly.express as px\n",
    "import plotly.graph_objects as go\n",
    "import matplotlib.pyplot as plt\n",
    "import seaborn as sns\n",
    "from IPython.display import HTML, display\n",
    "\n",
    "%matplotlib inline\n",
    "\n",
    "# --- Gecombineerde dataset inladen ---\n",
    "df_full = pd.read_csv('data/ev_airquality_ready.csv')\n",
    "\n",
    "# Kolommen hernoemen en extra velden aanmaken\n",
    "df = (df_full\n",
    "      .rename(columns={'EV_share': 'evShare',\n",
    "                       'CO2_g_km': 'co2',\n",
    "                       'TIME_PERIOD': 'year',\n",
    "                       'ELC': 'elc',\n",
    "                       'TOTAL': 'total'})\n",
    "     )\n",
    "\n",
    "# Compatibiliteit met eerdere variabelen\n",
    "ev_share = df[['geo', 'year', 'elc', 'total']].rename(columns={'elc': 'EV', 'total': 'TOTAL'})\n",
    "ev_share['EV_SHARE'] = df['evShare']\n",
    "\n",
    "co2 = df[['geo', 'year', 'co2']].rename(columns={'co2': 'OBS_VALUE'})\n",
    "\n",
    "START_YEAR = int(df['year'].min())\n",
    "END_YEAR   = int(df['year'].max())\n",
    "\n",
    "focus_codes = ['NL', 'DE', 'NO', 'PL', 'FR', 'ES']\n",
    "focus = df[df.geo.isin(focus_codes)]\n",
    "\n",
    "code2name = dict(NL='Nederland', DE='Duitsland', NO='Noorwegen',\n",
    "                 PL='Polen', FR='Frankrijk', ES='Spanje')\n"
   ]
  },
  {
   "cell_type": "code",
   "execution_count": 52,
   "id": "80008179",
   "metadata": {
    "tags": [
     "remove-input"
    ]
   },
   "outputs": [
    {
     "data": {
      "text/html": [
       "<div class=\"plot-card\"><div>                        <script type=\"text/javascript\">window.PlotlyConfig = {MathJaxConfig: 'local'};</script>\n",
       "        <script charset=\"utf-8\" src=\"https://cdn.plot.ly/plotly-3.0.1.min.js\"></script>                <div id=\"3e99aeec-3e98-4f5f-a34e-df82db32e654\" class=\"plotly-graph-div\" style=\"height:100%; width:100%;\"></div>            <script type=\"text/javascript\">                window.PLOTLYENV=window.PLOTLYENV || {};                                if (document.getElementById(\"3e99aeec-3e98-4f5f-a34e-df82db32e654\")) {                    Plotly.newPlot(                        \"3e99aeec-3e98-4f5f-a34e-df82db32e654\",                        [{\"hovertemplate\":\"Jaar %{x}\\u003cbr\\u003eEV-aandeel %{y:.2f}%\\u003cextra\\u003e\\u003c\\u002fextra\\u003e\",\"mode\":\"lines+markers\",\"name\":\"EV-aandeel (%)\",\"x\":{\"dtype\":\"i2\",\"bdata\":\"3gffB+AH4QfiB+MH5AflB+YH5wc=\"},\"y\":{\"dtype\":\"f8\",\"bdata\":\"\\u002fvwf5PpooT8C1qkRuT+rP+g43EK9tbI\\u002f7zxc7aewuj94HdhGQhbDP6nIwlDg8c4\\u002fu\\u002fyeXqdS3D\\u002fCfyM2LqfrP1MJchAw7PQ\\u002flaNxklTD\\u002fT8=\"},\"type\":\"scatter\",\"xaxis\":\"x\",\"yaxis\":\"y\"},{\"hovertemplate\":\"Jaar %{x}\\u003cbr\\u003eCO\\u2082 %{y:.1f} g\\u002fkm\\u003cextra\\u003e\\u003c\\u002fextra\\u003e\",\"line\":{\"dash\":\"dash\"},\"mode\":\"lines+markers\",\"name\":\"CO\\u2082 (g\\u002fkm)\",\"x\":{\"dtype\":\"i2\",\"bdata\":\"3gffB+AH4QfiB+MH5AflB+YH5wc=\"},\"y\":{\"dtype\":\"f8\",\"bdata\":\"Z2ZmZmYmX0D5iq\\u002f4ijdeQCu+4iu+ql1AHdRBHdQJYkB5iyGdtzhiQGj1pYJWb2JAtomSXZuYYEBRuB6F60FdQEREREREtFtAXI\\u002fC9SgcWkA=\"},\"type\":\"scatter\",\"xaxis\":\"x\",\"yaxis\":\"y2\"}],                        {\"template\":{\"data\":{\"histogram2dcontour\":[{\"type\":\"histogram2dcontour\",\"colorbar\":{\"outlinewidth\":0,\"ticks\":\"\"},\"colorscale\":[[0.0,\"#0d0887\"],[0.1111111111111111,\"#46039f\"],[0.2222222222222222,\"#7201a8\"],[0.3333333333333333,\"#9c179e\"],[0.4444444444444444,\"#bd3786\"],[0.5555555555555556,\"#d8576b\"],[0.6666666666666666,\"#ed7953\"],[0.7777777777777778,\"#fb9f3a\"],[0.8888888888888888,\"#fdca26\"],[1.0,\"#f0f921\"]]}],\"choropleth\":[{\"type\":\"choropleth\",\"colorbar\":{\"outlinewidth\":0,\"ticks\":\"\"}}],\"histogram2d\":[{\"type\":\"histogram2d\",\"colorbar\":{\"outlinewidth\":0,\"ticks\":\"\"},\"colorscale\":[[0.0,\"#0d0887\"],[0.1111111111111111,\"#46039f\"],[0.2222222222222222,\"#7201a8\"],[0.3333333333333333,\"#9c179e\"],[0.4444444444444444,\"#bd3786\"],[0.5555555555555556,\"#d8576b\"],[0.6666666666666666,\"#ed7953\"],[0.7777777777777778,\"#fb9f3a\"],[0.8888888888888888,\"#fdca26\"],[1.0,\"#f0f921\"]]}],\"heatmap\":[{\"type\":\"heatmap\",\"colorbar\":{\"outlinewidth\":0,\"ticks\":\"\"},\"colorscale\":[[0.0,\"#0d0887\"],[0.1111111111111111,\"#46039f\"],[0.2222222222222222,\"#7201a8\"],[0.3333333333333333,\"#9c179e\"],[0.4444444444444444,\"#bd3786\"],[0.5555555555555556,\"#d8576b\"],[0.6666666666666666,\"#ed7953\"],[0.7777777777777778,\"#fb9f3a\"],[0.8888888888888888,\"#fdca26\"],[1.0,\"#f0f921\"]]}],\"contourcarpet\":[{\"type\":\"contourcarpet\",\"colorbar\":{\"outlinewidth\":0,\"ticks\":\"\"}}],\"contour\":[{\"type\":\"contour\",\"colorbar\":{\"outlinewidth\":0,\"ticks\":\"\"},\"colorscale\":[[0.0,\"#0d0887\"],[0.1111111111111111,\"#46039f\"],[0.2222222222222222,\"#7201a8\"],[0.3333333333333333,\"#9c179e\"],[0.4444444444444444,\"#bd3786\"],[0.5555555555555556,\"#d8576b\"],[0.6666666666666666,\"#ed7953\"],[0.7777777777777778,\"#fb9f3a\"],[0.8888888888888888,\"#fdca26\"],[1.0,\"#f0f921\"]]}],\"surface\":[{\"type\":\"surface\",\"colorbar\":{\"outlinewidth\":0,\"ticks\":\"\"},\"colorscale\":[[0.0,\"#0d0887\"],[0.1111111111111111,\"#46039f\"],[0.2222222222222222,\"#7201a8\"],[0.3333333333333333,\"#9c179e\"],[0.4444444444444444,\"#bd3786\"],[0.5555555555555556,\"#d8576b\"],[0.6666666666666666,\"#ed7953\"],[0.7777777777777778,\"#fb9f3a\"],[0.8888888888888888,\"#fdca26\"],[1.0,\"#f0f921\"]]}],\"mesh3d\":[{\"type\":\"mesh3d\",\"colorbar\":{\"outlinewidth\":0,\"ticks\":\"\"}}],\"scatter\":[{\"fillpattern\":{\"fillmode\":\"overlay\",\"size\":10,\"solidity\":0.2},\"type\":\"scatter\"}],\"parcoords\":[{\"type\":\"parcoords\",\"line\":{\"colorbar\":{\"outlinewidth\":0,\"ticks\":\"\"}}}],\"scatterpolargl\":[{\"type\":\"scatterpolargl\",\"marker\":{\"colorbar\":{\"outlinewidth\":0,\"ticks\":\"\"}}}],\"bar\":[{\"error_x\":{\"color\":\"#2a3f5f\"},\"error_y\":{\"color\":\"#2a3f5f\"},\"marker\":{\"line\":{\"color\":\"#E5ECF6\",\"width\":0.5},\"pattern\":{\"fillmode\":\"overlay\",\"size\":10,\"solidity\":0.2}},\"type\":\"bar\"}],\"scattergeo\":[{\"type\":\"scattergeo\",\"marker\":{\"colorbar\":{\"outlinewidth\":0,\"ticks\":\"\"}}}],\"scatterpolar\":[{\"type\":\"scatterpolar\",\"marker\":{\"colorbar\":{\"outlinewidth\":0,\"ticks\":\"\"}}}],\"histogram\":[{\"marker\":{\"pattern\":{\"fillmode\":\"overlay\",\"size\":10,\"solidity\":0.2}},\"type\":\"histogram\"}],\"scattergl\":[{\"type\":\"scattergl\",\"marker\":{\"colorbar\":{\"outlinewidth\":0,\"ticks\":\"\"}}}],\"scatter3d\":[{\"type\":\"scatter3d\",\"line\":{\"colorbar\":{\"outlinewidth\":0,\"ticks\":\"\"}},\"marker\":{\"colorbar\":{\"outlinewidth\":0,\"ticks\":\"\"}}}],\"scattermap\":[{\"type\":\"scattermap\",\"marker\":{\"colorbar\":{\"outlinewidth\":0,\"ticks\":\"\"}}}],\"scattermapbox\":[{\"type\":\"scattermapbox\",\"marker\":{\"colorbar\":{\"outlinewidth\":0,\"ticks\":\"\"}}}],\"scatterternary\":[{\"type\":\"scatterternary\",\"marker\":{\"colorbar\":{\"outlinewidth\":0,\"ticks\":\"\"}}}],\"scattercarpet\":[{\"type\":\"scattercarpet\",\"marker\":{\"colorbar\":{\"outlinewidth\":0,\"ticks\":\"\"}}}],\"carpet\":[{\"aaxis\":{\"endlinecolor\":\"#2a3f5f\",\"gridcolor\":\"white\",\"linecolor\":\"white\",\"minorgridcolor\":\"white\",\"startlinecolor\":\"#2a3f5f\"},\"baxis\":{\"endlinecolor\":\"#2a3f5f\",\"gridcolor\":\"white\",\"linecolor\":\"white\",\"minorgridcolor\":\"white\",\"startlinecolor\":\"#2a3f5f\"},\"type\":\"carpet\"}],\"table\":[{\"cells\":{\"fill\":{\"color\":\"#EBF0F8\"},\"line\":{\"color\":\"white\"}},\"header\":{\"fill\":{\"color\":\"#C8D4E3\"},\"line\":{\"color\":\"white\"}},\"type\":\"table\"}],\"barpolar\":[{\"marker\":{\"line\":{\"color\":\"#E5ECF6\",\"width\":0.5},\"pattern\":{\"fillmode\":\"overlay\",\"size\":10,\"solidity\":0.2}},\"type\":\"barpolar\"}],\"pie\":[{\"automargin\":true,\"type\":\"pie\"}]},\"layout\":{\"autotypenumbers\":\"strict\",\"colorway\":[\"#636efa\",\"#EF553B\",\"#00cc96\",\"#ab63fa\",\"#FFA15A\",\"#19d3f3\",\"#FF6692\",\"#B6E880\",\"#FF97FF\",\"#FECB52\"],\"font\":{\"color\":\"#2a3f5f\"},\"hovermode\":\"closest\",\"hoverlabel\":{\"align\":\"left\"},\"paper_bgcolor\":\"white\",\"plot_bgcolor\":\"#E5ECF6\",\"polar\":{\"bgcolor\":\"#E5ECF6\",\"angularaxis\":{\"gridcolor\":\"white\",\"linecolor\":\"white\",\"ticks\":\"\"},\"radialaxis\":{\"gridcolor\":\"white\",\"linecolor\":\"white\",\"ticks\":\"\"}},\"ternary\":{\"bgcolor\":\"#E5ECF6\",\"aaxis\":{\"gridcolor\":\"white\",\"linecolor\":\"white\",\"ticks\":\"\"},\"baxis\":{\"gridcolor\":\"white\",\"linecolor\":\"white\",\"ticks\":\"\"},\"caxis\":{\"gridcolor\":\"white\",\"linecolor\":\"white\",\"ticks\":\"\"}},\"coloraxis\":{\"colorbar\":{\"outlinewidth\":0,\"ticks\":\"\"}},\"colorscale\":{\"sequential\":[[0.0,\"#0d0887\"],[0.1111111111111111,\"#46039f\"],[0.2222222222222222,\"#7201a8\"],[0.3333333333333333,\"#9c179e\"],[0.4444444444444444,\"#bd3786\"],[0.5555555555555556,\"#d8576b\"],[0.6666666666666666,\"#ed7953\"],[0.7777777777777778,\"#fb9f3a\"],[0.8888888888888888,\"#fdca26\"],[1.0,\"#f0f921\"]],\"sequentialminus\":[[0.0,\"#0d0887\"],[0.1111111111111111,\"#46039f\"],[0.2222222222222222,\"#7201a8\"],[0.3333333333333333,\"#9c179e\"],[0.4444444444444444,\"#bd3786\"],[0.5555555555555556,\"#d8576b\"],[0.6666666666666666,\"#ed7953\"],[0.7777777777777778,\"#fb9f3a\"],[0.8888888888888888,\"#fdca26\"],[1.0,\"#f0f921\"]],\"diverging\":[[0,\"#8e0152\"],[0.1,\"#c51b7d\"],[0.2,\"#de77ae\"],[0.3,\"#f1b6da\"],[0.4,\"#fde0ef\"],[0.5,\"#f7f7f7\"],[0.6,\"#e6f5d0\"],[0.7,\"#b8e186\"],[0.8,\"#7fbc41\"],[0.9,\"#4d9221\"],[1,\"#276419\"]]},\"xaxis\":{\"gridcolor\":\"white\",\"linecolor\":\"white\",\"ticks\":\"\",\"title\":{\"standoff\":15},\"zerolinecolor\":\"white\",\"automargin\":true,\"zerolinewidth\":2},\"yaxis\":{\"gridcolor\":\"white\",\"linecolor\":\"white\",\"ticks\":\"\",\"title\":{\"standoff\":15},\"zerolinecolor\":\"white\",\"automargin\":true,\"zerolinewidth\":2},\"scene\":{\"xaxis\":{\"backgroundcolor\":\"#E5ECF6\",\"gridcolor\":\"white\",\"linecolor\":\"white\",\"showbackground\":true,\"ticks\":\"\",\"zerolinecolor\":\"white\",\"gridwidth\":2},\"yaxis\":{\"backgroundcolor\":\"#E5ECF6\",\"gridcolor\":\"white\",\"linecolor\":\"white\",\"showbackground\":true,\"ticks\":\"\",\"zerolinecolor\":\"white\",\"gridwidth\":2},\"zaxis\":{\"backgroundcolor\":\"#E5ECF6\",\"gridcolor\":\"white\",\"linecolor\":\"white\",\"showbackground\":true,\"ticks\":\"\",\"zerolinecolor\":\"white\",\"gridwidth\":2}},\"shapedefaults\":{\"line\":{\"color\":\"#2a3f5f\"}},\"annotationdefaults\":{\"arrowcolor\":\"#2a3f5f\",\"arrowhead\":0,\"arrowwidth\":1},\"geo\":{\"bgcolor\":\"white\",\"landcolor\":\"#E5ECF6\",\"subunitcolor\":\"white\",\"showland\":true,\"showlakes\":true,\"lakecolor\":\"white\"},\"title\":{\"x\":0.05},\"mapbox\":{\"style\":\"light\"}}},\"xaxis\":{\"anchor\":\"y\",\"domain\":[0.0,0.94],\"title\":{\"text\":\"Jaar\"}},\"yaxis\":{\"anchor\":\"x\",\"domain\":[0.0,1.0],\"title\":{\"text\":\"EV-aandeel (%)\"}},\"yaxis2\":{\"anchor\":\"x\",\"overlaying\":\"y\",\"side\":\"right\",\"title\":{\"text\":\"CO\\u2082 (g\\u002fkm)\"}},\"title\":{\"text\":\"EV-aandeel vs. CO\\u2082 (EU-gemiddelde, 2014\\u20132023)\"},\"legend\":{\"title\":{\"text\":\"Indicator\"}},\"paper_bgcolor\":\"#FDEDDD\",\"plot_bgcolor\":\"#FDEDDD\"},                        {\"responsive\": true}                    )                };            </script>        </div></div>"
      ],
      "text/plain": [
       "<IPython.core.display.HTML object>"
      ]
     },
     "metadata": {},
     "output_type": "display_data"
    }
   ],
   "source": [
    "\n",
    "import plotly.graph_objects as go\n",
    "from plotly.subplots import make_subplots\n",
    "\n",
    "# EU-totaal: som EV en TOTAL per jaar\n",
    "eu_ev = ev_share.groupby('year').agg({'EV': 'sum', 'TOTAL': 'sum'})\n",
    "eu_ev['EV_SHARE'] = eu_ev['EV'] / eu_ev['TOTAL'] * 100\n",
    "\n",
    "# EU-gemiddelde CO2 per jaar\n",
    "eu_co2 = co2.groupby('year')['OBS_VALUE'].mean().rename('CO2_MEAN')\n",
    "\n",
    "# Alles samen in één dataframe\n",
    "eu = eu_ev.join(eu_co2).reset_index()\n",
    "\n",
    "fig1 = make_subplots(specs=[[{\"secondary_y\": True}]])\n",
    "\n",
    "# Lijn EV-aandeel\n",
    "fig1.add_trace(\n",
    "    go.Scatter(\n",
    "        x=eu['year'],\n",
    "        y=eu['EV_SHARE'],\n",
    "        mode='lines+markers',\n",
    "        name='EV-aandeel (%)',\n",
    "        hovertemplate='Jaar %{x}<br>EV-aandeel %{y:.2f}%<extra></extra>'\n",
    "    ),\n",
    "    secondary_y=False\n",
    ")\n",
    "\n",
    "# Lijn CO2\n",
    "fig1.add_trace(\n",
    "    go.Scatter(\n",
    "        x=eu['year'],\n",
    "        y=eu['CO2_MEAN'],\n",
    "        mode='lines+markers',\n",
    "        line=dict(dash='dash'),\n",
    "        name='CO₂ (g/km)',\n",
    "        hovertemplate='Jaar %{x}<br>CO₂ %{y:.1f} g/km<extra></extra>'\n",
    "    ),\n",
    "    secondary_y=True\n",
    ")\n",
    "\n",
    "fig1.update_layout(\n",
    "    title=f'EV-aandeel vs. CO₂ (EU-gemiddelde, {START_YEAR}–{END_YEAR})',\n",
    "    xaxis_title='Jaar',\n",
    "    yaxis_title='EV-aandeel (%)',\n",
    "    legend_title='Indicator'\n",
    ")\n",
    "fig1.update_yaxes(title_text='CO₂ (g/km)', secondary_y=True)\n",
    "fig_map = go.Figure(\n",
    "    data=frames[0].data,\n",
    "    frames=frames,\n",
    "    layout=go.Layout(\n",
    "        title=dict(\n",
    "            text=f'EV‑aandeel per Europees land ({years[0]})',\n",
    "            font=dict(size=22, color='rgb(42, 63, 95)', family='Arial, sans-serif'),\n",
    "            x=0.5,\n",
    "            xanchor='center',\n",
    "            y=0.95,\n",
    "            yanchor='top'\n",
    "        ),\n",
    "        geo=dict(\n",
    "            scope='europe', \n",
    "            projection_type='natural earth',\n",
    "            showframe=False, \n",
    "            showcountries=True,\n",
    "            countrycolor='#7fb3d3',\n",
    "            countrywidth=0.8,\n",
    "            bgcolor='rgba(0,0,0,0)',\n",
    "            landcolor='#f0f8ff',\n",
    "            oceancolor='#cce7ff',\n",
    "            showocean=True,\n",
    "            showlakes=True,\n",
    "            lakecolor='#cce7ff'\n",
    "        ),\n",
    "        paper_bgcolor='#f8fbff',\n",
    "        plot_bgcolor='#f8fbff',\n",
    "        font=dict(family='Arial, sans-serif', color='#2c3e50'),\n",
    "        sliders=[dict(\n",
    "            steps=[dict(\n",
    "                method='animate', \n",
    "                label=str(y),\n",
    "                args=[[str(y)], dict(\n",
    "                    mode='immediate',\n",
    "                    frame=dict(duration=300, redraw=True),\n",
    "                    transition=dict(duration=200, easing='cubic-in-out')\n",
    "                )]\n",
    "            ) for y in years],\n",
    "            currentvalue=dict(\n",
    "                prefix='Jaar: ',\n",
    "                font=dict(size=18, color='rgb(42, 63, 95)', weight='bold')\n",
    "            ),\n",
    "            pad=dict(t=60, b=20, l=40, r=40),\n",
    "            len=0.85,\n",
    "            x=0.075,\n",
    "            xanchor='left',\n",
    "            bgcolor='rgba(255,255,255,0.95)',\n",
    "            bordercolor='#2196f3',\n",
    "            borderwidth=2,\n",
    "            font=dict(color='rgb(42, 63, 95)', size=14)\n",
    "        )],\n",
    "        updatemenus=[dict(\n",
    "            type='buttons',\n",
    "            showactive=False,\n",
    "            x=0.075,\n",
    "            y=0.02,\n",
    "            xanchor='left',\n",
    "            yanchor='bottom',\n",
    "            buttons=[\n",
    "                dict(\n",
    "                    label='▶',\n",
    "                    method='animate',\n",
    "                    args=[None, dict(\n",
    "                        frame=dict(duration=1000, redraw=True),\n",
    "                        transition=dict(duration=400),\n",
    "                        fromcurrent=True,\n",
    "                        mode='immediate'\n",
    "                    )]\n",
    "                ),\n",
    "                dict(\n",
    "                    label='⏸',\n",
    "                    method='animate',\n",
    "                    args=[[None], dict(\n",
    "                        frame=dict(duration=0, redraw=False),\n",
    "                        mode='immediate',\n",
    "                        transition=dict(duration=0)\n",
    "                    )]\n",
    "                )\n",
    "            ],\n",
    "            bgcolor='rgba(255,255,255,0.95)',\n",
    "            bordercolor='rgb(42, 63, 95)',\n",
    "            borderwidth=2,\n",
    "            font=dict(color='rgb(42, 63, 95)', size=13, weight='bold')\n",
    "        )],\n",
    "        margin=dict(l=40, r=40, t=80, b=80)\n",
    "    )\n",
    ")\n",
    "\n",
    "fig1.show()  # toont de figuur in Jupyter Notebook\n"
   ]
  },
  {
   "cell_type": "markdown",
   "id": "57dec457",
   "metadata": {},
   "source": [
    "De figuur toont de ontwikkeling van het aandeel elektrische voertuigen (in blauw) en de gemiddelde CO₂-uitstoot per nieuw voertuig op basis van typegoedkeuring (gestippelde lijn) binnen de EU. Sinds 2014 vertoont het EV-aandeel een duidelijke exponentiële groei. Tegelijkertijd daalt de gemiddelde CO₂-uitstoot geleidelijk over dezelfde periode.\n",
    "\n",
    "**Analyse:**\n",
    "De richting van beide trends is consistent met het narratief dat elektrificatie bijdraagt aan emissiereductie, een argument dat aansluit bij Perspectief 1, waarin de elektrische auto wordt gepresenteerd als motor van verandering. Echter, een nadere blik op de helling van de curves wijst op een belangrijk spanningsveld: de groei van het EV-aandeel versnelt duidelijk sneller dan de daling in CO₂-uitstoot.\n",
    "\n",
    "**Interpretatie en relevantie:**\n",
    "Dit verschil suggereert dat de toename van elektrische voertuigen slechts gedeeltelijk doorwerkt in lagere gemiddelde uitstoot. Dit impliceert dat andere factoren – zoals de uitstoot van niet-elektrische voertuigen, de precieze methodologie van typegoedkeuringsmetingen, of de emissie-intensiteit van de gebruikte energie – een modererende rol spelen. Daarmee biedt de figuur tevens ondersteuning aan Perspectief 2, waarin elektrificatie wordt beschouwd als noodzakelijke, maar onvoldoende voorwaarde voor substantiële emissiereductie op systeemniveau."
   ]
  },
  {
   "cell_type": "code",
   "execution_count": 53,
   "id": "6e59cfe1",
   "metadata": {
    "tags": [
     "remove-input"
    ]
   },
   "outputs": [
    {
     "data": {
      "text/html": [
       "<div class=\"plot-card\"><div>                        <script type=\"text/javascript\">window.PlotlyConfig = {MathJaxConfig: 'local'};</script>\n",
       "        <script charset=\"utf-8\" src=\"https://cdn.plot.ly/plotly-3.0.1.min.js\"></script>                <div id=\"035c9404-3316-4c92-b826-0906d357e170\" class=\"plotly-graph-div\" style=\"height:100%; width:100%;\"></div>            <script type=\"text/javascript\">                window.PLOTLYENV=window.PLOTLYENV || {};                                if (document.getElementById(\"035c9404-3316-4c92-b826-0906d357e170\")) {                    Plotly.newPlot(                        \"035c9404-3316-4c92-b826-0906d357e170\",                        [{\"hovertemplate\":\"\\u003cb\\u003eAT\\u003c\\u002fb\\u003e\\u003cbr\\u003e%{x}: %{y:.2f}%\\u003cextra\\u003e\\u003c\\u002fextra\\u003e\",\"line\":{\"width\":2},\"mode\":\"lines+markers\",\"name\":\"AT\",\"x\":[\"2014\",\"2023\"],\"y\":{\"dtype\":\"f8\",\"bdata\":\"6P8lB312sj9Xqpp7n\\u002f0HQA==\"},\"type\":\"scatter\"},{\"hovertemplate\":\"\\u003cb\\u003eBE\\u003c\\u002fb\\u003e\\u003cbr\\u003e%{x}: %{y:.2f}%\\u003cextra\\u003e\\u003c\\u002fextra\\u003e\",\"line\":{\"width\":2},\"mode\":\"lines+markers\",\"name\":\"BE\",\"x\":[\"2014\",\"2023\"],\"y\":{\"dtype\":\"f8\",\"bdata\":\"ARwyGY+EpD9+7ZF2sQAIQA==\"},\"type\":\"scatter\"},{\"hovertemplate\":\"\\u003cb\\u003eBG\\u003c\\u002fb\\u003e\\u003cbr\\u003e%{x}: %{y:.2f}%\\u003cextra\\u003e\\u003c\\u002fextra\\u003e\",\"line\":{\"width\":2},\"mode\":\"lines+markers\",\"name\":\"BG\",\"x\":[\"2014\",\"2023\"],\"y\":{\"dtype\":\"f8\",\"bdata\":\"488BiWP6cz8tcRD4SWzYPw==\"},\"type\":\"scatter\"},{\"hovertemplate\":\"\\u003cb\\u003eCY\\u003c\\u002fb\\u003e\\u003cbr\\u003e%{x}: %{y:.2f}%\\u003cextra\\u003e\\u003c\\u002fextra\\u003e\",\"line\":{\"width\":2},\"mode\":\"lines+markers\",\"name\":\"CY\",\"x\":[\"2014\",\"2023\"],\"y\":{\"dtype\":\"f8\",\"bdata\":\"D2+uDUGuaT9vbJjM4GnSPw==\"},\"type\":\"scatter\"},{\"hovertemplate\":\"\\u003cb\\u003eCZ\\u003c\\u002fb\\u003e\\u003cbr\\u003e%{x}: %{y:.2f}%\\u003cextra\\u003e\\u003c\\u002fextra\\u003e\",\"line\":{\"width\":2},\"mode\":\"lines+markers\",\"name\":\"CZ\",\"x\":[\"2014\",\"2023\"],\"y\":{\"dtype\":\"f8\",\"bdata\":\"3wWpZkqrgT9WtYceaw3WPw==\"},\"type\":\"scatter\"},{\"hovertemplate\":\"\\u003cb\\u003eDE\\u003c\\u002fb\\u003e\\u003cbr\\u003e%{x}: %{y:.2f}%\\u003cextra\\u003e\\u003c\\u002fextra\\u003e\",\"line\":{\"width\":2},\"mode\":\"lines+markers\",\"name\":\"DE\",\"x\":[\"2014\",\"2023\"],\"y\":{\"dtype\":\"f8\",\"bdata\":\"xUvM147opT9yeKCx4PMGQA==\"},\"type\":\"scatter\"},{\"hovertemplate\":\"\\u003cb\\u003eDK\\u003c\\u002fb\\u003e\\u003cbr\\u003e%{x}: %{y:.2f}%\\u003cextra\\u003e\\u003c\\u002fextra\\u003e\",\"line\":{\"width\":2},\"mode\":\"lines+markers\",\"name\":\"DK\",\"x\":[\"2014\",\"2023\"],\"y\":{\"dtype\":\"f8\",\"bdata\":\"qiP\\u002fwgEYwD+j5qmOKU4cQA==\"},\"type\":\"scatter\"},{\"hovertemplate\":\"\\u003cb\\u003eEE\\u003c\\u002fb\\u003e\\u003cbr\\u003e%{x}: %{y:.2f}%\\u003cextra\\u003e\\u003c\\u002fextra\\u003e\",\"line\":{\"width\":2},\"mode\":\"lines+markers\",\"name\":\"EE\",\"x\":[\"2014\",\"2023\"],\"y\":{\"dtype\":\"f8\",\"bdata\":\"43mS8LDqxD+rbU5tNmzlPw==\"},\"type\":\"scatter\"},{\"hovertemplate\":\"\\u003cb\\u003eEL\\u003c\\u002fb\\u003e\\u003cbr\\u003e%{x}: %{y:.2f}%\\u003cextra\\u003e\\u003c\\u002fextra\\u003e\",\"line\":{\"width\":2},\"mode\":\"lines+markers\",\"name\":\"EL\",\"x\":[\"2014\",\"2023\"],\"y\":{\"dtype\":\"f8\",\"bdata\":\"QB3AYvfZTD+lZBKjgdHKPw==\"},\"type\":\"scatter\"},{\"hovertemplate\":\"\\u003cb\\u003eES\\u003c\\u002fb\\u003e\\u003cbr\\u003e%{x}: %{y:.2f}%\\u003cextra\\u003e\\u003c\\u002fextra\\u003e\",\"line\":{\"width\":2},\"mode\":\"lines+markers\",\"name\":\"ES\",\"x\":[\"2014\",\"2023\"],\"y\":{\"dtype\":\"f8\",\"bdata\":\"VNTvnflTij+lG\\u002f24cfXhPw==\"},\"type\":\"scatter\"},{\"hovertemplate\":\"\\u003cb\\u003eEU27_2020\\u003c\\u002fb\\u003e\\u003cbr\\u003e%{x}: %{y:.2f}%\\u003cextra\\u003e\\u003c\\u002fextra\\u003e\",\"line\":{\"width\":2},\"mode\":\"lines+markers\",\"name\":\"EU27_2020\",\"x\":[\"2014\",\"2023\"],\"y\":{\"dtype\":\"f8\",\"bdata\":\"9Pwf5PpooT9PVNuJXLT7Pw==\"},\"type\":\"scatter\"},{\"hovertemplate\":\"\\u003cb\\u003eFI\\u003c\\u002fb\\u003e\\u003cbr\\u003e%{x}: %{y:.2f}%\\u003cextra\\u003e\\u003c\\u002fextra\\u003e\",\"line\":{\"width\":2},\"mode\":\"lines+markers\",\"name\":\"FI\",\"x\":[\"2014\",\"2023\"],\"y\":{\"dtype\":\"f8\",\"bdata\":\"LUKzSJLqiD+i6U0WbIECQA==\"},\"type\":\"scatter\"},{\"hovertemplate\":\"\\u003cb\\u003eFR\\u003c\\u002fb\\u003e\\u003cbr\\u003e%{x}: %{y:.2f}%\\u003cextra\\u003e\\u003c\\u002fextra\\u003e\",\"line\":{\"width\":2},\"mode\":\"lines+markers\",\"name\":\"FR\",\"x\":[\"2014\",\"2023\"],\"y\":{\"dtype\":\"f8\",\"bdata\":\"g+Nu6Ykgsj\\u002fTjO3GTLEBQA==\"},\"type\":\"scatter\"},{\"hovertemplate\":\"\\u003cb\\u003eHR\\u003c\\u002fb\\u003e\\u003cbr\\u003e%{x}: %{y:.2f}%\\u003cextra\\u003e\\u003c\\u002fextra\\u003e\",\"line\":{\"width\":2},\"mode\":\"lines+markers\",\"name\":\"HR\",\"x\":[\"2014\",\"2023\"],\"y\":{\"dtype\":\"f8\",\"bdata\":\"D6UTQ+mqZT8G+37P8aXXPw==\"},\"type\":\"scatter\"},{\"hovertemplate\":\"\\u003cb\\u003eHU\\u003c\\u002fb\\u003e\\u003cbr\\u003e%{x}: %{y:.2f}%\\u003cextra\\u003e\\u003c\\u002fextra\\u003e\",\"line\":{\"width\":2},\"mode\":\"lines+markers\",\"name\":\"HU\",\"x\":[\"2014\",\"2023\"],\"y\":{\"dtype\":\"f8\",\"bdata\":\"28GtPbkQdz+juI5\\u002fwKLvPw==\"},\"type\":\"scatter\"},{\"hovertemplate\":\"\\u003cb\\u003eIE\\u003c\\u002fb\\u003e\\u003cbr\\u003e%{x}: %{y:.2f}%\\u003cextra\\u003e\\u003c\\u002fextra\\u003e\",\"line\":{\"width\":2},\"mode\":\"lines+markers\",\"name\":\"IE\",\"x\":[\"2014\",\"2023\"],\"y\":{\"dtype\":\"f8\",\"bdata\":\"D2RRkXFpnD9ZP8FFEsQDQA==\"},\"type\":\"scatter\"},{\"hovertemplate\":\"\\u003cb\\u003eIT\\u003c\\u002fb\\u003e\\u003cbr\\u003e%{x}: %{y:.2f}%\\u003cextra\\u003e\\u003c\\u002fextra\\u003e\",\"line\":{\"width\":2},\"mode\":\"lines+markers\",\"name\":\"IT\",\"x\":[\"2014\",\"2023\"],\"y\":{\"dtype\":\"f8\",\"bdata\":\"FzD297Txgj\\u002fBv8fFmivhPw==\"},\"type\":\"scatter\"},{\"hovertemplate\":\"\\u003cb\\u003eLT\\u003c\\u002fb\\u003e\\u003cbr\\u003e%{x}: %{y:.2f}%\\u003cextra\\u003e\\u003c\\u002fextra\\u003e\",\"line\":{\"width\":2},\"mode\":\"lines+markers\",\"name\":\"LT\",\"x\":[\"2014\",\"2023\"],\"y\":{\"dtype\":\"f8\",\"bdata\":\"EzH\\u002fHvDHdz9YDtniU3\\u002flPw==\"},\"type\":\"scatter\"},{\"hovertemplate\":\"\\u003cb\\u003eLU\\u003c\\u002fb\\u003e\\u003cbr\\u003e%{x}: %{y:.2f}%\\u003cextra\\u003e\\u003c\\u002fextra\\u003e\",\"line\":{\"width\":2},\"mode\":\"lines+markers\",\"name\":\"LU\",\"x\":[\"2014\",\"2023\"],\"y\":{\"dtype\":\"f8\",\"bdata\":\"EHj9EXj9wT94kHFWWoQUQA==\"},\"type\":\"scatter\"},{\"hovertemplate\":\"\\u003cb\\u003eLV\\u003c\\u002fb\\u003e\\u003cbr\\u003e%{x}: %{y:.2f}%\\u003cextra\\u003e\\u003c\\u002fextra\\u003e\",\"line\":{\"width\":2},\"mode\":\"lines+markers\",\"name\":\"LV\",\"x\":[\"2014\",\"2023\"],\"y\":{\"dtype\":\"f8\",\"bdata\":\"+JydAB5EnT+6iOMTnxLqPw==\"},\"type\":\"scatter\"},{\"hovertemplate\":\"\\u003cb\\u003eMT\\u003c\\u002fb\\u003e\\u003cbr\\u003e%{x}: %{y:.2f}%\\u003cextra\\u003e\\u003c\\u002fextra\\u003e\",\"line\":{\"width\":2},\"mode\":\"lines+markers\",\"name\":\"MT\",\"x\":[\"2014\",\"2023\"],\"y\":{\"dtype\":\"f8\",\"bdata\":\"a5RsUL+\\u002foD\\u002fG61Oxeo\\u002f1Pw==\"},\"type\":\"scatter\"},{\"hovertemplate\":\"\\u003cb\\u003eNL\\u003c\\u002fb\\u003e\\u003cbr\\u003e%{x}: %{y:.2f}%\\u003cextra\\u003e\\u003c\\u002fextra\\u003e\",\"line\":{\"width\":2},\"mode\":\"lines+markers\",\"name\":\"NL\",\"x\":[\"2014\",\"2023\"],\"y\":{\"dtype\":\"f8\",\"bdata\":\"M+4nYbLltT9BG3\\u002fgvZ0TQA==\"},\"type\":\"scatter\"},{\"hovertemplate\":\"\\u003cb\\u003ePL\\u003c\\u002fb\\u003e\\u003cbr\\u003e%{x}: %{y:.2f}%\\u003cextra\\u003e\\u003c\\u002fextra\\u003e\",\"line\":{\"width\":2},\"mode\":\"lines+markers\",\"name\":\"PL\",\"x\":[\"2014\",\"2023\"],\"y\":{\"dtype\":\"f8\",\"bdata\":\"A5CHvQsQST\\u002f2P1AEtCnOPw==\"},\"type\":\"scatter\"},{\"hovertemplate\":\"\\u003cb\\u003ePT\\u003c\\u002fb\\u003e\\u003cbr\\u003e%{x}: %{y:.2f}%\\u003cextra\\u003e\\u003c\\u002fextra\\u003e\",\"line\":{\"width\":2},\"mode\":\"lines+markers\",\"name\":\"PT\",\"x\":[\"2014\",\"2023\"],\"y\":{\"dtype\":\"f8\",\"bdata\":\"XDlK5sRIjT9TbVjlfEb+Pw==\"},\"type\":\"scatter\"},{\"hovertemplate\":\"\\u003cb\\u003eRO\\u003c\\u002fb\\u003e\\u003cbr\\u003e%{x}: %{y:.2f}%\\u003cextra\\u003e\\u003c\\u002fextra\\u003e\",\"line\":{\"width\":2},\"mode\":\"lines+markers\",\"name\":\"RO\",\"x\":[\"2014\",\"2023\"],\"y\":{\"dtype\":\"f8\",\"bdata\":\"50B97AWOrD\\u002fGwEVu+ADfPw==\"},\"type\":\"scatter\"},{\"hovertemplate\":\"\\u003cb\\u003eSE\\u003c\\u002fb\\u003e\\u003cbr\\u003e%{x}: %{y:.2f}%\\u003cextra\\u003e\\u003c\\u002fextra\\u003e\",\"line\":{\"width\":2},\"mode\":\"lines+markers\",\"name\":\"SE\",\"x\":[\"2014\",\"2023\"],\"y\":{\"dtype\":\"f8\",\"bdata\":\"dgV0NoRBqD\\u002fRsNce1XEXQA==\"},\"type\":\"scatter\"},{\"hovertemplate\":\"\\u003cb\\u003eSI\\u003c\\u002fb\\u003e\\u003cbr\\u003e%{x}: %{y:.2f}%\\u003cextra\\u003e\\u003c\\u002fextra\\u003e\",\"line\":{\"width\":2},\"mode\":\"lines+markers\",\"name\":\"SI\",\"x\":[\"2014\",\"2023\"],\"y\":{\"dtype\":\"f8\",\"bdata\":\"8muEp9d+iT\\u002fLLSUBk5HwPw==\"},\"type\":\"scatter\"},{\"hovertemplate\":\"\\u003cb\\u003eSK\\u003c\\u002fb\\u003e\\u003cbr\\u003e%{x}: %{y:.2f}%\\u003cextra\\u003e\\u003c\\u002fextra\\u003e\",\"line\":{\"width\":2},\"mode\":\"lines+markers\",\"name\":\"SK\",\"x\":[\"2014\",\"2023\"],\"y\":{\"dtype\":\"f8\",\"bdata\":\"Z2p3VCu\\u002fdz9R0VRZORzTPw==\"},\"type\":\"scatter\"}],                        {\"template\":{\"data\":{\"histogram2dcontour\":[{\"type\":\"histogram2dcontour\",\"colorbar\":{\"outlinewidth\":0,\"ticks\":\"\"},\"colorscale\":[[0.0,\"#0d0887\"],[0.1111111111111111,\"#46039f\"],[0.2222222222222222,\"#7201a8\"],[0.3333333333333333,\"#9c179e\"],[0.4444444444444444,\"#bd3786\"],[0.5555555555555556,\"#d8576b\"],[0.6666666666666666,\"#ed7953\"],[0.7777777777777778,\"#fb9f3a\"],[0.8888888888888888,\"#fdca26\"],[1.0,\"#f0f921\"]]}],\"choropleth\":[{\"type\":\"choropleth\",\"colorbar\":{\"outlinewidth\":0,\"ticks\":\"\"}}],\"histogram2d\":[{\"type\":\"histogram2d\",\"colorbar\":{\"outlinewidth\":0,\"ticks\":\"\"},\"colorscale\":[[0.0,\"#0d0887\"],[0.1111111111111111,\"#46039f\"],[0.2222222222222222,\"#7201a8\"],[0.3333333333333333,\"#9c179e\"],[0.4444444444444444,\"#bd3786\"],[0.5555555555555556,\"#d8576b\"],[0.6666666666666666,\"#ed7953\"],[0.7777777777777778,\"#fb9f3a\"],[0.8888888888888888,\"#fdca26\"],[1.0,\"#f0f921\"]]}],\"heatmap\":[{\"type\":\"heatmap\",\"colorbar\":{\"outlinewidth\":0,\"ticks\":\"\"},\"colorscale\":[[0.0,\"#0d0887\"],[0.1111111111111111,\"#46039f\"],[0.2222222222222222,\"#7201a8\"],[0.3333333333333333,\"#9c179e\"],[0.4444444444444444,\"#bd3786\"],[0.5555555555555556,\"#d8576b\"],[0.6666666666666666,\"#ed7953\"],[0.7777777777777778,\"#fb9f3a\"],[0.8888888888888888,\"#fdca26\"],[1.0,\"#f0f921\"]]}],\"contourcarpet\":[{\"type\":\"contourcarpet\",\"colorbar\":{\"outlinewidth\":0,\"ticks\":\"\"}}],\"contour\":[{\"type\":\"contour\",\"colorbar\":{\"outlinewidth\":0,\"ticks\":\"\"},\"colorscale\":[[0.0,\"#0d0887\"],[0.1111111111111111,\"#46039f\"],[0.2222222222222222,\"#7201a8\"],[0.3333333333333333,\"#9c179e\"],[0.4444444444444444,\"#bd3786\"],[0.5555555555555556,\"#d8576b\"],[0.6666666666666666,\"#ed7953\"],[0.7777777777777778,\"#fb9f3a\"],[0.8888888888888888,\"#fdca26\"],[1.0,\"#f0f921\"]]}],\"surface\":[{\"type\":\"surface\",\"colorbar\":{\"outlinewidth\":0,\"ticks\":\"\"},\"colorscale\":[[0.0,\"#0d0887\"],[0.1111111111111111,\"#46039f\"],[0.2222222222222222,\"#7201a8\"],[0.3333333333333333,\"#9c179e\"],[0.4444444444444444,\"#bd3786\"],[0.5555555555555556,\"#d8576b\"],[0.6666666666666666,\"#ed7953\"],[0.7777777777777778,\"#fb9f3a\"],[0.8888888888888888,\"#fdca26\"],[1.0,\"#f0f921\"]]}],\"mesh3d\":[{\"type\":\"mesh3d\",\"colorbar\":{\"outlinewidth\":0,\"ticks\":\"\"}}],\"scatter\":[{\"fillpattern\":{\"fillmode\":\"overlay\",\"size\":10,\"solidity\":0.2},\"type\":\"scatter\"}],\"parcoords\":[{\"type\":\"parcoords\",\"line\":{\"colorbar\":{\"outlinewidth\":0,\"ticks\":\"\"}}}],\"scatterpolargl\":[{\"type\":\"scatterpolargl\",\"marker\":{\"colorbar\":{\"outlinewidth\":0,\"ticks\":\"\"}}}],\"bar\":[{\"error_x\":{\"color\":\"#2a3f5f\"},\"error_y\":{\"color\":\"#2a3f5f\"},\"marker\":{\"line\":{\"color\":\"#E5ECF6\",\"width\":0.5},\"pattern\":{\"fillmode\":\"overlay\",\"size\":10,\"solidity\":0.2}},\"type\":\"bar\"}],\"scattergeo\":[{\"type\":\"scattergeo\",\"marker\":{\"colorbar\":{\"outlinewidth\":0,\"ticks\":\"\"}}}],\"scatterpolar\":[{\"type\":\"scatterpolar\",\"marker\":{\"colorbar\":{\"outlinewidth\":0,\"ticks\":\"\"}}}],\"histogram\":[{\"marker\":{\"pattern\":{\"fillmode\":\"overlay\",\"size\":10,\"solidity\":0.2}},\"type\":\"histogram\"}],\"scattergl\":[{\"type\":\"scattergl\",\"marker\":{\"colorbar\":{\"outlinewidth\":0,\"ticks\":\"\"}}}],\"scatter3d\":[{\"type\":\"scatter3d\",\"line\":{\"colorbar\":{\"outlinewidth\":0,\"ticks\":\"\"}},\"marker\":{\"colorbar\":{\"outlinewidth\":0,\"ticks\":\"\"}}}],\"scattermap\":[{\"type\":\"scattermap\",\"marker\":{\"colorbar\":{\"outlinewidth\":0,\"ticks\":\"\"}}}],\"scattermapbox\":[{\"type\":\"scattermapbox\",\"marker\":{\"colorbar\":{\"outlinewidth\":0,\"ticks\":\"\"}}}],\"scatterternary\":[{\"type\":\"scatterternary\",\"marker\":{\"colorbar\":{\"outlinewidth\":0,\"ticks\":\"\"}}}],\"scattercarpet\":[{\"type\":\"scattercarpet\",\"marker\":{\"colorbar\":{\"outlinewidth\":0,\"ticks\":\"\"}}}],\"carpet\":[{\"aaxis\":{\"endlinecolor\":\"#2a3f5f\",\"gridcolor\":\"white\",\"linecolor\":\"white\",\"minorgridcolor\":\"white\",\"startlinecolor\":\"#2a3f5f\"},\"baxis\":{\"endlinecolor\":\"#2a3f5f\",\"gridcolor\":\"white\",\"linecolor\":\"white\",\"minorgridcolor\":\"white\",\"startlinecolor\":\"#2a3f5f\"},\"type\":\"carpet\"}],\"table\":[{\"cells\":{\"fill\":{\"color\":\"#EBF0F8\"},\"line\":{\"color\":\"white\"}},\"header\":{\"fill\":{\"color\":\"#C8D4E3\"},\"line\":{\"color\":\"white\"}},\"type\":\"table\"}],\"barpolar\":[{\"marker\":{\"line\":{\"color\":\"#E5ECF6\",\"width\":0.5},\"pattern\":{\"fillmode\":\"overlay\",\"size\":10,\"solidity\":0.2}},\"type\":\"barpolar\"}],\"pie\":[{\"automargin\":true,\"type\":\"pie\"}]},\"layout\":{\"autotypenumbers\":\"strict\",\"colorway\":[\"#636efa\",\"#EF553B\",\"#00cc96\",\"#ab63fa\",\"#FFA15A\",\"#19d3f3\",\"#FF6692\",\"#B6E880\",\"#FF97FF\",\"#FECB52\"],\"font\":{\"color\":\"#2a3f5f\"},\"hovermode\":\"closest\",\"hoverlabel\":{\"align\":\"left\"},\"paper_bgcolor\":\"white\",\"plot_bgcolor\":\"#E5ECF6\",\"polar\":{\"bgcolor\":\"#E5ECF6\",\"angularaxis\":{\"gridcolor\":\"white\",\"linecolor\":\"white\",\"ticks\":\"\"},\"radialaxis\":{\"gridcolor\":\"white\",\"linecolor\":\"white\",\"ticks\":\"\"}},\"ternary\":{\"bgcolor\":\"#E5ECF6\",\"aaxis\":{\"gridcolor\":\"white\",\"linecolor\":\"white\",\"ticks\":\"\"},\"baxis\":{\"gridcolor\":\"white\",\"linecolor\":\"white\",\"ticks\":\"\"},\"caxis\":{\"gridcolor\":\"white\",\"linecolor\":\"white\",\"ticks\":\"\"}},\"coloraxis\":{\"colorbar\":{\"outlinewidth\":0,\"ticks\":\"\"}},\"colorscale\":{\"sequential\":[[0.0,\"#0d0887\"],[0.1111111111111111,\"#46039f\"],[0.2222222222222222,\"#7201a8\"],[0.3333333333333333,\"#9c179e\"],[0.4444444444444444,\"#bd3786\"],[0.5555555555555556,\"#d8576b\"],[0.6666666666666666,\"#ed7953\"],[0.7777777777777778,\"#fb9f3a\"],[0.8888888888888888,\"#fdca26\"],[1.0,\"#f0f921\"]],\"sequentialminus\":[[0.0,\"#0d0887\"],[0.1111111111111111,\"#46039f\"],[0.2222222222222222,\"#7201a8\"],[0.3333333333333333,\"#9c179e\"],[0.4444444444444444,\"#bd3786\"],[0.5555555555555556,\"#d8576b\"],[0.6666666666666666,\"#ed7953\"],[0.7777777777777778,\"#fb9f3a\"],[0.8888888888888888,\"#fdca26\"],[1.0,\"#f0f921\"]],\"diverging\":[[0,\"#8e0152\"],[0.1,\"#c51b7d\"],[0.2,\"#de77ae\"],[0.3,\"#f1b6da\"],[0.4,\"#fde0ef\"],[0.5,\"#f7f7f7\"],[0.6,\"#e6f5d0\"],[0.7,\"#b8e186\"],[0.8,\"#7fbc41\"],[0.9,\"#4d9221\"],[1,\"#276419\"]]},\"xaxis\":{\"gridcolor\":\"white\",\"linecolor\":\"white\",\"ticks\":\"\",\"title\":{\"standoff\":15},\"zerolinecolor\":\"white\",\"automargin\":true,\"zerolinewidth\":2},\"yaxis\":{\"gridcolor\":\"white\",\"linecolor\":\"white\",\"ticks\":\"\",\"title\":{\"standoff\":15},\"zerolinecolor\":\"white\",\"automargin\":true,\"zerolinewidth\":2},\"scene\":{\"xaxis\":{\"backgroundcolor\":\"#E5ECF6\",\"gridcolor\":\"white\",\"linecolor\":\"white\",\"showbackground\":true,\"ticks\":\"\",\"zerolinecolor\":\"white\",\"gridwidth\":2},\"yaxis\":{\"backgroundcolor\":\"#E5ECF6\",\"gridcolor\":\"white\",\"linecolor\":\"white\",\"showbackground\":true,\"ticks\":\"\",\"zerolinecolor\":\"white\",\"gridwidth\":2},\"zaxis\":{\"backgroundcolor\":\"#E5ECF6\",\"gridcolor\":\"white\",\"linecolor\":\"white\",\"showbackground\":true,\"ticks\":\"\",\"zerolinecolor\":\"white\",\"gridwidth\":2}},\"shapedefaults\":{\"line\":{\"color\":\"#2a3f5f\"}},\"annotationdefaults\":{\"arrowcolor\":\"#2a3f5f\",\"arrowhead\":0,\"arrowwidth\":1},\"geo\":{\"bgcolor\":\"white\",\"landcolor\":\"#E5ECF6\",\"subunitcolor\":\"white\",\"showland\":true,\"showlakes\":true,\"lakecolor\":\"white\"},\"title\":{\"x\":0.05},\"mapbox\":{\"style\":\"light\"}}},\"xaxis\":{\"title\":{\"text\":\"Jaar\"},\"type\":\"category\"},\"margin\":{\"l\":60,\"r\":40,\"t\":70,\"b\":60},\"title\":{\"text\":\"EV-adoptie per land: 2014 \\u2192 2023\"},\"yaxis\":{\"title\":{\"text\":\"EV-aandeel (%)\"}},\"hovermode\":\"closest\",\"autosize\":true,\"updatemenus\":[{\"buttons\":[{\"args\":[{\"visible\":[true,true,true,true,true,true,true,true,true,true,true,true,true,true,true,true,true,true,true,true,true,true,true,true,true,true,true,true]},{\"title\":\"EV-adoptie per land: 2014 \\u2192 2023\"}],\"label\":\"Alle landen\",\"method\":\"update\"},{\"args\":[{\"visible\":[true,false,false,false,false,false,false,false,false,false,false,false,false,false,false,false,false,false,false,false,false,false,false,false,false,false,false,false]},{\"title\":\"EV-adoptie: AT (2014 \\u2192 2023)\"}],\"label\":\"AT\",\"method\":\"update\"},{\"args\":[{\"visible\":[false,true,false,false,false,false,false,false,false,false,false,false,false,false,false,false,false,false,false,false,false,false,false,false,false,false,false,false]},{\"title\":\"EV-adoptie: BE (2014 \\u2192 2023)\"}],\"label\":\"BE\",\"method\":\"update\"},{\"args\":[{\"visible\":[false,false,true,false,false,false,false,false,false,false,false,false,false,false,false,false,false,false,false,false,false,false,false,false,false,false,false,false]},{\"title\":\"EV-adoptie: BG (2014 \\u2192 2023)\"}],\"label\":\"BG\",\"method\":\"update\"},{\"args\":[{\"visible\":[false,false,false,true,false,false,false,false,false,false,false,false,false,false,false,false,false,false,false,false,false,false,false,false,false,false,false,false]},{\"title\":\"EV-adoptie: CY (2014 \\u2192 2023)\"}],\"label\":\"CY\",\"method\":\"update\"},{\"args\":[{\"visible\":[false,false,false,false,true,false,false,false,false,false,false,false,false,false,false,false,false,false,false,false,false,false,false,false,false,false,false,false]},{\"title\":\"EV-adoptie: CZ (2014 \\u2192 2023)\"}],\"label\":\"CZ\",\"method\":\"update\"},{\"args\":[{\"visible\":[false,false,false,false,false,true,false,false,false,false,false,false,false,false,false,false,false,false,false,false,false,false,false,false,false,false,false,false]},{\"title\":\"EV-adoptie: DE (2014 \\u2192 2023)\"}],\"label\":\"DE\",\"method\":\"update\"},{\"args\":[{\"visible\":[false,false,false,false,false,false,true,false,false,false,false,false,false,false,false,false,false,false,false,false,false,false,false,false,false,false,false,false]},{\"title\":\"EV-adoptie: DK (2014 \\u2192 2023)\"}],\"label\":\"DK\",\"method\":\"update\"},{\"args\":[{\"visible\":[false,false,false,false,false,false,false,true,false,false,false,false,false,false,false,false,false,false,false,false,false,false,false,false,false,false,false,false]},{\"title\":\"EV-adoptie: EE (2014 \\u2192 2023)\"}],\"label\":\"EE\",\"method\":\"update\"},{\"args\":[{\"visible\":[false,false,false,false,false,false,false,false,true,false,false,false,false,false,false,false,false,false,false,false,false,false,false,false,false,false,false,false]},{\"title\":\"EV-adoptie: EL (2014 \\u2192 2023)\"}],\"label\":\"EL\",\"method\":\"update\"},{\"args\":[{\"visible\":[false,false,false,false,false,false,false,false,false,true,false,false,false,false,false,false,false,false,false,false,false,false,false,false,false,false,false,false]},{\"title\":\"EV-adoptie: ES (2014 \\u2192 2023)\"}],\"label\":\"ES\",\"method\":\"update\"},{\"args\":[{\"visible\":[false,false,false,false,false,false,false,false,false,false,true,false,false,false,false,false,false,false,false,false,false,false,false,false,false,false,false,false]},{\"title\":\"EV-adoptie: EU27_2020 (2014 \\u2192 2023)\"}],\"label\":\"EU27_2020\",\"method\":\"update\"},{\"args\":[{\"visible\":[false,false,false,false,false,false,false,false,false,false,false,true,false,false,false,false,false,false,false,false,false,false,false,false,false,false,false,false]},{\"title\":\"EV-adoptie: FI (2014 \\u2192 2023)\"}],\"label\":\"FI\",\"method\":\"update\"},{\"args\":[{\"visible\":[false,false,false,false,false,false,false,false,false,false,false,false,true,false,false,false,false,false,false,false,false,false,false,false,false,false,false,false]},{\"title\":\"EV-adoptie: FR (2014 \\u2192 2023)\"}],\"label\":\"FR\",\"method\":\"update\"},{\"args\":[{\"visible\":[false,false,false,false,false,false,false,false,false,false,false,false,false,true,false,false,false,false,false,false,false,false,false,false,false,false,false,false]},{\"title\":\"EV-adoptie: HR (2014 \\u2192 2023)\"}],\"label\":\"HR\",\"method\":\"update\"},{\"args\":[{\"visible\":[false,false,false,false,false,false,false,false,false,false,false,false,false,false,true,false,false,false,false,false,false,false,false,false,false,false,false,false]},{\"title\":\"EV-adoptie: HU (2014 \\u2192 2023)\"}],\"label\":\"HU\",\"method\":\"update\"},{\"args\":[{\"visible\":[false,false,false,false,false,false,false,false,false,false,false,false,false,false,false,true,false,false,false,false,false,false,false,false,false,false,false,false]},{\"title\":\"EV-adoptie: IE (2014 \\u2192 2023)\"}],\"label\":\"IE\",\"method\":\"update\"},{\"args\":[{\"visible\":[false,false,false,false,false,false,false,false,false,false,false,false,false,false,false,false,true,false,false,false,false,false,false,false,false,false,false,false]},{\"title\":\"EV-adoptie: IT (2014 \\u2192 2023)\"}],\"label\":\"IT\",\"method\":\"update\"},{\"args\":[{\"visible\":[false,false,false,false,false,false,false,false,false,false,false,false,false,false,false,false,false,true,false,false,false,false,false,false,false,false,false,false]},{\"title\":\"EV-adoptie: LT (2014 \\u2192 2023)\"}],\"label\":\"LT\",\"method\":\"update\"},{\"args\":[{\"visible\":[false,false,false,false,false,false,false,false,false,false,false,false,false,false,false,false,false,false,true,false,false,false,false,false,false,false,false,false]},{\"title\":\"EV-adoptie: LU (2014 \\u2192 2023)\"}],\"label\":\"LU\",\"method\":\"update\"},{\"args\":[{\"visible\":[false,false,false,false,false,false,false,false,false,false,false,false,false,false,false,false,false,false,false,true,false,false,false,false,false,false,false,false]},{\"title\":\"EV-adoptie: LV (2014 \\u2192 2023)\"}],\"label\":\"LV\",\"method\":\"update\"},{\"args\":[{\"visible\":[false,false,false,false,false,false,false,false,false,false,false,false,false,false,false,false,false,false,false,false,true,false,false,false,false,false,false,false]},{\"title\":\"EV-adoptie: MT (2014 \\u2192 2023)\"}],\"label\":\"MT\",\"method\":\"update\"},{\"args\":[{\"visible\":[false,false,false,false,false,false,false,false,false,false,false,false,false,false,false,false,false,false,false,false,false,true,false,false,false,false,false,false]},{\"title\":\"EV-adoptie: NL (2014 \\u2192 2023)\"}],\"label\":\"NL\",\"method\":\"update\"},{\"args\":[{\"visible\":[false,false,false,false,false,false,false,false,false,false,false,false,false,false,false,false,false,false,false,false,false,false,true,false,false,false,false,false]},{\"title\":\"EV-adoptie: PL (2014 \\u2192 2023)\"}],\"label\":\"PL\",\"method\":\"update\"},{\"args\":[{\"visible\":[false,false,false,false,false,false,false,false,false,false,false,false,false,false,false,false,false,false,false,false,false,false,false,true,false,false,false,false]},{\"title\":\"EV-adoptie: PT (2014 \\u2192 2023)\"}],\"label\":\"PT\",\"method\":\"update\"},{\"args\":[{\"visible\":[false,false,false,false,false,false,false,false,false,false,false,false,false,false,false,false,false,false,false,false,false,false,false,false,true,false,false,false]},{\"title\":\"EV-adoptie: RO (2014 \\u2192 2023)\"}],\"label\":\"RO\",\"method\":\"update\"},{\"args\":[{\"visible\":[false,false,false,false,false,false,false,false,false,false,false,false,false,false,false,false,false,false,false,false,false,false,false,false,false,true,false,false]},{\"title\":\"EV-adoptie: SE (2014 \\u2192 2023)\"}],\"label\":\"SE\",\"method\":\"update\"},{\"args\":[{\"visible\":[false,false,false,false,false,false,false,false,false,false,false,false,false,false,false,false,false,false,false,false,false,false,false,false,false,false,true,false]},{\"title\":\"EV-adoptie: SI (2014 \\u2192 2023)\"}],\"label\":\"SI\",\"method\":\"update\"},{\"args\":[{\"visible\":[false,false,false,false,false,false,false,false,false,false,false,false,false,false,false,false,false,false,false,false,false,false,false,false,false,false,false,true]},{\"title\":\"EV-adoptie: SK (2014 \\u2192 2023)\"}],\"label\":\"SK\",\"method\":\"update\"}],\"direction\":\"down\",\"showactive\":true,\"x\":1.05,\"y\":1.15}],\"paper_bgcolor\":\"#FDEDDD\",\"plot_bgcolor\":\"#FDEDDD\"},                        {\"responsive\": true}                    )                };            </script>        </div></div>"
      ],
      "text/plain": [
       "<IPython.core.display.HTML object>"
      ]
     },
     "metadata": {},
     "output_type": "display_data"
    }
   ],
   "source": [
    "# ---------- Figuur 2 (interactief, responsive kaartje) ----------\n",
    "import plotly.graph_objects as go\n",
    "\n",
    "# 1. Selecteer eerste en laatste jaar in de dataset\n",
    "min_year, max_year = int(df[\"year\"].min()), int(df[\"year\"].max())\n",
    "\n",
    "# 2. Maak tweejaren-subset en zorg dat elk land in beide jaren zit\n",
    "df_slope = (\n",
    "    df[df[\"year\"].isin([min_year, max_year])]\n",
    "      .loc[:, [\"geo\", \"year\", \"evShare\"]]\n",
    "      .rename(columns={\"evShare\": \"EV_SHARE\"})\n",
    ")\n",
    "valid_geo = (\n",
    "    df_slope.groupby(\"geo\")[\"year\"]\n",
    "            .nunique()\n",
    "            .pipe(lambda s: s[s == 2].index)\n",
    ")\n",
    "df_slope = df_slope[df_slope[\"geo\"].isin(valid_geo)]\n",
    "\n",
    "# 3. Sorteer zodat hoogste EV-aandelen bovenaan staan\n",
    "df_slope = df_slope.sort_values([\"year\", \"EV_SHARE\"])\n",
    "\n",
    "# 4. Plot lijnen\n",
    "fig2 = go.Figure()\n",
    "for country, grp in df_slope.groupby(\"geo\"):\n",
    "    y_vals = grp.sort_values(\"year\")[\"EV_SHARE\"].values\n",
    "    fig2.add_trace(\n",
    "        go.Scatter(\n",
    "            x=[str(min_year), str(max_year)],\n",
    "            y=y_vals,\n",
    "            mode=\"lines+markers\",\n",
    "            name=country,\n",
    "            hovertemplate=f\"<b>{country}</b><br>%{{x}}: %{{y:.2f}}%<extra></extra>\",\n",
    "            line=dict(width=2)\n",
    "        )\n",
    "    )\n",
    "\n",
    "# 5. Dropdown\n",
    "buttons = [{\n",
    "    \"label\": \"Alle landen\",\n",
    "    \"method\": \"update\",\n",
    "    \"args\": [{\"visible\": [True] * len(fig2.data)},\n",
    "             {\"title\": f\"EV-adoptie per land: {min_year} → {max_year}\"}]\n",
    "}]\n",
    "for i, trace in enumerate(fig2.data):\n",
    "    vis = [False] * len(fig2.data)\n",
    "    vis[i] = True\n",
    "    buttons.append({\n",
    "        \"label\": trace.name,\n",
    "        \"method\": \"update\",\n",
    "        \"args\": [{\"visible\": vis},\n",
    "                 {\"title\": f\"EV-adoptie: {trace.name} ({min_year} → {max_year})\"}]\n",
    "    })\n",
    "\n",
    "# 6. Lay-out – géén vaste width/height, wel autosize\n",
    "fig2.update_layout(\n",
    "    title=f\"EV-adoptie per land: {min_year} → {max_year}\",\n",
    "    xaxis_title=\"Jaar\",\n",
    "    yaxis_title=\"EV-aandeel (%)\",\n",
    "    xaxis=dict(type=\"category\"),\n",
    "    template=\"plotly\",\n",
    "    hovermode=\"closest\",\n",
    "    autosize=True,\n",
    "    margin=dict(l=60, r=40, t=70, b=60),\n",
    "    updatemenus=[{\n",
    "        \"buttons\": buttons,\n",
    "        \"direction\": \"down\",\n",
    "        \"showactive\": True,\n",
    "        \"x\": 1.05,\n",
    "        \"y\": 1.15\n",
    "    }]\n",
    ")\n",
    "\n",
    "fig2.show()          # patch toont ’m als responsive kaart\n"
   ]
  },
  {
   "cell_type": "markdown",
   "id": "22a27689",
   "metadata": {},
   "source": [
    "Via de dropdown of legenda kan een specifiek land worden geselecteerd om individuele trends in elektrificatie te analyseren. (EU27_2020 is het gemiddelde van 27 landen)\n",
    "\n",
    "Belangrijkste bevindingen:\n",
    "\n",
    "1. De Scandinavische landen – Denemarken, Zweden en met name Noorwegen – laten een duidelijke en consistente toename zien in het aandeel elektrische voertuigen.\n",
    "2. In tegenstelling daarmee blijven landen in Zuid- en Oost-Europa, zoals Bulgarije, Roemenië en Griekenland, gedurende de onderzochte periode vrijwel stabiel, met slechts minimale vooruitgang.\n",
    "3. Het EU-gemiddelde suggereert een geleidelijke stijging, maar maskeert daarmee de aanzienlijke variatie tussen lidstaten.\n",
    "\n",
    "Interpretatie en relevantie:\n",
    "De uiteenlopende nationale trends wijzen op structurele verschillen in overheidsbeleid, stimuleringsmaatregelen, economische draagkracht en laadnetwerkinfrastructuur. Deze spreiding vormt een belangrijk aanknopingspunt voor Perspectief 2"
   ]
  },
  {
   "cell_type": "code",
   "execution_count": 54,
   "id": "a46bf15d",
   "metadata": {
    "tags": [
     "remove-input"
    ]
   },
   "outputs": [
    {
     "data": {
      "text/html": [
       "<div class=\"plot-card\"><div>                        <script type=\"text/javascript\">window.PlotlyConfig = {MathJaxConfig: 'local'};</script>\n",
       "        <script charset=\"utf-8\" src=\"https://cdn.plot.ly/plotly-3.0.1.min.js\"></script>                <div id=\"3753d5fa-922b-4c22-9709-edd77eed1647\" class=\"plotly-graph-div\" style=\"height:100%; width:100%;\"></div>            <script type=\"text/javascript\">                window.PLOTLYENV=window.PLOTLYENV || {};                                if (document.getElementById(\"3753d5fa-922b-4c22-9709-edd77eed1647\")) {                    Plotly.newPlot(                        \"3753d5fa-922b-4c22-9709-edd77eed1647\",                        [{\"hovertemplate\":\"Toename EV-aandeel (procentpunten)=%{x}\\u003cbr\\u003eDaling CO\\u2082 (g\\u002fkm)=%{y}\\u003cbr\\u003eLand=%{text}\\u003cextra\\u003e\\u003c\\u002fextra\\u003e\",\"legendgroup\":\"\",\"marker\":{\"color\":\"#636efa\",\"symbol\":\"circle\",\"line\":{\"color\":\"DarkSlateGrey\",\"width\":0.5},\"size\":10},\"mode\":\"markers+text\",\"name\":\"\",\"orientation\":\"v\",\"showlegend\":false,\"text\":[\"AT\",\"BE\",\"BG\",\"CY\",\"CZ\",\"DE\",\"DK\",\"EE\",\"EL\",\"ES\",\"EU27_2020\",\"FI\",\"FR\",\"HR\",\"HU\",\"IE\",\"IT\",\"LT\",\"LU\",\"LV\",\"MT\",\"NL\",\"PL\",\"PT\",\"RO\",\"SE\",\"SI\",\"SK\"],\"x\":{\"dtype\":\"f8\",\"bdata\":\"WHphk+tpB0AOJS06n64HQO1p7GlgHNg\\u002fkQ99SoQ20j8nbVLLEIDVP0NHQXY+nAZAhu2RgGnNG0AyzykxijHgP4ikr6untMo\\u002fVFyF0iGM4T9nVLqyFCn7P2A2BYSBaAJAtxWid0ggAUC80\\u002fj8m3rXPx9dEw2fdO8\\u002fkZyeYj+LA0AB5+fx09\\u002fgP\\u002fYPmwLET+U\\u002fuKThlW70E0DSm94jfijpPyOH0LZ8CfU\\u002fiHv6FidGE0BmuJL4oxDOP+DYi1vrC\\u002f4\\u002fqRi2sDdv2z\\u002fGyGoWUkEXQPMk1lGVXvA\\u002fp\\u002fMCrDy90j8=\"},\"xaxis\":\"x\",\"y\":{\"dtype\":\"f8\",\"bdata\":\"aGZmZmZmOEAAAAAAAABCQAAAAAAAABpAIAAAAAAADECgmZmZmZkRwAAAAAAAgDNANDMzMzOzQkBAMzMzMzMZQAAAAAAAABLAgJmZmZmZ8T8AAAAAAAAvQAAAAAAAoFBAaGZmZmZmMUCYmZmZmZkmwGBmZmZmZhZAZGZmZmZmN0AAAAAAAAAAwKCZmZmZmRdAnJmZmZkZOECgmZmZmZkgQAAAAAAAADhAzMzMzMyMQEAAnJmZmZnJPwAAAAAAADNA+P\\u002f\\u002f\\u002f\\u002f\\u002f\\u002fJ0AAAAAAAIBRQGBmZmZmZgLAwJmZmZmZCcA=\"},\"yaxis\":\"y\",\"type\":\"scatter\"},{\"hoverinfo\":\"skip\",\"line\":{\"dash\":\"dash\",\"width\":1.5},\"mode\":\"lines\",\"name\":\"Trendline\",\"x\":{\"dtype\":\"f8\",\"bdata\":\"iKSvq6e0yj8\\u002fKq92FrbRPzqChhfZEdY\\u002fNtpduJtt2j8xMjVZXsnePxZFBn2QkuE\\u002fFPFxzXHA4z8Snd0dU+7lPw9JSW40HOg\\u002fDfW0vhVK6j8KoSAP93fsPwhNjF\\u002fYpe4\\u002fg\\u002fz719xp8D+C0jGAzYDxP4CoZyi+l\\u002fI\\u002ff36d0K6u8z9+VNN4n8X0P30qCSGQ3PU\\u002ffAA\\u002fyYDz9j961nRxcQr4P3msqhliIfk\\u002feILgwVI4+j93WBZqQ0\\u002f7P3YuTBI0Zvw\\u002fdQSCuiR9\\u002fT9z2rdiFZT+P3Kw7QoGq\\u002f8\\u002fOMORWftgAEA4rqytc+wAQDiZxwHsdwFANoTiVWQDAkA2b\\u002f2p3I4CQDZaGP5UGgNANEUzUs2lA0A0ME6mRTEEQDQbafq9vARANAaETjZIBUAy8Z6irtMFQDLcufYmXwZAMsfUSp\\u002fqBkAwsu+eF3YHQDCdCvOPAQhAMIglRwiNCEAuc0CbgBgJQC5eW+\\u002f4owlALkl2Q3EvCkAuNJGX6boKQCwfrOthRgtALArHP9rRC0As9eGTUl0MQCrg\\u002fOfK6AxAKssXPEN0DUAqtjKQu\\u002f8NQCqhTeQziw5AKIxoOKwWD0Aod4OMJKIPQBQxT3DOFhBAk6ZcmopcEEATHGrERqIQQJKRd+4C6BBAEgeFGL8tEUCSfJJCe3MRQBLyn2w3uRFAkWetlvP+EUAR3brAr0QSQJFSyOprihJAEMjVFCjQEkCQPeM+5BUTQBCz8GigWxNAkCj+klyhE0APngu9GOcTQI8TGefULBRAD4kmEZFyFECO\\u002fjM7TbgUQA50QWUJ\\u002fhRAjulOj8VDFUANX1y5gYkVQI3UaeM9zxVADUp3DfoUFkCNv4Q3tloWQAw1kmFyoBZAjKqfiy7mFkAMIK216isXQIuVut+mcRdACwvICWO3F0CLgNUzH\\u002f0XQAr24l3bQhhAimvwh5eIGEAK4f2xU84YQIpWC9wPFBlACcwYBsxZGUCJQSYwiJ8ZQAm3M1pE5RlAiCxBhAArGkAIok6uvHAaQIgXXNh4thpACI1pAjX8GkCHAncs8UEbQAd4hFathxtAhu2RgGnNG0A=\"},\"y\":{\"dtype\":\"f8\",\"bdata\":\"gGoeKozxAkCNRDaSWmQHQJoeTvoo1wtAU\\u002fwysfskEEBa6T7lYl4SQGDWShnKlxRAZ8NWTTHRFkBusGKBmAoZQHSdbrX\\u002fQxtAe4p66WZ9HUCBd4YdzrYfQEMyyaga+CBAxyjPQs4UIkBLH9XcgTEjQM0V23Y1TiRAUAzhEOlqJUDUAueqnIcmQFf57ERQpCdA2+\\u002fy3gPBKEBd5vh4t90pQOHc\\u002fhJr+ipAZNMErR4XLEDnyQpH0jMtQGvAEOGFUC5A7rYWezltL0C4Vo6K9kQwQPpRkVdQ0zBAO02UJKphMUB9SJfxA\\u002fAxQL9Dmr5dfjJA\\u002fz6di7cMM0BCOqBYEZszQIQ1oyVrKTRAxDCm8sS3NEAGLKm\\u002fHkY1QEgnrIx41DVAiyKvWdJiNkDLHbImLPE2QA0ZtfOFfzdATxS4wN8NOECPD7uNOZw4QNIKvlqTKjlAFAbBJ+24OUBUAcT0Rkc6QJb8xsGg1TpA2ffJjvpjO0Ab88xbVPI7QFvuzyiugDxAnenS9QcPPUDf5NXCYZ09QCDg2I+7Kz5AYtvbXBW6PkCk1t4pb0g\\u002fQObR4fbI1j9Ak2byYZEyQEA15HNIvnlAQNZh9S7rwEBAdt92FRgIQUAXXfj7RE9BQLfaeeJxlkFAWFj7yJ7dQUD51XyvyyRCQJtT\\u002fpX4a0JAO9F\\u002ffCWzQkDcTgFjUvpCQH3Mgkl\\u002fQUNAHUoEMKyIQ0C+x4UW2c9DQF9FB\\u002f0FF0RAAMOI4zJeRECgQArKX6VEQEK+i7CM7ERA4zsNl7kzRUCDuY595npFQCQ3EGQTwkVAxbSRSkAJRkBlMhMxbVBGQAawlBeal0ZApy0W\\u002fsbeRkBIq5fk8yVHQOgoGcsgbUdAiqaasU20R0ArJByYevtHQMuhnX6nQkhAbB8fZdSJSEANnaBLAdFIQK0aIjIuGElATpijGFtfSUDvFSX\\u002fh6ZJQJCTpuW07UlAMREozOE0SkDSjqmyDnxKQHMMK5k7w0pAE4qsf2gKS0C0By5mlVFLQFWFr0zCmEtA9gIxM+\\u002ffS0CWgLIZHCdMQDf+MwBJbkxA13u15nW1TEA=\"},\"type\":\"scatter\",\"marker\":{\"line\":{\"color\":\"DarkSlateGrey\",\"width\":0.5},\"size\":10}}],                        {\"template\":{\"data\":{\"histogram2dcontour\":[{\"type\":\"histogram2dcontour\",\"colorbar\":{\"outlinewidth\":0,\"ticks\":\"\"},\"colorscale\":[[0.0,\"#0d0887\"],[0.1111111111111111,\"#46039f\"],[0.2222222222222222,\"#7201a8\"],[0.3333333333333333,\"#9c179e\"],[0.4444444444444444,\"#bd3786\"],[0.5555555555555556,\"#d8576b\"],[0.6666666666666666,\"#ed7953\"],[0.7777777777777778,\"#fb9f3a\"],[0.8888888888888888,\"#fdca26\"],[1.0,\"#f0f921\"]]}],\"choropleth\":[{\"type\":\"choropleth\",\"colorbar\":{\"outlinewidth\":0,\"ticks\":\"\"}}],\"histogram2d\":[{\"type\":\"histogram2d\",\"colorbar\":{\"outlinewidth\":0,\"ticks\":\"\"},\"colorscale\":[[0.0,\"#0d0887\"],[0.1111111111111111,\"#46039f\"],[0.2222222222222222,\"#7201a8\"],[0.3333333333333333,\"#9c179e\"],[0.4444444444444444,\"#bd3786\"],[0.5555555555555556,\"#d8576b\"],[0.6666666666666666,\"#ed7953\"],[0.7777777777777778,\"#fb9f3a\"],[0.8888888888888888,\"#fdca26\"],[1.0,\"#f0f921\"]]}],\"heatmap\":[{\"type\":\"heatmap\",\"colorbar\":{\"outlinewidth\":0,\"ticks\":\"\"},\"colorscale\":[[0.0,\"#0d0887\"],[0.1111111111111111,\"#46039f\"],[0.2222222222222222,\"#7201a8\"],[0.3333333333333333,\"#9c179e\"],[0.4444444444444444,\"#bd3786\"],[0.5555555555555556,\"#d8576b\"],[0.6666666666666666,\"#ed7953\"],[0.7777777777777778,\"#fb9f3a\"],[0.8888888888888888,\"#fdca26\"],[1.0,\"#f0f921\"]]}],\"contourcarpet\":[{\"type\":\"contourcarpet\",\"colorbar\":{\"outlinewidth\":0,\"ticks\":\"\"}}],\"contour\":[{\"type\":\"contour\",\"colorbar\":{\"outlinewidth\":0,\"ticks\":\"\"},\"colorscale\":[[0.0,\"#0d0887\"],[0.1111111111111111,\"#46039f\"],[0.2222222222222222,\"#7201a8\"],[0.3333333333333333,\"#9c179e\"],[0.4444444444444444,\"#bd3786\"],[0.5555555555555556,\"#d8576b\"],[0.6666666666666666,\"#ed7953\"],[0.7777777777777778,\"#fb9f3a\"],[0.8888888888888888,\"#fdca26\"],[1.0,\"#f0f921\"]]}],\"surface\":[{\"type\":\"surface\",\"colorbar\":{\"outlinewidth\":0,\"ticks\":\"\"},\"colorscale\":[[0.0,\"#0d0887\"],[0.1111111111111111,\"#46039f\"],[0.2222222222222222,\"#7201a8\"],[0.3333333333333333,\"#9c179e\"],[0.4444444444444444,\"#bd3786\"],[0.5555555555555556,\"#d8576b\"],[0.6666666666666666,\"#ed7953\"],[0.7777777777777778,\"#fb9f3a\"],[0.8888888888888888,\"#fdca26\"],[1.0,\"#f0f921\"]]}],\"mesh3d\":[{\"type\":\"mesh3d\",\"colorbar\":{\"outlinewidth\":0,\"ticks\":\"\"}}],\"scatter\":[{\"fillpattern\":{\"fillmode\":\"overlay\",\"size\":10,\"solidity\":0.2},\"type\":\"scatter\"}],\"parcoords\":[{\"type\":\"parcoords\",\"line\":{\"colorbar\":{\"outlinewidth\":0,\"ticks\":\"\"}}}],\"scatterpolargl\":[{\"type\":\"scatterpolargl\",\"marker\":{\"colorbar\":{\"outlinewidth\":0,\"ticks\":\"\"}}}],\"bar\":[{\"error_x\":{\"color\":\"#2a3f5f\"},\"error_y\":{\"color\":\"#2a3f5f\"},\"marker\":{\"line\":{\"color\":\"#E5ECF6\",\"width\":0.5},\"pattern\":{\"fillmode\":\"overlay\",\"size\":10,\"solidity\":0.2}},\"type\":\"bar\"}],\"scattergeo\":[{\"type\":\"scattergeo\",\"marker\":{\"colorbar\":{\"outlinewidth\":0,\"ticks\":\"\"}}}],\"scatterpolar\":[{\"type\":\"scatterpolar\",\"marker\":{\"colorbar\":{\"outlinewidth\":0,\"ticks\":\"\"}}}],\"histogram\":[{\"marker\":{\"pattern\":{\"fillmode\":\"overlay\",\"size\":10,\"solidity\":0.2}},\"type\":\"histogram\"}],\"scattergl\":[{\"type\":\"scattergl\",\"marker\":{\"colorbar\":{\"outlinewidth\":0,\"ticks\":\"\"}}}],\"scatter3d\":[{\"type\":\"scatter3d\",\"line\":{\"colorbar\":{\"outlinewidth\":0,\"ticks\":\"\"}},\"marker\":{\"colorbar\":{\"outlinewidth\":0,\"ticks\":\"\"}}}],\"scattermap\":[{\"type\":\"scattermap\",\"marker\":{\"colorbar\":{\"outlinewidth\":0,\"ticks\":\"\"}}}],\"scattermapbox\":[{\"type\":\"scattermapbox\",\"marker\":{\"colorbar\":{\"outlinewidth\":0,\"ticks\":\"\"}}}],\"scatterternary\":[{\"type\":\"scatterternary\",\"marker\":{\"colorbar\":{\"outlinewidth\":0,\"ticks\":\"\"}}}],\"scattercarpet\":[{\"type\":\"scattercarpet\",\"marker\":{\"colorbar\":{\"outlinewidth\":0,\"ticks\":\"\"}}}],\"carpet\":[{\"aaxis\":{\"endlinecolor\":\"#2a3f5f\",\"gridcolor\":\"white\",\"linecolor\":\"white\",\"minorgridcolor\":\"white\",\"startlinecolor\":\"#2a3f5f\"},\"baxis\":{\"endlinecolor\":\"#2a3f5f\",\"gridcolor\":\"white\",\"linecolor\":\"white\",\"minorgridcolor\":\"white\",\"startlinecolor\":\"#2a3f5f\"},\"type\":\"carpet\"}],\"table\":[{\"cells\":{\"fill\":{\"color\":\"#EBF0F8\"},\"line\":{\"color\":\"white\"}},\"header\":{\"fill\":{\"color\":\"#C8D4E3\"},\"line\":{\"color\":\"white\"}},\"type\":\"table\"}],\"barpolar\":[{\"marker\":{\"line\":{\"color\":\"#E5ECF6\",\"width\":0.5},\"pattern\":{\"fillmode\":\"overlay\",\"size\":10,\"solidity\":0.2}},\"type\":\"barpolar\"}],\"pie\":[{\"automargin\":true,\"type\":\"pie\"}]},\"layout\":{\"autotypenumbers\":\"strict\",\"colorway\":[\"#636efa\",\"#EF553B\",\"#00cc96\",\"#ab63fa\",\"#FFA15A\",\"#19d3f3\",\"#FF6692\",\"#B6E880\",\"#FF97FF\",\"#FECB52\"],\"font\":{\"color\":\"#2a3f5f\"},\"hovermode\":\"closest\",\"hoverlabel\":{\"align\":\"left\"},\"paper_bgcolor\":\"white\",\"plot_bgcolor\":\"#E5ECF6\",\"polar\":{\"bgcolor\":\"#E5ECF6\",\"angularaxis\":{\"gridcolor\":\"white\",\"linecolor\":\"white\",\"ticks\":\"\"},\"radialaxis\":{\"gridcolor\":\"white\",\"linecolor\":\"white\",\"ticks\":\"\"}},\"ternary\":{\"bgcolor\":\"#E5ECF6\",\"aaxis\":{\"gridcolor\":\"white\",\"linecolor\":\"white\",\"ticks\":\"\"},\"baxis\":{\"gridcolor\":\"white\",\"linecolor\":\"white\",\"ticks\":\"\"},\"caxis\":{\"gridcolor\":\"white\",\"linecolor\":\"white\",\"ticks\":\"\"}},\"coloraxis\":{\"colorbar\":{\"outlinewidth\":0,\"ticks\":\"\"}},\"colorscale\":{\"sequential\":[[0.0,\"#0d0887\"],[0.1111111111111111,\"#46039f\"],[0.2222222222222222,\"#7201a8\"],[0.3333333333333333,\"#9c179e\"],[0.4444444444444444,\"#bd3786\"],[0.5555555555555556,\"#d8576b\"],[0.6666666666666666,\"#ed7953\"],[0.7777777777777778,\"#fb9f3a\"],[0.8888888888888888,\"#fdca26\"],[1.0,\"#f0f921\"]],\"sequentialminus\":[[0.0,\"#0d0887\"],[0.1111111111111111,\"#46039f\"],[0.2222222222222222,\"#7201a8\"],[0.3333333333333333,\"#9c179e\"],[0.4444444444444444,\"#bd3786\"],[0.5555555555555556,\"#d8576b\"],[0.6666666666666666,\"#ed7953\"],[0.7777777777777778,\"#fb9f3a\"],[0.8888888888888888,\"#fdca26\"],[1.0,\"#f0f921\"]],\"diverging\":[[0,\"#8e0152\"],[0.1,\"#c51b7d\"],[0.2,\"#de77ae\"],[0.3,\"#f1b6da\"],[0.4,\"#fde0ef\"],[0.5,\"#f7f7f7\"],[0.6,\"#e6f5d0\"],[0.7,\"#b8e186\"],[0.8,\"#7fbc41\"],[0.9,\"#4d9221\"],[1,\"#276419\"]]},\"xaxis\":{\"gridcolor\":\"white\",\"linecolor\":\"white\",\"ticks\":\"\",\"title\":{\"standoff\":15},\"zerolinecolor\":\"white\",\"automargin\":true,\"zerolinewidth\":2},\"yaxis\":{\"gridcolor\":\"white\",\"linecolor\":\"white\",\"ticks\":\"\",\"title\":{\"standoff\":15},\"zerolinecolor\":\"white\",\"automargin\":true,\"zerolinewidth\":2},\"scene\":{\"xaxis\":{\"backgroundcolor\":\"#E5ECF6\",\"gridcolor\":\"white\",\"linecolor\":\"white\",\"showbackground\":true,\"ticks\":\"\",\"zerolinecolor\":\"white\",\"gridwidth\":2},\"yaxis\":{\"backgroundcolor\":\"#E5ECF6\",\"gridcolor\":\"white\",\"linecolor\":\"white\",\"showbackground\":true,\"ticks\":\"\",\"zerolinecolor\":\"white\",\"gridwidth\":2},\"zaxis\":{\"backgroundcolor\":\"#E5ECF6\",\"gridcolor\":\"white\",\"linecolor\":\"white\",\"showbackground\":true,\"ticks\":\"\",\"zerolinecolor\":\"white\",\"gridwidth\":2}},\"shapedefaults\":{\"line\":{\"color\":\"#2a3f5f\"}},\"annotationdefaults\":{\"arrowcolor\":\"#2a3f5f\",\"arrowhead\":0,\"arrowwidth\":1},\"geo\":{\"bgcolor\":\"white\",\"landcolor\":\"#E5ECF6\",\"subunitcolor\":\"white\",\"showland\":true,\"showlakes\":true,\"lakecolor\":\"white\"},\"title\":{\"x\":0.05},\"mapbox\":{\"style\":\"light\"}}},\"xaxis\":{\"anchor\":\"y\",\"domain\":[0.0,1.0],\"title\":{\"text\":\"Toename EV-aandeel (procentpunten)\"}},\"yaxis\":{\"anchor\":\"x\",\"domain\":[0.0,1.0],\"title\":{\"text\":\"Daling CO\\u2082 (g\\u002fkm)\"}},\"legend\":{\"tracegroupgap\":0},\"margin\":{\"t\":70,\"l\":60,\"r\":40,\"b\":60},\"title\":{\"text\":\"Grotere EV-groei \\u21d2 grotere CO\\u2082-daling?  (Pearson r = 0.76)\"},\"showlegend\":false,\"autosize\":true,\"paper_bgcolor\":\"#FDEDDD\",\"plot_bgcolor\":\"#FDEDDD\"},                        {\"responsive\": true}                    )                };            </script>        </div></div>"
      ],
      "text/plain": [
       "<IPython.core.display.HTML object>"
      ]
     },
     "metadata": {},
     "output_type": "display_data"
    }
   ],
   "source": [
    "# ---------- Figuur 3 (interactief, responsive kaartje) ----------\n",
    "import plotly.express as px\n",
    "import plotly.graph_objects as go\n",
    "import numpy as np\n",
    "\n",
    "# 1. Kies eerste en laatste jaar\n",
    "min_year, max_year = START_YEAR, END_YEAR\n",
    "\n",
    "# 2. Tweejaren-subset\n",
    "chg = df[df[\"year\"].isin([min_year, max_year])].copy()\n",
    "\n",
    "# 3. Wide-form\n",
    "pivot_ev  = chg.pivot(index=\"geo\", columns=\"year\", values=\"evShare\")\n",
    "pivot_co2 = chg.pivot(index=\"geo\", columns=\"year\", values=\"co2\")\n",
    "\n",
    "# 4. Veranderingen\n",
    "delta_ev  = pivot_ev[max_year]  - pivot_ev[min_year]\n",
    "delta_co2 = pivot_co2[min_year] - pivot_co2[max_year]\n",
    "\n",
    "scatter_df = (\n",
    "    pd.DataFrame({\n",
    "        \"Δ_EV_share_pp\": delta_ev,\n",
    "        \"Δ_CO2_gkm\"   : delta_co2\n",
    "    })\n",
    "    .dropna()\n",
    "    .reset_index()\n",
    "    .rename(columns={\"geo\": \"Land\"})\n",
    ")\n",
    "\n",
    "# 5. Trendline\n",
    "m, b = np.polyfit(scatter_df[\"Δ_EV_share_pp\"], scatter_df[\"Δ_CO2_gkm\"], 1)\n",
    "x_line = np.linspace(scatter_df[\"Δ_EV_share_pp\"].min(),\n",
    "                     scatter_df[\"Δ_EV_share_pp\"].max(), 100)\n",
    "r = scatter_df[[\"Δ_EV_share_pp\", \"Δ_CO2_gkm\"]].corr().iloc[0, 1]\n",
    "\n",
    "# 6. Plot\n",
    "fig3 = px.scatter(\n",
    "    scatter_df,\n",
    "    x=\"Δ_EV_share_pp\",\n",
    "    y=\"Δ_CO2_gkm\",\n",
    "    text=\"Land\",\n",
    "    labels={\n",
    "        \"Δ_EV_share_pp\": \"Toename EV-aandeel (procentpunten)\",\n",
    "        \"Δ_CO2_gkm\": \"Daling CO₂ (g/km)\"\n",
    "    },\n",
    "    template=\"plotly\"\n",
    ")\n",
    "\n",
    "fig3.add_trace(\n",
    "    go.Scatter(\n",
    "        x=x_line,\n",
    "        y=m * x_line + b,\n",
    "        mode=\"lines\",\n",
    "        line=dict(dash=\"dash\", width=1.5),\n",
    "        name=\"Trendline\",\n",
    "        hoverinfo=\"skip\"\n",
    "    )\n",
    ")\n",
    "\n",
    "fig3.update_traces(\n",
    "    marker=dict(size=10, line=dict(width=0.5, color=\"DarkSlateGrey\"))\n",
    ")\n",
    "fig3.update_layout(\n",
    "    title=f\"Grotere EV-groei ⇒ grotere CO₂-daling?  (Pearson r = {r:.2f})\",\n",
    "    showlegend=False,\n",
    "    autosize=True,\n",
    "    margin=dict(l=60, r=40, t=70, b=60)\n",
    ")\n",
    "\n",
    "fig3.show()          # responsive kaart\n"
   ]
  },
  {
   "cell_type": "markdown",
   "id": "7f0ef6e2",
   "metadata": {},
   "source": [
    "In deze scatterplot vertegenwoordigt elk punt een afzonderlijk land. De gestippelde regressielijn geeft de best passende lineaire relatie weer tussen de toename van het aandeel elektrische voertuigen (ΔEV) en de daling in gemiddelde CO₂-uitstoot van nieuw geregistreerde auto's (ΔCO₂).\n",
    "\n",
    "De Pearson-correlatiecoëfficiënt bedraagt circa 0,76, wat wijst op een sterke en positieve samenhang tussen elektrificatie en emissiereductie op nationaal niveau.\n",
    "\n",
    "**Belangrijke nuances:**\n",
    "Hoewel de algemene trend duidelijk positief is, vertonen sommige landen aanzienlijke afwijkingen van de regressielijn. Zo zijn er landen die een sterke groei in elektrische voertuigen realiseren, maar waarbij de CO₂-uitstoot slechts beperkt daalt. Dit duidt mogelijk op een koolstofintensieve elektriciteitsmix of een relatief inefficiënt resterend wagenpark. Omgekeerd zijn er ook landen met beperkte EV-groei die toch een substantiële reductie in CO₂-emissies bereiken, mogelijk door verbeteringen in brandstofefficiëntie of snelle vervanging van oudere voertuigen.\n",
    "\n",
    "**Interpretatie en relevantie:**\n",
    "De grafiek onderstreept dat elektrificatie een belangrijke factor is in de reductie van CO₂-uitstoot, maar geen allesomvattende verklaring biedt. De uiteindelijke klimaatimpact van elektrische mobiliteit wordt mede bepaald door de koolstofintensiteit van de stroomvoorziening, de technologische efficiëntie van nieuw verkochte voertuigen en de vernieuwing van het bestaande wagenpark."
   ]
  },
  {
   "cell_type": "markdown",
   "id": "a711bc8b",
   "metadata": {},
   "source": [
    "## Wie heeft er gelijk?\n",
    "\n",
    "| | Observatie uit data | Steun voor perspectief |\n",
    "|---|---|---|\n",
    "| **EV ↘ CO₂ op EU‑niveau** | Ja, maar matige hellingshoek | 1 **en** 2 |\n",
    "| **Grote land‑tot‑land variatie** | Ja, factor > 10 in groei | **2** |\n",
    "| **Strak lineair verband ΔEV–ΔCO₂** | Ja, maar niet perfect lineair, r ≈ 0.76 | **2** (nuancerend) |\n",
    "\n",
    "### Conclusie  \n",
    "*Elektrificatie is een krachtige hefboom (Perspectief 1), maar haar effectiviteit wordt gemoduleerd door stroommix, beleid en voertuig­efficiëntie (Perspectief 2). In de huidige data lijkt een “50‑50‑verklaring” het meest realistisch: EV‑groei levert een noodzakelijke, maar niet voldoende, bijdrage aan de dalende CO₂‑trend.*\n",
    "\n",
    "### Aanbeveling  \n",
    "Versnel simultaan:  \n",
    "1. **EV‑adoptie** (aanschafsubsidies, laadinfrastructuur), én  \n",
    "2. **Verduurzaming van elektriciteit** + **strengere efficiëntienormen**.  \n",
    "\n",
    "Alleen dan convergeert de blauwe EV‑lijn in Figuur 1 naar een even steile daling in de gestippelde CO₂‑lijn."
   ]
  },
  {
   "cell_type": "markdown",
   "id": "8b367494",
   "metadata": {},
   "source": [
    "### Samenvatting\n",
    "De elektrische auto wordt vaak gepresenteerd als dé oplossing tegen klimaatverandering: stil, schoon en cruciaal voor het behalen van de Europese klimaatdoelen. Maar is dat beeld wel terecht?\n",
    "\n",
    "Onze analyse van data uit 27 Europese landen (2010–2023) laat een gemengd beeld zien. In landen als Noorwegen – koploper in elektrificatie – daalt de CO₂-uitstoot van nieuwe auto's sterk. Hier lijkt de elektrische auto daadwerkelijk het verschil te maken.\n",
    "\n",
    "Toch is het beeld niet overal zo rooskleurig. In Nederland, Duitsland en Frankrijk groeit het aantal elektrische auto's, maar de uitstoot daalt langzamer en soms nauwelijks. Dat roept de vraag op: is elektrificatie genoeg, of zijn bredere veranderingen nodig – zoals groene stroom en duurzamere productie?\n",
    "\n",
    "De cijfers vertellen twee verhalen. Aan ons de keuze: zien we de elektrische auto als dé held, of als slechts één onderdeel van een grotere klimaatoplossing?"
   ]
  },
  {
   "cell_type": "markdown",
   "id": "546b637f",
   "metadata": {},
   "source": []
  }
 ],
 "metadata": {
  "kernelspec": {
   "display_name": "jupyterbook",
   "language": "python",
   "name": "python3"
  },
  "language_info": {
   "codemirror_mode": {
    "name": "ipython",
    "version": 3
   },
   "file_extension": ".py",
   "mimetype": "text/x-python",
   "name": "python",
   "nbconvert_exporter": "python",
   "pygments_lexer": "ipython3",
   "version": "3.10.16"
  }
 },
 "nbformat": 4,
 "nbformat_minor": 5
}
