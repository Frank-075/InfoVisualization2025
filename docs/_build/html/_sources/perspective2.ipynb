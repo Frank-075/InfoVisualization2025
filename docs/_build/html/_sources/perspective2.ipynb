{
 "cells": [
  {
   "cell_type": "markdown",
   "id": "7a0592ce",
   "metadata": {},
   "source": [
    "\n",
    "# Perspectief 2 – Beperkte impact van EV‑adoptie\n",
    "Dit hoofdstuk bekijkt in hoeverre de huidige adoptie van elektrische voertuigen (EV’s)\n",
    "**niet altijd** resulteert in een uniforme of significante daling van de CO₂‑uitstoot\n",
    "van nieuw geregistreerde auto’s.\n",
    "\n",
    "We presenteren twee visualisaties:\n",
    "\n",
    "1. **Lijngrafiek** – Evolutie van CO₂‑uitstoot per land (2013‑2023)  \n",
    "2. **Interactieve kaart** – EV‑aandeel per land met jaarslider\n"
   ]
  },
  {
   "cell_type": "code",
   "execution_count": 1,
   "id": "a08b765e",
   "metadata": {},
   "outputs": [],
   "source": [
    "\n",
    "import pandas as pd\n",
    "import plotly.express as px\n",
    "import plotly.graph_objects as go\n",
    "\n",
    "cars = pd.read_csv('../data/cars_by_fuel.csv')\n",
    "co2  = pd.read_csv('../data/co2_new_cars.csv')\n",
    "\n",
    "# --- merge & EV‑share ---\n",
    "tmp = {}\n",
    "for _, r in cars.iterrows():\n",
    "    key = f\"{r.geo}-{r.TIME_PERIOD}\"\n",
    "    tmp.setdefault(key, {'geo': r.geo, 'year': int(r.TIME_PERIOD),\n",
    "                         'elc': 0, 'total': 0})\n",
    "    if r.mot_nrg == 'ELC':\n",
    "        tmp[key]['elc'] = r.OBS_VALUE\n",
    "    elif r.mot_nrg == 'TOTAL':\n",
    "        tmp[key]['total'] = r.OBS_VALUE\n",
    "\n",
    "for _, r in co2.iterrows():\n",
    "    key = f\"{r.geo}-{r.TIME_PERIOD}\"\n",
    "    if key in tmp:\n",
    "        tmp[key]['co2'] = r.OBS_VALUE\n",
    "\n",
    "df = (pd.DataFrame(tmp.values())\n",
    "        .dropna(subset=['co2'])\n",
    "        .assign(evShare=lambda d: d.elc / d.total * 100))\n",
    "\n",
    "focus_codes = ['NL','DE','NO','PL','FR','ES']\n",
    "focus = df[df.geo.isin(focus_codes)]\n"
   ]
  },
  {
   "cell_type": "markdown",
   "id": "a74f03cb",
   "metadata": {},
   "source": [
    "## Visualisatie 2.1 – Evolutie CO₂‑uitstoot per land"
   ]
  },
  {
   "cell_type": "code",
   "execution_count": 2,
   "id": "a872c553",
   "metadata": {},
   "outputs": [
    {
     "data": {
      "text/html": [
       "<iframe\n",
       "    scrolling=\"no\"\n",
       "    width=\"100%\"\n",
       "    height=\"545px\"\n",
       "    src=\"iframe_figures/figure_2.html\"\n",
       "    frameborder=\"0\"\n",
       "    allowfullscreen\n",
       "></iframe>\n"
      ]
     },
     "metadata": {},
     "output_type": "display_data"
    }
   ],
   "source": [
    "\n",
    "fig_line = px.line(focus, x='year', y='co2', color='geo',\n",
    "                   title='Gem. CO₂‑uitstoot nieuwe auto’s (2013‑2023)',\n",
    "                   labels=dict(year='Jaar', co2='CO₂ (g/km)', geo='Land'))\n",
    "fig_line.update_traces(mode='lines+markers')\n",
    "fig_line.show()\n"
   ]
  },
  {
   "cell_type": "markdown",
   "id": "7c0dba25",
   "metadata": {},
   "source": [
    "Opvallend is dat alleen Noorwegen een **scherpe** daling laat zien; andere landen tonen een gematigder of wisselend patroon."
   ]
  },
  {
   "cell_type": "markdown",
   "id": "5d9cc3c2",
   "metadata": {},
   "source": [
    "## Visualisatie 2.2 – EV‑aandeel per land (choropleth met slider)"
   ]
  },
  {
   "cell_type": "code",
   "execution_count": 3,
   "id": "7da9c8ea",
   "metadata": {},
   "outputs": [
    {
     "data": {
      "text/html": [
       "<iframe\n",
       "    scrolling=\"no\"\n",
       "    width=\"100%\"\n",
       "    height=\"545px\"\n",
       "    src=\"iframe_figures/figure_3.html\"\n",
       "    frameborder=\"0\"\n",
       "    allowfullscreen\n",
       "></iframe>\n"
      ]
     },
     "metadata": {},
     "output_type": "display_data"
    }
   ],
   "source": [
    "\n",
    "iso_map = {'AT':'AUT','BE':'BEL','BG':'BGR','HR':'HRV','CY':'CYP','CZ':'CZE','DK':'DNK','EE':'EST',\n",
    "           'FI':'FIN','FR':'FRA','DE':'DEU','EL':'GRC','HU':'HUN','IE':'IRL','IT':'ITA','LV':'LVA',\n",
    "           'LT':'LTU','LU':'LUX','MT':'MLT','NL':'NLD','PL':'POL','PT':'PRT','RO':'ROU','SK':'SVK',\n",
    "           'SI':'SVN','ES':'ESP','SE':'SWE','NO':'NOR','IS':'ISL','CH':'CHE','UK':'GBR'}\n",
    "\n",
    "df['iso3'] = df.geo.map(iso_map)\n",
    "rows = df.dropna(subset=['iso3'])\n",
    "\n",
    "years = sorted(rows.year.unique())\n",
    "zmax = rows.evShare.quantile(0.98)\n",
    "\n",
    "frames = []\n",
    "for yr in years:\n",
    "    sub = rows[rows.year == yr]\n",
    "    frames.append(go.Frame(name=str(yr),\n",
    "                           data=[go.Choropleth(locations=sub.iso3,\n",
    "                                               z=sub.evShare,\n",
    "                                               text=sub.geo,\n",
    "                                               colorscale='Viridis',\n",
    "                                               zmin=0, zmax=zmax,\n",
    "                                               hovertemplate='%{text}: %{z:.2f}%<extra></extra>')]))\n",
    "\n",
    "fig_map = go.Figure(\n",
    "    data=frames[0].data,\n",
    "    frames=frames,\n",
    "    layout=go.Layout(\n",
    "        title=f'EV‑aandeel per land ({years[0]})',\n",
    "        geo=dict(scope='europe', projection_type='natural earth',\n",
    "                 showframe=False, showcountries=True),\n",
    "        sliders=[dict(steps=[dict(method='animate', label=str(y),\n",
    "                                  args=[[str(y)], dict(mode='immediate',\n",
    "                                                       frame=dict(duration=500, redraw=False),\n",
    "                                                       transition=dict(duration=300))])\n",
    "                            for y in years],\n",
    "                      currentvalue=dict(prefix='Jaar: '),\n",
    "                      pad=dict(t=30))]\n",
    "    ))\n",
    "fig_map.show()\n"
   ]
  },
  {
   "cell_type": "markdown",
   "id": "dec1f3d3",
   "metadata": {},
   "source": [
    "De kaart laat zien dat de **hoge EV‑penetratie** vrijwel exclusief is voor Noorwegen (en in mindere mate Nederland), terwijl een groot deel van Europa onder de 5 % blijft. Dat verklaart waarom de totale CO₂‑daling in vis. 2.1 beperkt is."
   ]
  }
 ],
 "metadata": {
  "kernelspec": {
   "display_name": "base",
   "language": "python",
   "name": "python3"
  },
  "language_info": {
   "codemirror_mode": {
    "name": "ipython",
    "version": 3
   },
   "file_extension": ".py",
   "mimetype": "text/x-python",
   "name": "python",
   "nbconvert_exporter": "python",
   "pygments_lexer": "ipython3",
   "version": "3.12.7"
  }
 },
 "nbformat": 4,
 "nbformat_minor": 5
}
