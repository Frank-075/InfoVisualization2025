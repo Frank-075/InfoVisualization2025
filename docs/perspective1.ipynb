{
 "cells": [
  {
   "cell_type": "markdown",
   "id": "70113071",
   "metadata": {},
   "source": [
    "\n",
    "# Perspectief 1 – EV’s als primaire oplossing\n",
    "Dit hoofdstuk onderzoekt of een stijgend aandeel elektrische voertuigen (EV’s) leidt tot **lagere CO₂‑uitstoot** van nieuw geregistreerde auto’s.  \n",
    "We gebruiken twee visualisaties:\n",
    "\n",
    "1. **Lijngrafiek** – EV‑aandeel per land (2010‑2023)  \n",
    "2. **Scatter + slider** – EV‑aandeel vs CO₂‑uitstoot per land/jaar\n"
   ]
  },
  {
   "cell_type": "code",
   "execution_count": 1,
   "id": "453b4195",
   "metadata": {},
   "outputs": [],
   "source": [
    "\n",
    "import pandas as pd\n",
    "import plotly.express as px\n",
    "import plotly.graph_objects as go\n",
    "\n",
    "# relatieve paden vanuit docs/\n",
    "cars = pd.read_csv('../data/cars_by_fuel.csv')\n",
    "co2  = pd.read_csv('../data/co2_new_cars.csv')\n",
    "\n",
    "# ---------- Voorbewerking ----------\n",
    "tmp = {}                       # key = geo-year\n",
    "for _, r in cars.iterrows():\n",
    "    key = f\"{r.geo}-{r.TIME_PERIOD}\"\n",
    "    tmp.setdefault(key, {'geo': r.geo, 'year': int(r.TIME_PERIOD),\n",
    "                         'elc': 0, 'total': 0})\n",
    "    if r.mot_nrg == 'ELC':\n",
    "        tmp[key]['elc'] = r.OBS_VALUE\n",
    "    elif r.mot_nrg == 'TOTAL':\n",
    "        tmp[key]['total'] = r.OBS_VALUE\n",
    "\n",
    "for _, r in co2.iterrows():\n",
    "    key = f\"{r.geo}-{r.TIME_PERIOD}\"\n",
    "    if key in tmp:\n",
    "        tmp[key]['co2'] = r.OBS_VALUE\n",
    "\n",
    "df = (pd.DataFrame(tmp.values())\n",
    "        .dropna(subset=['co2'])\n",
    "        .assign(evShare=lambda d: d.elc / d.total * 100))\n",
    "\n",
    "focus = df[df.geo.isin(['NL', 'DE', 'NO', 'PL', 'FR', 'ES'])]  # zes landen\n",
    "code2name = dict(NL='Nederland', DE='Duitsland', NO='Noorwegen',\n",
    "                 PL='Polen',     FR='Frankrijk', ES='Spanje')\n"
   ]
  },
  {
   "cell_type": "markdown",
   "id": "bbc340ed",
   "metadata": {},
   "source": [
    "## Visualisatie 1.1 – EV‑aandeel per land (2010‑2023)"
   ]
  },
  {
   "cell_type": "code",
   "execution_count": 2,
   "id": "b3dee7b1",
   "metadata": {},
   "outputs": [
    {
     "data": {
      "text/html": [
       "<iframe\n",
       "    scrolling=\"no\"\n",
       "    width=\"100%\"\n",
       "    height=\"545px\"\n",
       "    src=\"iframe_figures/figure_2.html\"\n",
       "    frameborder=\"0\"\n",
       "    allowfullscreen\n",
       "></iframe>\n"
      ]
     },
     "metadata": {},
     "output_type": "display_data"
    }
   ],
   "source": [
    "\n",
    "fig_line = px.line(\n",
    "    focus.replace({'geo': code2name}),\n",
    "    x='year', y='evShare', color='geo',\n",
    "    title='EV‑aandeel in geselecteerde landen',\n",
    "    labels=dict(year='Jaar', evShare='EV‑aandeel (%)', geo='Land')\n",
    ")\n",
    "fig_line.update_traces(mode='lines+markers')\n",
    "fig_line.update_yaxes(ticksuffix='%')\n",
    "fig_line.show()\n"
   ]
  },
  {
   "cell_type": "markdown",
   "id": "e46409ac",
   "metadata": {},
   "source": [
    "**Interpretatie**  \n",
    "Noorwegen springt eruit met het hoogste EV‑aandeel, terwijl Polen en Spanje achterblijven. Beleidskeuzes en laadinfrastructuur blijken bepalend."
   ]
  },
  {
   "cell_type": "markdown",
   "id": "16c6926e",
   "metadata": {},
   "source": [
    "## Visualisatie 1.2 – CO₂‑uitstoot vs. EV‑aandeel (slider)"
   ]
  },
  {
   "cell_type": "code",
   "execution_count": 3,
   "id": "1d4012d7",
   "metadata": {},
   "outputs": [
    {
     "data": {
      "text/html": [
       "<iframe\n",
       "    scrolling=\"no\"\n",
       "    width=\"100%\"\n",
       "    height=\"545px\"\n",
       "    src=\"iframe_figures/figure_3.html\"\n",
       "    frameborder=\"0\"\n",
       "    allowfullscreen\n",
       "></iframe>\n"
      ]
     },
     "metadata": {},
     "output_type": "display_data"
    }
   ],
   "source": [
    "\n",
    "frames = []\n",
    "for yr, grp in focus.groupby('year'):\n",
    "    frames.append(go.Frame(\n",
    "        name=str(yr),\n",
    "        data=[go.Scatter(\n",
    "            x=grp.evShare,\n",
    "            y=grp.co2,\n",
    "            mode='markers',\n",
    "            text=grp.geo.map(code2name),\n",
    "            marker=dict(size=10, color='#3b82f6', line=dict(width=1, color='#1e40af')),\n",
    "            hovertemplate='%{text}<br>EV: %{x:.2f}%<br>CO₂: %{y:.1f} g/km<extra></extra>'\n",
    "        )]\n",
    "    ))\n",
    "\n",
    "layout = go.Layout(\n",
    "    title=f'CO₂‑uitstoot vs. EV‑aandeel ({frames[0].name})',\n",
    "    xaxis=dict(title='EV‑aandeel (%)', ticksuffix='%'),\n",
    "    yaxis=dict(title='Gem. CO₂ (g/km)'),\n",
    "    sliders=[dict(\n",
    "        steps=[dict(method='animate',\n",
    "                    label=f.name,\n",
    "                    args=[[f.name],\n",
    "                          dict(mode='immediate',\n",
    "                               frame=dict(duration=400, redraw=False),\n",
    "                               transition=dict(duration=300))])\n",
    "               for f in frames],\n",
    "        currentvalue=dict(prefix='Jaar: ')\n",
    "    )]\n",
    ")\n",
    "\n",
    "fig_scatter = go.Figure(data=frames[0].data, frames=frames, layout=layout)\n",
    "fig_scatter.show()\n"
   ]
  },
  {
   "cell_type": "markdown",
   "id": "3306a9a1",
   "metadata": {},
   "source": [
    "Ook hier zien we een **negatieve correlatie**: landen met een groter EV‑aandeel hebben doorgaans lagere gemiddelde CO₂‑uitstoot per kilometer."
   ]
  }
 ],
 "metadata": {
  "kernelspec": {
   "display_name": "base",
   "language": "python",
   "name": "python3"
  },
  "language_info": {
   "codemirror_mode": {
    "name": "ipython",
    "version": 3
   },
   "file_extension": ".py",
   "mimetype": "text/x-python",
   "name": "python",
   "nbconvert_exporter": "python",
   "pygments_lexer": "ipython3",
   "version": "3.12.7"
  }
 },
 "nbformat": 4,
 "nbformat_minor": 5
}
